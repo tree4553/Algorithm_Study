{
 "cells": [
  {
   "cell_type": "markdown",
   "metadata": {},
   "source": [
    "https://leetcode.com/problems/squares-of-a-sorted-array/description/?envType=study-plan&id=algorithm-i"
   ]
  },
  {
   "cell_type": "code",
   "execution_count": null,
   "metadata": {},
   "outputs": [],
   "source": [
    "class Solution:\n",
    "    def sortedSquares(self, nums: List[int]) -> List[int]:\n",
    "        for i in range(len(nums)):\n",
    "            nums[i] = nums[i] * nums[i]\n",
    "        \n",
    "        nums.sort()\n",
    "        return nums"
   ]
  },
  {
   "cell_type": "markdown",
   "metadata": {},
   "source": [
    "![nn](img/977.Squares_of_a_Sorted_Array.PNG)"
   ]
  },
  {
   "cell_type": "markdown",
   "metadata": {},
   "source": [
    "좋은 풀이  \n",
    "https://leetcode.com/problems/squares-of-a-sorted-array/solutions/310865/python-a-comparison-of-lots-of-approaches-sorting-two-pointers-deque-iterator-generator/?envType=study-plan&id=algorithm-i&languageTags=python"
   ]
  },
  {
   "cell_type": "code",
   "execution_count": null,
   "metadata": {},
   "outputs": [],
   "source": [
    "class Solution:\n",
    "    def sortedSquares(self, A: List[int]) -> List[int]:\n",
    "        result = [None for _ in A]\n",
    "        left, right = 0, len(A) - 1\n",
    "        for index in range(len(A)-1, -1, -1):\n",
    "            if abs(A[left]) > abs(A[right]):\n",
    "                result[index] = A[left] ** 2\n",
    "                left += 1\n",
    "            else:\n",
    "                result[index] = A[right] ** 2\n",
    "                right -= 1\n",
    "        return result"
   ]
  }
 ],
 "metadata": {
  "kernelspec": {
   "display_name": "Python 3.11.0 64-bit",
   "language": "python",
   "name": "python3"
  },
  "language_info": {
   "name": "python",
   "version": "3.11.0"
  },
  "orig_nbformat": 4,
  "vscode": {
   "interpreter": {
    "hash": "f5ff168696553f3e2cb115c273c46eeb315c32b0d0536992c4bad2740a7f9469"
   }
  }
 },
 "nbformat": 4,
 "nbformat_minor": 2
}
