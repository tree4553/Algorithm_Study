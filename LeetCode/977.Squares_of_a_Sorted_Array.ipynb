{
 "cells": [
  {
   "cell_type": "markdown",
   "metadata": {},
   "source": [
    "https://leetcode.com/problems/squares-of-a-sorted-array/description/?envType=study-plan&id=algorithm-i"
   ]
  },
  {
   "cell_type": "code",
   "execution_count": null,
   "metadata": {},
   "outputs": [],
   "source": [
    "class Solution:\n",
    "    def sortedSquares(self, nums: List[int]) -> List[int]:\n",
    "        for i in range(len(nums)):\n",
    "            nums[i] = nums[i] * nums[i]\n",
    "        \n",
    "        nums.sort()\n",
    "        return nums"
   ]
  },
  {
   "cell_type": "markdown",
   "metadata": {},
   "source": [
    "![nn](img/977.Squares_of_a_Sorted_Array.PNG)"
   ]
  },
  {
   "cell_type": "markdown",
   "metadata": {},
   "source": [
    "좋은 풀이  \n",
    "https://leetcode.com/problems/squares-of-a-sorted-array/solutions/310865/python-a-comparison-of-lots-of-approaches-sorting-two-pointers-deque-iterator-generator/?envType=study-plan&id=algorithm-i&languageTags=python"
   ]
  }
 ],
 "metadata": {
  "language_info": {
   "name": "python"
  },
  "orig_nbformat": 4
 },
 "nbformat": 4,
 "nbformat_minor": 2
}
