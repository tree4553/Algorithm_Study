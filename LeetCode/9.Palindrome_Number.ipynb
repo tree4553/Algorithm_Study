{
 "cells": [
  {
   "cell_type": "markdown",
   "id": "05cbe98f",
   "metadata": {},
   "source": [
    "https://leetcode.com/problems/palindrome-number/description/"
   ]
  },
  {
   "cell_type": "code",
   "execution_count": null,
   "id": "cf13fb78",
   "metadata": {},
   "outputs": [],
   "source": [
    "class Solution(object):\n",
    "    def isPalindrome(self, x):\n",
    "        \"\"\"\n",
    "        :type x: int\n",
    "        :rtype: bool\n",
    "        \"\"\"\n",
    "        if x < 0:\n",
    "            return False\n",
    "        answer = True\n",
    "        arr = list(map(int, str(x)))\n",
    "        for i in range(len(arr)//2):\n",
    "            if arr[i] != arr[len(arr) - 1 - i]:\n",
    "                return False\n",
    "        return answer"
   ]
  },
  {
   "cell_type": "markdown",
   "id": "2cfeae62",
   "metadata": {},
   "source": [
    "![nn](9.Palindrome_Number.GIF)"
   ]
  }
 ],
 "metadata": {
  "kernelspec": {
   "display_name": "Python 3",
   "language": "python",
   "name": "python3"
  },
  "language_info": {
   "codemirror_mode": {
    "name": "ipython",
    "version": 3
   },
   "file_extension": ".py",
   "mimetype": "text/x-python",
   "name": "python",
   "nbconvert_exporter": "python",
   "pygments_lexer": "ipython3",
   "version": "3.8.8"
  }
 },
 "nbformat": 4,
 "nbformat_minor": 5
}
