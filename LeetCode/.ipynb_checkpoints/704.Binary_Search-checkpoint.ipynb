{
 "cells": [
  {
   "cell_type": "markdown",
   "id": "d9ab7415",
   "metadata": {},
   "source": [
    "https://leetcode.com/problems/binary-search/?envType=study-plan&id=algorithm-i"
   ]
  },
  {
   "cell_type": "code",
   "execution_count": null,
   "id": "2acfcf71",
   "metadata": {},
   "outputs": [],
   "source": [
    "class Solution:\n",
    "    def search(self, nums: List[int], target: int) -> int:\n",
    "        if target not in nums:\n",
    "            return -1\n",
    "        else:\n",
    "            return nums.index(target)"
   ]
  },
  {
   "cell_type": "markdown",
   "id": "10583855",
   "metadata": {},
   "source": [
    "![nn](img/704.Binary_Search.GIF)"
   ]
  }
 ],
 "metadata": {
  "kernelspec": {
   "display_name": "Python 3",
   "language": "python",
   "name": "python3"
  },
  "language_info": {
   "codemirror_mode": {
    "name": "ipython",
    "version": 3
   },
   "file_extension": ".py",
   "mimetype": "text/x-python",
   "name": "python",
   "nbconvert_exporter": "python",
   "pygments_lexer": "ipython3",
   "version": "3.8.8"
  }
 },
 "nbformat": 4,
 "nbformat_minor": 5
}
