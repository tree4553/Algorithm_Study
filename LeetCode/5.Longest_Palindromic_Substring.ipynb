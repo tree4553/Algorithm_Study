{
 "cells": [
  {
   "cell_type": "markdown",
   "metadata": {},
   "source": [
    "https://leetcode.com/problems/longest-palindromic-substring/description/"
   ]
  },
  {
   "cell_type": "code",
   "execution_count": null,
   "metadata": {},
   "outputs": [],
   "source": [
    "class Solution:\n",
    "    def longestPalindrome(self, s: str) -> str:\n",
    "        if len(s) == 1:\n",
    "            return s\n",
    "        start = 0\n",
    "        end = 0\n",
    "        size = len(s)\n",
    "        max_Length = 0\n",
    "        answer = \"\"\n",
    "        answer_start = 0\n",
    "        answer_end = 0\n",
    "\n",
    "        # catch abcba\n",
    "        for i in range(size - 1):\n",
    "            start = i - 1\n",
    "            end = i + 1\n",
    "            while start >= 0 and end < size and s[start] == s[end]:\n",
    "                if max_Length < end - start:\n",
    "                    max_Length = end - start\n",
    "                    answer_start = start\n",
    "                    answer_end = end                \n",
    "                start -= 1\n",
    "                end += 1\n",
    "        \n",
    "        # catch abba\n",
    "        for i in range(size - 1):\n",
    "            start = i\n",
    "            end = i + 1\n",
    "            while start >= 0 and end < size and s[start] == s[end]:\n",
    "                if max_Length < end - start:\n",
    "                    max_Length = end - start\n",
    "                    answer_start = start\n",
    "                    answer_end = end\n",
    "                start -= 1\n",
    "                end += 1\n",
    "                \n",
    "        answer = s[answer_start:answer_end + 1]\n",
    "        return answer\n"
   ]
  },
  {
   "cell_type": "markdown",
   "metadata": {},
   "source": [
    "![nn](img/5.Longest_Palindromic_Substring.PNG)"
   ]
  }
 ],
 "metadata": {
  "language_info": {
   "name": "python"
  },
  "orig_nbformat": 4
 },
 "nbformat": 4,
 "nbformat_minor": 2
}
