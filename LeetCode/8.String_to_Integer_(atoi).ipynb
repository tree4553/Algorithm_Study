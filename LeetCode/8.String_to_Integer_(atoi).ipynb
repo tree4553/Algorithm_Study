{
 "cells": [
  {
   "cell_type": "markdown",
   "metadata": {},
   "source": [
    "https://leetcode.com/problems/string-to-integer-atoi/description/"
   ]
  },
  {
   "cell_type": "code",
   "execution_count": null,
   "metadata": {},
   "outputs": [],
   "source": [
    "class Solution:\n",
    "    def myAtoi(self, s: str) -> int:\n",
    "        answer = 0\n",
    "        arr = s.split()\n",
    "        print(arr)\n",
    "        for a in arr:\n",
    "            try:\n",
    "                answer = int(a)\n",
    "                print(answer)\n",
    "            except:\n",
    "                continue\n",
    "            \n",
    "        return answer"
   ]
  },
  {
   "cell_type": "markdown",
   "metadata": {},
   "source": [
    "![nn](img/8.String_to_Integer_(atoi).PNG)"
   ]
  },
  {
   "cell_type": "markdown",
   "metadata": {},
   "source": [
    "![nn](img/8.String_to_Integer_(atoi)_discussion.PNG)"
   ]
  },
  {
   "cell_type": "markdown",
   "metadata": {},
   "source": [
    "문제의 테스트 케이스가 이상한거 같다."
   ]
  }
 ],
 "metadata": {
  "language_info": {
   "name": "python"
  },
  "orig_nbformat": 4
 },
 "nbformat": 4,
 "nbformat_minor": 2
}
