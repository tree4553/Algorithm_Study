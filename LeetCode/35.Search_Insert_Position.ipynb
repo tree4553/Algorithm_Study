{
 "cells": [
  {
   "cell_type": "markdown",
   "metadata": {},
   "source": [
    "https://leetcode.com/problems/search-insert-position/?envType=study-plan&id=algorithm-i"
   ]
  },
  {
   "cell_type": "code",
   "execution_count": null,
   "metadata": {},
   "outputs": [],
   "source": [
    "class Solution:\n",
    "    def searchInsert(self, nums: List[int], target: int) -> int:\n",
    "        if target in nums:\n",
    "            return nums.index(target)\n",
    "        \n",
    "        if target < nums[0]:\n",
    "            return 0\n",
    "\n",
    "        if target > nums[-1]:\n",
    "            return len(nums)\n",
    "\n",
    "        start = 0\n",
    "        end = len(nums) - 1\n",
    "        while True:\n",
    "            mid = (start + end) // 2\n",
    "            if nums[mid] < target < nums[mid + 1]:\n",
    "                return mid + 1\n",
    "            elif target > nums[mid + 1]:\n",
    "                start = mid + 1\n",
    "            elif target < nums[mid]:\n",
    "                end = mid - 1"
   ]
  },
  {
   "cell_type": "markdown",
   "metadata": {},
   "source": [
    "![nn](img/35.Search_Insert_Position.PNG)"
   ]
  }
 ],
 "metadata": {
  "language_info": {
   "name": "python"
  },
  "orig_nbformat": 4
 },
 "nbformat": 4,
 "nbformat_minor": 2
}
