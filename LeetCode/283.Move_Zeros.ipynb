{
 "cells": [
  {
   "cell_type": "markdown",
   "metadata": {},
   "source": [
    "https://leetcode.com/problems/move-zeroes/description/?envType=study-plan&id=algorithm-i"
   ]
  },
  {
   "cell_type": "code",
   "execution_count": null,
   "metadata": {},
   "outputs": [],
   "source": [
    "class Solution:\n",
    "    def moveZeroes(self, nums: List[int]) -> None:\n",
    "        \"\"\"\n",
    "        Do not return anything, modify nums in-place instead.\n",
    "        \"\"\"\n",
    "        if len(nums) == 1:\n",
    "            return\n",
    "        if max(nums) == 0:\n",
    "            return\n",
    "        i = 0\n",
    "        end = len(nums)\n",
    "        while i < end:\n",
    "            if nums[i] == 0:\n",
    "                nums.pop(i)\n",
    "                nums.append(0)\n",
    "                end -= 1\n",
    "            else:\n",
    "                i += 1\n",
    "        return"
   ]
  },
  {
   "cell_type": "markdown",
   "metadata": {},
   "source": [
    "![nn](img/283.Move_Zeros.PNG)"
   ]
  }
 ],
 "metadata": {
  "language_info": {
   "name": "python"
  },
  "orig_nbformat": 4
 },
 "nbformat": 4,
 "nbformat_minor": 2
}
