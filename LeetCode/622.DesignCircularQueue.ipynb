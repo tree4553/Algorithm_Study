{
 "cells": [
  {
   "cell_type": "markdown",
   "metadata": {},
   "source": [
    "https://leetcode.com/problems/design-circular-queue/description/"
   ]
  },
  {
   "cell_type": "code",
   "execution_count": null,
   "metadata": {},
   "outputs": [],
   "source": [
    "class MyCircularQueue:\n",
    "    size = 0\n",
    "    arr = []\n",
    "    \n",
    "    def __init__(self, k: int):\n",
    "        self.size = k\n",
    "        self.arr = []\n",
    "\n",
    "    def enQueue(self, value: int) -> bool:\n",
    "        if len(self.arr) >= self.size:\n",
    "            return False\n",
    "\n",
    "        self.arr.append(value)\n",
    "        return True\n",
    "\n",
    "    def deQueue(self) -> bool:\n",
    "        if len(self.arr) == 0:\n",
    "            return False\n",
    "        \n",
    "        del(self.arr[0])\n",
    "        return True\n",
    "        \n",
    "    def Front(self) -> int:\n",
    "        if len(self.arr) == 0:\n",
    "            return -1\n",
    "        return self.arr[0]\n",
    "\n",
    "    def Rear(self) -> int:\n",
    "        if len(self.arr) == 0:\n",
    "            return -1\n",
    "        return self.arr[-1]\n",
    "\n",
    "    def isEmpty(self) -> bool:\n",
    "        if len(self.arr) == 0:\n",
    "            return True\n",
    "        return False\n",
    "\n",
    "    def isFull(self) -> bool:\n",
    "        if len(self.arr) == self.size:\n",
    "            return True\n",
    "        return False\n",
    "\n",
    "\n",
    "# Your MyCircularQueue object will be instantiated and called as such:\n",
    "# obj = MyCircularQueue(k)\n",
    "# param_1 = obj.enQueue(value)\n",
    "# param_2 = obj.deQueue()\n",
    "# param_3 = obj.Front()\n",
    "# param_4 = obj.Rear()\n",
    "# param_5 = obj.isEmpty()\n",
    "# param_6 = obj.isFull()"
   ]
  },
  {
   "cell_type": "markdown",
   "metadata": {},
   "source": [
    "![nn](img/622.DesignCircularQueue.PNG)"
   ]
  }
 ],
 "metadata": {
  "language_info": {
   "name": "python"
  },
  "orig_nbformat": 4
 },
 "nbformat": 4,
 "nbformat_minor": 2
}
