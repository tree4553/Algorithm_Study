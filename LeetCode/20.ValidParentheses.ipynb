{
 "cells": [
  {
   "cell_type": "markdown",
   "metadata": {},
   "source": [
    "https://leetcode.com/problems/valid-parentheses/"
   ]
  },
  {
   "cell_type": "code",
   "execution_count": null,
   "metadata": {},
   "outputs": [],
   "source": [
    "class Solution:\n",
    "    def isValid(self, s: str) -> bool:\n",
    "        for i in range(len(s)):\n",
    "            if s[i] == \"(\":\n",
    "                temp = False\n",
    "                for j in range(i + 1, len(s)):\n",
    "                    if s[j] == \")\":\n",
    "                        temp = True\n",
    "                        break\n",
    "                if temp == False:\n",
    "                    return False\n",
    "            if s[i] == \"{\":\n",
    "                temp = False\n",
    "                for j in range(i + 1, len(s)):\n",
    "                    if s[j] == \"}\":\n",
    "                        temp = True\n",
    "                        break\n",
    "                if temp == False:\n",
    "                    return False\n",
    "            if s[i] == \"[\":\n",
    "                temp = False\n",
    "                for j in range(i + 1, len(s)):\n",
    "                    if s[j] == \"]\":\n",
    "                        temp = True\n",
    "                        break\n",
    "                if temp == False:\n",
    "                    return False\n",
    "        return True"
   ]
  },
  {
   "cell_type": "markdown",
   "metadata": {},
   "source": [
    "첫번째 시도 실패  \n",
    "실패 사례 :  \n",
    "Input s = \"([)]\"  \n",
    "Output true  \n",
    "Expected false"
   ]
  },
  {
   "cell_type": "code",
   "execution_count": null,
   "metadata": {},
   "outputs": [],
   "source": [
    "class Solution:\n",
    "    def isValid(self, s: str) -> bool:\n",
    "        stack = []\n",
    "        for char in s:\n",
    "            if char == \"[\" or char == \"(\" or char == \"{\":\n",
    "                stack.append(char)\n",
    "            elif char == \"]\" or char == \")\" or char == \"}\":\n",
    "                if len(stack) <= 0:\n",
    "                    return False\n",
    "                last = stack.pop()\n",
    "                if last == \"[\" and char != \"]\":\n",
    "                    return False\n",
    "                elif last == \"(\" and char != \")\":\n",
    "                    return False\n",
    "                elif last == \"{\" and char != \"}\":\n",
    "                    return False\n",
    "        \n",
    "        if len(stack) != 0:\n",
    "            return False\n",
    "        \n",
    "        return True"
   ]
  },
  {
   "cell_type": "markdown",
   "metadata": {},
   "source": [
    "![nn](img/20.ValidParentheses.PNG)"
   ]
  }
 ],
 "metadata": {
  "language_info": {
   "name": "python"
  },
  "orig_nbformat": 4
 },
 "nbformat": 4,
 "nbformat_minor": 2
}
