{
 "cells": [
  {
   "cell_type": "markdown",
   "metadata": {},
   "source": [
    "https://leetcode.com/problems/reverse-integer/description/"
   ]
  },
  {
   "cell_type": "code",
   "execution_count": null,
   "metadata": {},
   "outputs": [],
   "source": [
    "class Solution:\n",
    "    def reverse(self, x: int) -> int:\n",
    "        answer = 0\n",
    "        temp = str(x)\n",
    "        arr = list(map(str, temp))\n",
    "        arr.reverse()\n",
    "        if arr[-1] == '-':\n",
    "            arr.insert(0,'-')\n",
    "            arr.pop(-1)\n",
    "        temp = ''.join(arr)\n",
    "        answer = int(temp)\n",
    "        if -(2**31) > answer or answer > 2**31 -1:\n",
    "            return 0\n",
    "        return answer"
   ]
  },
  {
   "cell_type": "markdown",
   "metadata": {},
   "source": [
    "![nn](img/7.Reverse_Integer.PNG)"
   ]
  }
 ],
 "metadata": {
  "language_info": {
   "name": "python"
  },
  "orig_nbformat": 4
 },
 "nbformat": 4,
 "nbformat_minor": 2
}
