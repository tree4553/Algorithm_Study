{
 "cells": [
  {
   "cell_type": "markdown",
   "id": "ebcecdb8",
   "metadata": {},
   "source": [
    "https://leetcode.com/problems/first-bad-version/?envType=study-plan&id=algorithm-i"
   ]
  },
  {
   "cell_type": "code",
   "execution_count": null,
   "id": "143bc8c2",
   "metadata": {},
   "outputs": [],
   "source": [
    "# Try 1\n",
    "\n",
    "# The isBadVersion API is already defined for you.\n",
    "# def isBadVersion(version: int) -> bool:\n",
    "\n",
    "class Solution:\n",
    "    def firstBadVersion(self, n: int) -> int:\n",
    "        answer = 0\n",
    "        for i in range(n):\n",
    "            if isBadVersion(i) == False:\n",
    "                answer = i + 1\n",
    "            else:\n",
    "                break\n",
    "        return answer\n",
    "    \n",
    "'''\n",
    "입력값\n",
    "2126753390\n",
    "1702766719\n",
    "에서 시간 초과로 실패함\n",
    "''' "
   ]
  },
  {
   "cell_type": "code",
   "execution_count": null,
   "id": "cc4db749",
   "metadata": {},
   "outputs": [],
   "source": [
    "# The isBadVersion API is already defined for you.\n",
    "# def isBadVersion(version: int) -> bool:\n",
    "\n",
    "class Solution:\n",
    "    def firstBadVersion(self, n: int) -> int:\n",
    "        start = 1\n",
    "        end = n\n",
    "        if n == 1:\n",
    "            return 1\n",
    "\n",
    "        while True:\n",
    "            x = (start + end) // 2\n",
    "            \n",
    "            if isBadVersion(x) == False and isBadVersion(x+1) == True:\n",
    "                return x + 1\n",
    "            elif isBadVersion(x) == False and isBadVersion(x+1) == False:\n",
    "                start = x + 1\n",
    "            elif isBadVersion(x) == True and isBadVersion(x+1) == True:\n",
    "                end = x - 1\n",
    "\n",
    "        return answer"
   ]
  },
  {
   "cell_type": "markdown",
   "id": "71f6729b",
   "metadata": {},
   "source": [
    "![nn](img/278.First_Bad_Version.GIF)"
   ]
  }
 ],
 "metadata": {
  "kernelspec": {
   "display_name": "Python 3.11.0 64-bit",
   "language": "python",
   "name": "python3"
  },
  "language_info": {
   "codemirror_mode": {
    "name": "ipython",
    "version": 3
   },
   "file_extension": ".py",
   "mimetype": "text/x-python",
   "name": "python",
   "nbconvert_exporter": "python",
   "pygments_lexer": "ipython3",
   "version": "3.11.0"
  },
  "vscode": {
   "interpreter": {
    "hash": "f5ff168696553f3e2cb115c273c46eeb315c32b0d0536992c4bad2740a7f9469"
   }
  }
 },
 "nbformat": 4,
 "nbformat_minor": 5
}
