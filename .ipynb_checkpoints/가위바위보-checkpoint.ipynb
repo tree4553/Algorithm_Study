{
 "cells": [
  {
   "cell_type": "markdown",
   "id": "87f20b66",
   "metadata": {},
   "source": [
    "https://school.programmers.co.kr/learn/courses/30/lessons/120839"
   ]
  },
  {
   "cell_type": "code",
   "execution_count": null,
   "id": "6d4186a5",
   "metadata": {},
   "outputs": [],
   "source": [
    "def solution(rsp):\n",
    "    answer = ''\n",
    "    for i in range(len(rsp)):\n",
    "        if rsp[i] == '2':\n",
    "            answer += '0'\n",
    "        elif rsp[i] == '0':\n",
    "            answer += '5'\n",
    "        else:\n",
    "            answer += '2'\n",
    "    return answer"
   ]
  }
 ],
 "metadata": {
  "kernelspec": {
   "display_name": "Python 3",
   "language": "python",
   "name": "python3"
  },
  "language_info": {
   "codemirror_mode": {
    "name": "ipython",
    "version": 3
   },
   "file_extension": ".py",
   "mimetype": "text/x-python",
   "name": "python",
   "nbconvert_exporter": "python",
   "pygments_lexer": "ipython3",
   "version": "3.8.8"
  }
 },
 "nbformat": 4,
 "nbformat_minor": 5
}
