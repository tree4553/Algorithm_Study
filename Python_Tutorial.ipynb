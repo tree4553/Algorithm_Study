{
 "cells": [
  {
   "cell_type": "code",
   "execution_count": 2,
   "id": "e6dfdf12",
   "metadata": {},
   "outputs": [
    {
     "name": "stdout",
     "output_type": "stream",
     "text": [
      "1000\n",
      "-7\n",
      "0\n"
     ]
    }
   ],
   "source": [
    "# 양의 정수\n",
    "a = 1000\n",
    "print(a)\n",
    "\n",
    "# 음의 정수\n",
    "a = -7\n",
    "print(a)\n",
    "\n",
    "# 0\n",
    "a = 0\n",
    "print(a)"
   ]
  },
  {
   "cell_type": "code",
   "execution_count": 4,
   "id": "3991b1a5",
   "metadata": {},
   "outputs": [
    {
     "name": "stdout",
     "output_type": "stream",
     "text": [
      "157.93\n",
      "-1837.2\n",
      "5.0\n",
      "-0.7\n"
     ]
    }
   ],
   "source": [
    "# 양의 실수\n",
    "a = 157.93\n",
    "print(a)\n",
    "\n",
    "# 음의 실수\n",
    "a = -1837.2\n",
    "print(a)\n",
    "\n",
    "# 소수부가 0일 때 0을 생략\n",
    "a = 5.\n",
    "print(a)\n",
    "\n",
    "# 정수부가 0일 때 0을 생략\n",
    "a = -.7\n",
    "print(a)"
   ]
  },
  {
   "cell_type": "code",
   "execution_count": 6,
   "id": "e2a00115",
   "metadata": {},
   "outputs": [
    {
     "name": "stdout",
     "output_type": "stream",
     "text": [
      "1000000000.0\n",
      "752.5\n",
      "3.954\n"
     ]
    }
   ],
   "source": [
    "# 10억의 지수 표현 방식\n",
    "a = 1e9\n",
    "print(a)\n",
    "\n",
    "# 752.5\n",
    "a = 75.25e1\n",
    "print(a)\n",
    "\n",
    "# 3.954\n",
    "a = 3954e-3\n",
    "print(a)"
   ]
  },
  {
   "cell_type": "code",
   "execution_count": null,
   "id": "12c8dabb",
   "metadata": {},
   "outputs": [],
   "source": []
  }
 ],
 "metadata": {
  "kernelspec": {
   "display_name": "Python 3",
   "language": "python",
   "name": "python3"
  },
  "language_info": {
   "codemirror_mode": {
    "name": "ipython",
    "version": 3
   },
   "file_extension": ".py",
   "mimetype": "text/x-python",
   "name": "python",
   "nbconvert_exporter": "python",
   "pygments_lexer": "ipython3",
   "version": "3.8.8"
  }
 },
 "nbformat": 4,
 "nbformat_minor": 5
}
