{
 "cells": [
  {
   "cell_type": "markdown",
   "id": "5c7cf8e7",
   "metadata": {},
   "source": [
    "https://school.programmers.co.kr/learn/courses/30/lessons/120899"
   ]
  },
  {
   "cell_type": "code",
   "execution_count": null,
   "id": "596df1d6",
   "metadata": {},
   "outputs": [],
   "source": [
    "def solution(array):\n",
    "    answer = []\n",
    "    arr = array.copy()\n",
    "    arr.sort(reverse = True)\n",
    "    biggest = arr[0]\n",
    "    index = array.index(arr[0])\n",
    "    answer.append(biggest)\n",
    "    answer.append(index)\n",
    "    return answer"
   ]
  }
 ],
 "metadata": {
  "kernelspec": {
   "display_name": "Python 3",
   "language": "python",
   "name": "python3"
  },
  "language_info": {
   "codemirror_mode": {
    "name": "ipython",
    "version": 3
   },
   "file_extension": ".py",
   "mimetype": "text/x-python",
   "name": "python",
   "nbconvert_exporter": "python",
   "pygments_lexer": "ipython3",
   "version": "3.8.8"
  }
 },
 "nbformat": 4,
 "nbformat_minor": 5
}
