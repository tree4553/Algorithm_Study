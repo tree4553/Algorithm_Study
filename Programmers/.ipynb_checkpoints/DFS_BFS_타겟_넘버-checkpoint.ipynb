{
 "cells": [
  {
   "cell_type": "markdown",
   "id": "b68ff8cb",
   "metadata": {},
   "source": [
    "https://school.programmers.co.kr/learn/courses/30/lessons/43165"
   ]
  },
  {
   "cell_type": "code",
   "execution_count": null,
   "id": "51f45ac4",
   "metadata": {},
   "outputs": [],
   "source": [
    "def solution(numbers, target):\n",
    "    answer = 0\n",
    "    result = 0\n",
    "    index = 0\n",
    "    answer = dfs(answer, result, index, numbers, target)\n",
    "    \n",
    "    return answer\n",
    "\n",
    "def dfs(answer, result, index, numbers, target):\n",
    "    if index == len(numbers):\n",
    "        if result == target:\n",
    "            return 1\n",
    "        else:\n",
    "            return 0\n",
    "    else:\n",
    "        result1 = result\n",
    "        result2 = result\n",
    "        result1 += numbers[index]\n",
    "        result2 -= numbers[index]\n",
    "        index += 1\n",
    "        return dfs(answer, result1, index, numbers, target) + dfs(answer, result2, index, numbers, target)\n",
    "        "
   ]
  }
 ],
 "metadata": {
  "kernelspec": {
   "display_name": "Python 3",
   "language": "python",
   "name": "python3"
  },
  "language_info": {
   "codemirror_mode": {
    "name": "ipython",
    "version": 3
   },
   "file_extension": ".py",
   "mimetype": "text/x-python",
   "name": "python",
   "nbconvert_exporter": "python",
   "pygments_lexer": "ipython3",
   "version": "3.8.8"
  }
 },
 "nbformat": 4,
 "nbformat_minor": 5
}
