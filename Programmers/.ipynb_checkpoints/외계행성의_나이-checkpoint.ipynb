{
 "cells": [
  {
   "cell_type": "markdown",
   "id": "0d7d7eb5",
   "metadata": {},
   "source": [
    "https://school.programmers.co.kr/learn/courses/30/lessons/120834"
   ]
  },
  {
   "cell_type": "code",
   "execution_count": null,
   "id": "6467babd",
   "metadata": {},
   "outputs": [],
   "source": [
    "def solution(age):\n",
    "    answer = ''\n",
    "    arr = list(map(int, str(age)))\n",
    "    for i in range(len(arr)):\n",
    "        answer += chr(arr[i] + 97)\n",
    "    \n",
    "    return answer"
   ]
  }
 ],
 "metadata": {
  "kernelspec": {
   "display_name": "Python 3",
   "language": "python",
   "name": "python3"
  },
  "language_info": {
   "codemirror_mode": {
    "name": "ipython",
    "version": 3
   },
   "file_extension": ".py",
   "mimetype": "text/x-python",
   "name": "python",
   "nbconvert_exporter": "python",
   "pygments_lexer": "ipython3",
   "version": "3.8.8"
  }
 },
 "nbformat": 4,
 "nbformat_minor": 5
}
