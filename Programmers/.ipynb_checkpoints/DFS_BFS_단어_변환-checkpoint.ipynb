{
 "cells": [
  {
   "cell_type": "markdown",
   "id": "c5dece54",
   "metadata": {},
   "source": [
    "https://school.programmers.co.kr/learn/courses/30/lessons/43163"
   ]
  },
  {
   "cell_type": "code",
   "execution_count": null,
   "id": "5c290048",
   "metadata": {},
   "outputs": [],
   "source": [
    "def solution(begin, target, words):\n",
    "    if target not in words:\n",
    "        return 0\n",
    "    \n",
    "    visited = [0 for i in words]\n",
    "    answer = 0\n",
    "    stacks = [begin]\n",
    "\n",
    "    while stacks:\n",
    "        stack = stacks.pop()\n",
    "        if stack == target:\n",
    "            return answer\n",
    "        \n",
    "        for i in range(len(words)):\n",
    "            diff = 0\n",
    "            for j in range(len(words[i])):\n",
    "                if words[i][j] != stack[j]:\n",
    "                    diff += 1\n",
    "            if diff == 1:\n",
    "                if visited[i] != 0:\n",
    "                    continue\n",
    "                else:\n",
    "                    visited[i] = 1\n",
    "                    stacks.append(words[i])\n",
    "        answer += 1\n",
    "            \n",
    "    return answer"
   ]
  }
 ],
 "metadata": {
  "kernelspec": {
   "display_name": "Python 3",
   "language": "python",
   "name": "python3"
  },
  "language_info": {
   "codemirror_mode": {
    "name": "ipython",
    "version": 3
   },
   "file_extension": ".py",
   "mimetype": "text/x-python",
   "name": "python",
   "nbconvert_exporter": "python",
   "pygments_lexer": "ipython3",
   "version": "3.8.8"
  }
 },
 "nbformat": 4,
 "nbformat_minor": 5
}
