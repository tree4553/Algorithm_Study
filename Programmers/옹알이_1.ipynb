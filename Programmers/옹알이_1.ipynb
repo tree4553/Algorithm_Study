{
 "cells": [
  {
   "cell_type": "markdown",
   "id": "f008666f",
   "metadata": {},
   "source": [
    "https://school.programmers.co.kr/learn/courses/30/lessons/120956"
   ]
  },
  {
   "cell_type": "code",
   "execution_count": null,
   "id": "82d60e74",
   "metadata": {},
   "outputs": [],
   "source": [
    "def solution(babbling):\n",
    "    answer = 0\n",
    "    words = [\"aya\",\"ye\",\"woo\",\"ma\"]\n",
    "    all_Out = False\n",
    "    for babbel in babbling:\n",
    "        for word in words:\n",
    "            if word in babbel:\n",
    "                babbel = babbel.replace(word, \" \")\n",
    "        babbel = babbel.replace(\" \", \"\")\n",
    "        if babbel == \"\":\n",
    "            answer += 1\n",
    "    return answer"
   ]
  }
 ],
 "metadata": {
  "kernelspec": {
   "display_name": "Python 3",
   "language": "python",
   "name": "python3"
  },
  "language_info": {
   "codemirror_mode": {
    "name": "ipython",
    "version": 3
   },
   "file_extension": ".py",
   "mimetype": "text/x-python",
   "name": "python",
   "nbconvert_exporter": "python",
   "pygments_lexer": "ipython3",
   "version": "3.8.8"
  }
 },
 "nbformat": 4,
 "nbformat_minor": 5
}
