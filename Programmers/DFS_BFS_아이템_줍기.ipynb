{
 "cells": [
  {
   "cell_type": "markdown",
   "id": "a07e123d",
   "metadata": {},
   "source": [
    "https://school.programmers.co.kr/learn/courses/30/lessons/87694"
   ]
  },
  {
   "cell_type": "code",
   "execution_count": null,
   "id": "358f52d6",
   "metadata": {},
   "outputs": [],
   "source": [
    "from collections import deque\n",
    "def solution(rectangle, characterX, characterY, itemX, itemY):\n",
    "    answer = 0\n",
    "    maps = [[0] * 101 for _ in range(101)]\n",
    "    visited = [[0] * 101 for _ in range(101)]\n",
    "    move = [[0,1],[1,0],[0,-1],[-1,0]]\n",
    "    for x, y, ex, ey in rectangle:\n",
    "        for i in range(2 * x, 2 * ex + 1):\n",
    "            for j in range(2 * y, 2 * ey + 1):\n",
    "                maps[i][j] = 1\n",
    "                \n",
    "    for x, y, ex, ey in rectangle:\n",
    "        for i in range(2 * x + 1, 2 * ex):\n",
    "            for j in range(2 * y + 1, 2 * ey):\n",
    "                maps[i][j] = 0\n",
    "    \n",
    "    que = deque()\n",
    "    que.append([characterX * 2, characterY * 2, 0])\n",
    "    while que:\n",
    "        x, y, dist = que.popleft()\n",
    "        visited[x][y] = 1\n",
    "        if x == itemX * 2 and y == itemY * 2:\n",
    "            return dist // 2\n",
    "        for i in range(4):\n",
    "            nx = x + move[i][0]\n",
    "            ny = y + move[i][1]\n",
    "            if nx < 0 or nx > 100 or ny < 0 or ny > 100:\n",
    "                continue\n",
    "            if maps[nx][ny] == 1 and visited[nx][ny] == 0:\n",
    "                que.append([nx, ny, dist + 1])\n",
    "    return answer"
   ]
  }
 ],
 "metadata": {
  "kernelspec": {
   "display_name": "Python 3",
   "language": "python",
   "name": "python3"
  },
  "language_info": {
   "codemirror_mode": {
    "name": "ipython",
    "version": 3
   },
   "file_extension": ".py",
   "mimetype": "text/x-python",
   "name": "python",
   "nbconvert_exporter": "python",
   "pygments_lexer": "ipython3",
   "version": "3.8.8"
  }
 },
 "nbformat": 4,
 "nbformat_minor": 5
}
