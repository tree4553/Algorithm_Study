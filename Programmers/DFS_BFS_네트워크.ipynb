{
 "cells": [
  {
   "cell_type": "markdown",
   "id": "cce8c03e",
   "metadata": {},
   "source": [
    "https://school.programmers.co.kr/learn/courses/30/lessons/43162"
   ]
  },
  {
   "cell_type": "code",
   "execution_count": null,
   "id": "7175bab9",
   "metadata": {},
   "outputs": [],
   "source": [
    "def solution(n, computers):\n",
    "    answer = 0\n",
    "    visited = [False] * n\n",
    "    for i in range(n):\n",
    "        if visited[i] == False:\n",
    "            dfs(i, computers, visited)\n",
    "            answer += 1\n",
    "            \n",
    "    return answer\n",
    "\n",
    "def dfs(v, computers, visited):\n",
    "    visited[v] = True\n",
    "    stack = [v]\n",
    "    while stack:\n",
    "        i = stack.pop()\n",
    "        for j in range(len(computers)):\n",
    "            if computers[i][j] == 1 and visited[j] == False:\n",
    "                visited[j] = True\n",
    "                stack.append(j)\n",
    "                "
   ]
  }
 ],
 "metadata": {
  "kernelspec": {
   "display_name": "Python 3",
   "language": "python",
   "name": "python3"
  },
  "language_info": {
   "codemirror_mode": {
    "name": "ipython",
    "version": 3
   },
   "file_extension": ".py",
   "mimetype": "text/x-python",
   "name": "python",
   "nbconvert_exporter": "python",
   "pygments_lexer": "ipython3",
   "version": "3.8.8"
  }
 },
 "nbformat": 4,
 "nbformat_minor": 5
}
