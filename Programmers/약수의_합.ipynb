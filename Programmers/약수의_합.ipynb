{
 "cells": [
  {
   "cell_type": "markdown",
   "id": "5772ce14",
   "metadata": {},
   "source": [
    "https://school.programmers.co.kr/learn/courses/30/lessons/12928"
   ]
  },
  {
   "cell_type": "code",
   "execution_count": null,
   "id": "0783825e",
   "metadata": {},
   "outputs": [],
   "source": [
    "def solution(n):\n",
    "    answer = n\n",
    "    for i in range(1, n//2 + 1):\n",
    "        if n % i == 0:\n",
    "            answer += i\n",
    "    return answer"
   ]
  },
  {
   "cell_type": "markdown",
   "id": "da851d0a",
   "metadata": {},
   "source": [
    "for의 범위를 n + 1까지 했다가 다른사람의 풀이를 보고 n//2 + 1로 수정하여 실행 범위를 반으로 줄이고  \n",
    "answer에 n을 미리 넣어놔서 자기자신을 더하여 답을 반환하도록 하였다."
   ]
  }
 ],
 "metadata": {
  "kernelspec": {
   "display_name": "Python 3",
   "language": "python",
   "name": "python3"
  },
  "language_info": {
   "codemirror_mode": {
    "name": "ipython",
    "version": 3
   },
   "file_extension": ".py",
   "mimetype": "text/x-python",
   "name": "python",
   "nbconvert_exporter": "python",
   "pygments_lexer": "ipython3",
   "version": "3.8.8"
  }
 },
 "nbformat": 4,
 "nbformat_minor": 5
}
