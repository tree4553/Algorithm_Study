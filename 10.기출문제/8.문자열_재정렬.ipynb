{
 "cells": [
  {
   "cell_type": "markdown",
   "id": "e5811ffb",
   "metadata": {},
   "source": [
    "# 문자열 재정렬\n",
    "\n",
    "알파벳 대문자와 숫자(0~9)로만 구성된 문자열이 입력으로 주어진다.  \n",
    "이때 모든 알파벳을 오름차순으로 정렬하여 이어서 출력한 뒤에,  \n",
    "그 뒤에 모든 숫자를 더한 값을 이어서 출력합니다.  \n",
    "예를 들어 K1KA5CB7이라는 값이 들어오면 ABCKK13을 출력합니다.\n",
    "- - -\n",
    "### 입력 조건\n",
    "- 첫째 줄에 하나의 문자열 S가 주어집니다.( 1 <= S의 길이 <= 10,000)\n",
    "- - -\n",
    "### 출력 조건\n",
    "- 첫재 줄에 문제에서 요구하는 정답을 출력합니다.\n",
    "- - -\n",
    "### 입력 예시 1\n",
    "K1KA5CB7\n",
    "- - -\n",
    "### 출력 예시 1\n",
    "ABCKK13\n",
    "- - -\n",
    "### 입력 예시 2\n",
    "AJKDLSI412K4JSJ9D\n",
    "- - -\n",
    "### 출력 예시 2\n",
    "ADDIJJJKKLSS20\n"
   ]
  },
  {
   "cell_type": "code",
   "execution_count": 8,
   "id": "4e627084",
   "metadata": {},
   "outputs": [
    {
     "name": "stdout",
     "output_type": "stream",
     "text": [
      "K1KA5CB7\n",
      "ABCKK13\n"
     ]
    }
   ],
   "source": [
    "# Try\n",
    "data = input()\n",
    "num = []\n",
    "alphabet = []\n",
    "for i in range(len(data)):\n",
    "    if '0' <= data[i] <= '9':\n",
    "        num.append(int(data[i]))\n",
    "    else:\n",
    "        alphabet.append(data[i])\n",
    "        \n",
    "alphabet.sort()\n",
    "result = ''\n",
    "for i in range(len(alphabet)):\n",
    "    result += alphabet[i]\n",
    "    \n",
    "result += str(sum(num))\n",
    "print(result)"
   ]
  },
  {
   "cell_type": "code",
   "execution_count": 7,
   "id": "09db4f2e",
   "metadata": {},
   "outputs": [
    {
     "name": "stdout",
     "output_type": "stream",
     "text": [
      "AJKDLSI412K4JSJ9D\n",
      "ADDIJJJKKLSS20\n"
     ]
    }
   ],
   "source": [
    "# Solution\n",
    "data = input()\n",
    "result = []\n",
    "value = 0\n",
    "\n",
    "for x in data:\n",
    "    if x.isalpha():\n",
    "        result.append(x)\n",
    "    else:\n",
    "        value += int(x)\n",
    "        \n",
    "result.sort()\n",
    "\n",
    "if value != 0:\n",
    "    result.append(str(value))\n",
    "    \n",
    "print(''.join(result))"
   ]
  },
  {
   "cell_type": "markdown",
   "id": "2d482d00",
   "metadata": {},
   "source": [
    "# 1회차 풀이 후기\n",
    "적당히 푼것 같다.  \n",
    ".isalpha() 함수를 활용하면 문자열의 알파벳 여부를 알 수 있다.  \n",
    "숫자가 없는 경우에는 0을 붙이게 되서 오답이 된다. 문제의 조건을 더 잘 확인하자.  \n",
    "print(''.join(alphabet)) 을 사용하면 for문을 한번더 사용하지 않아도 된다."
   ]
  }
 ],
 "metadata": {
  "kernelspec": {
   "display_name": "Python 3",
   "language": "python",
   "name": "python3"
  },
  "language_info": {
   "codemirror_mode": {
    "name": "ipython",
    "version": 3
   },
   "file_extension": ".py",
   "mimetype": "text/x-python",
   "name": "python",
   "nbconvert_exporter": "python",
   "pygments_lexer": "ipython3",
   "version": "3.8.8"
  }
 },
 "nbformat": 4,
 "nbformat_minor": 5
}
