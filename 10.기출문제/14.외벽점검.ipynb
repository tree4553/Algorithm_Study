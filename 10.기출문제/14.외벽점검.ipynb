{
 "cells": [
  {
   "cell_type": "markdown",
   "id": "4815d8cc",
   "metadata": {},
   "source": [
    "# 외벽 점검\n",
    "https://school.programmers.co.kr/learn/courses/30/lessons/60062"
   ]
  },
  {
   "cell_type": "code",
   "execution_count": null,
   "id": "1a493345",
   "metadata": {},
   "outputs": [],
   "source": [
    "# Input 1\n",
    "n = 12\n",
    "weak = [1, 5, 6, 10]\n",
    "dist = [1, 2, 3, 4]\n",
    "result = 2\n",
    "if solution(n, weak, dist) == result:\n",
    "    print('Success')\n",
    "else:\n",
    "    print('Fail')"
   ]
  },
  {
   "cell_type": "code",
   "execution_count": null,
   "id": "72d3f12b",
   "metadata": {},
   "outputs": [],
   "source": [
    "# Input 2\n",
    "n = 12\n",
    "weak = [1, 3, 4, 9, 10]\n",
    "dist = [3, 5, 7]\n",
    "result = 1\n",
    "if solution(n, weak, dist) == result:\n",
    "    print('Success')\n",
    "else:\n",
    "    print('Fail')"
   ]
  },
  {
   "cell_type": "code",
   "execution_count": null,
   "id": "2edbcbad",
   "metadata": {},
   "outputs": [],
   "source": [
    "# Try\n",
    "# 아 모르겄다\n",
    "# 푸는 방식만 컨닝하자\n",
    "def solution(n, weak, dist):\n",
    "    answer = -1\n",
    "    \n",
    "    \n",
    "    \n",
    "    return answer"
   ]
  },
  {
   "cell_type": "code",
   "execution_count": null,
   "id": "69961456",
   "metadata": {},
   "outputs": [],
   "source": [
    "# Solution\n",
    "# permutationss를 쓰네.. 답을 봐도 잘 모르겟네... 천천히 잘 읽어보자\n",
    "from itertools import permutations\n",
    "\n",
    "def solution(n, weak, dist):\n",
    "    # 길이를 2배로 늘려서 '원형'을 일자 형태로 변형\n",
    "    length = len(weak)\n",
    "    for i in range(length):\n",
    "        weak.append(weak[i] + n)\n",
    "    answer = len(dist) + 1 # 투입할 친구 수의 최솟값을 찾아야 하므로 len(dist) + 1로 초기화\n",
    "    # 0부터 length - 1까지의 위치를 각각 시작점으로 설정\n",
    "    for start in range(length):\n",
    "        # 친구를 나열하는 모든 경우 각각에 대하여 확인\n",
    "        for friends in list(permutations(dist, len(dist))):\n",
    "            count = 1 # 투입할 친구의 수\n",
    "            # 해당 친구가 점검할 수 있는 마지막 위치\n",
    "            position = weak[start] + friends[count - 1]\n",
    "            # 시작점부터 모든 취약한 지점을 확인\n",
    "            for index in range(start, start + length):\n",
    "                # 점검할 수 있는 위치를 벗어나는 경우\n",
    "                if position < weak[index]:\n",
    "                    count += 1 # 새로운 친구를 투입\n",
    "                    if count > len(dist): # 더 투입이 불가능하다면 종료\n",
    "                        break\n",
    "                    position = weak[index] + friends[count - 1]\n",
    "            answer = min(answer, count) # 최솟값 계산\n",
    "    if answer > len(dist):\n",
    "        return -1\n",
    "    return answer"
   ]
  }
 ],
 "metadata": {
  "kernelspec": {
   "display_name": "Python 3",
   "language": "python",
   "name": "python3"
  },
  "language_info": {
   "codemirror_mode": {
    "name": "ipython",
    "version": 3
   },
   "file_extension": ".py",
   "mimetype": "text/x-python",
   "name": "python",
   "nbconvert_exporter": "python",
   "pygments_lexer": "ipython3",
   "version": "3.8.8"
  }
 },
 "nbformat": 4,
 "nbformat_minor": 5
}
