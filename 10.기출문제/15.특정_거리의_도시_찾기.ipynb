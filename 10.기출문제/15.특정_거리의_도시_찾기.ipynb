{
 "cells": [
  {
   "cell_type": "markdown",
   "metadata": {},
   "source": [
    "# 특정 거리의 도시 찾기\n",
    "https://www.acmicpc.net/problem/18352"
   ]
  },
  {
   "cell_type": "code",
   "execution_count": 1,
   "metadata": {},
   "outputs": [
    {
     "name": "stdout",
     "output_type": "stream",
     "text": [
      "4 4 2 1\n",
      "1 2\n",
      "1 3\n",
      "2 3\n",
      "2 4\n",
      "[1, 2]\n",
      "[1, 3]\n",
      "[2, 3]\n",
      "[2, 4]\n"
     ]
    }
   ],
   "source": [
    "# Input\n",
    "n, m, k, x = map(int, input().split())\n",
    "data = []\n",
    "for i in range(n):\n",
    "    data.append(list(map(int, input().split()))) \n",
    "'''\n",
    "for i in range(n):\n",
    "    print(data[i])\n",
    "'''"
   ]
  },
  {
   "cell_type": "code",
   "execution_count": 3,
   "metadata": {},
   "outputs": [
    {
     "name": "stdout",
     "output_type": "stream",
     "text": [
      "4\n",
      "None\n"
     ]
    }
   ],
   "source": [
    "# Input 1\n",
    "n, m, k, x = 4, 4, 2, 1\n",
    "data = [[1,2], [1,3], [2,3], [2,4]]\n",
    "\n",
    "print(solution(n, m, k, x, data)) # 정답 : 4"
   ]
  },
  {
   "cell_type": "code",
   "execution_count": 4,
   "metadata": {},
   "outputs": [
    {
     "name": "stdout",
     "output_type": "stream",
     "text": [
      "-1\n",
      "None\n"
     ]
    }
   ],
   "source": [
    "# Input 2\n",
    "n, m, k, x = 4, 3, 2, 1\n",
    "data = [[1,2], [1,3], [1,4]]\n",
    "\n",
    "print(solution(n, m, k, x, data)) # 정답 : -1"
   ]
  },
  {
   "cell_type": "code",
   "execution_count": 5,
   "metadata": {},
   "outputs": [
    {
     "name": "stdout",
     "output_type": "stream",
     "text": [
      "2\n",
      "3\n"
     ]
    },
    {
     "data": {
      "text/plain": [
       "3"
      ]
     },
     "execution_count": 5,
     "metadata": {},
     "output_type": "execute_result"
    }
   ],
   "source": [
    "# Input 3\n",
    "n, m, k, x = 4, 4, 1, 1\n",
    "data = [[1,2], [1,3], [2,3], [2,4]]\n",
    "\n",
    "solution(n, m, k, x, data)\n",
    "# 정답 : \n",
    "2\n",
    "3"
   ]
  },
  {
   "cell_type": "code",
   "execution_count": 2,
   "metadata": {},
   "outputs": [],
   "source": [
    "# Try\n",
    "# 시작 지점이 주어진 문제이므로 DFS 방식으로 풀어보자\n",
    "from collections import deque\n",
    "def solution(n, m, k, x, data):\n",
    "    if k == 0 : # 거리가 0인 경우 자기자신 출력\n",
    "        print(x)\n",
    "        return\n",
    "    \n",
    "    distance = [-1] * (n + 1)\n",
    "    distance[x] = 0 # 자기자신은 최단 거리가 0인 경우에만 해당하므로 방문 처리\n",
    "    \n",
    "    graph = [[] for _ in range(n+1)] # 출발지, 목적지를 이차원 배열에 저장\n",
    "    for a, b in data:\n",
    "        graph[a].append(b)\n",
    "    \n",
    "    que = deque()\n",
    "    que.append(x) # que에 시작점 삽입\n",
    "    \n",
    "    while que:\n",
    "        start = que.popleft()\n",
    "        for end in graph[start]:\n",
    "            if distance[end] == -1:\n",
    "                distance[end] = distance[start] + 1\n",
    "                que.append(end)\n",
    "    \n",
    "    nothing = True\n",
    "    for i in range(1, n+1):\n",
    "        if distance[i] == k:\n",
    "            print(i)\n",
    "            nothing = False\n",
    "    \n",
    "    if nothing == True:\n",
    "        print(-1)\n",
    "        return"
   ]
  },
  {
   "cell_type": "code",
   "execution_count": 7,
   "metadata": {},
   "outputs": [
    {
     "name": "stdout",
     "output_type": "stream",
     "text": [
      "4 4 2 1\n",
      "1 2\n",
      "1 3\n",
      "2 3\n",
      "2 4\n",
      "4\n"
     ]
    }
   ],
   "source": [
    "# 제출용\n",
    "from collections import deque\n",
    "\n",
    "# Input\n",
    "n, m, k, x = map(int, input().split())\n",
    "data = []\n",
    "for i in range(n):\n",
    "    data.append(list(map(int, input().split())))\n",
    "    \n",
    "if k == 0 : # 거리가 0인 경우 자기자신 출력\n",
    "    print(x)\n",
    "else:\n",
    "    distance = [-1] * (n + 1)\n",
    "    distance[x] = 0 # 자기자신은 최단 거리가 0인 경우에만 해당하므로 방문 처리\n",
    "\n",
    "    graph = [[] for _ in range(n+1)] # 출발지, 목적지를 이차원 배열에 저장\n",
    "    for a, b in data:\n",
    "        graph[a].append(b)\n",
    "\n",
    "    que = deque()\n",
    "    que.append(x) # que에 시작점 삽입\n",
    "\n",
    "    while que:\n",
    "        start = que.popleft()\n",
    "        for end in graph[start]:\n",
    "            if distance[end] == -1:\n",
    "                distance[end] = distance[start] + 1\n",
    "                que.append(end)\n",
    "\n",
    "    nothing = True\n",
    "    for i in range(1, n+1):\n",
    "        if distance[i] == k:\n",
    "            print(i)\n",
    "            nothing = False\n",
    "\n",
    "    if nothing == True:\n",
    "        print(-1)"
   ]
  },
  {
   "cell_type": "code",
   "execution_count": 1,
   "metadata": {},
   "outputs": [
    {
     "name": "stdout",
     "output_type": "stream",
     "text": [
      "4 4 2 1\n",
      "1 2\n",
      "1 3\n",
      "2 3\n",
      "2 4\n",
      "4\n"
     ]
    }
   ],
   "source": [
    "# Solution\n",
    "from collections import deque\n",
    "\n",
    "# 도시의 개수, 도로의 개수, 거리 정보, 출발 도시 번호\n",
    "n, m, k, x = map(int, input().split())\n",
    "graph = [[] for _ in range(n + 1)]\n",
    "\n",
    "# 모든 도로 정보 입력 받기\n",
    "for _ in range(m):\n",
    "    a, b = map(int, input().split())\n",
    "    graph[a].append(b)\n",
    "\n",
    "# 모든 도시에 대한 최단 거리 초기화\n",
    "distance = [-1] * (n + 1)\n",
    "distance[x] = 0 # 출발 도시까지의 거리는 0으로 설정\n",
    "\n",
    "# 너비 우선 탐색(BFS) 수행\n",
    "q = deque([x])\n",
    "while q:\n",
    "    now = q.popleft()\n",
    "    # 현재 도시에서 이동할 수 있는 모든 도시를 확인\n",
    "    for next_node in graph[now]:\n",
    "        # 아직 방문하지 않은 도시라면\n",
    "        if distance[next_node] == -1:\n",
    "            # 최단 거리 갱신\n",
    "            distance[next_node] = distance[now] + 1\n",
    "            q.append(next_node)\n",
    "\n",
    "# 최단 거리가 K인 모든 도시의 번호를 오름차순으로 출력\n",
    "check = False\n",
    "for i in range(1, n + 1):\n",
    "    if distance[i] == k:\n",
    "        print(i)\n",
    "        check = True\n",
    "\n",
    "# 만약 최단 거리가 K인 도시가 없다면, -1 출력\n",
    "if check == False:\n",
    "    print(-1)"
   ]
  }
 ],
 "metadata": {
  "kernelspec": {
   "display_name": "Python 3",
   "language": "python",
   "name": "python3"
  },
  "language_info": {
   "codemirror_mode": {
    "name": "ipython",
    "version": 3
   },
   "file_extension": ".py",
   "mimetype": "text/x-python",
   "name": "python",
   "nbconvert_exporter": "python",
   "pygments_lexer": "ipython3",
   "version": "3.8.3"
  }
 },
 "nbformat": 4,
 "nbformat_minor": 4
}
