{
 "cells": [
  {
   "cell_type": "markdown",
   "id": "c4c0fa76",
   "metadata": {},
   "source": [
    "# 문자열 뒤집기\n",
    "https://www.acmicpc.net/problem/1439"
   ]
  },
  {
   "cell_type": "code",
   "execution_count": 148,
   "id": "f92b671e",
   "metadata": {},
   "outputs": [
    {
     "name": "stdout",
     "output_type": "stream",
     "text": [
      "0001100\n",
      "1\n"
     ]
    }
   ],
   "source": [
    "# Input\n",
    "data = input()\n",
    "\n",
    "# Try\n",
    "result = 0\n",
    "before = data[0]\n",
    "for number in data[1:]:\n",
    "    if number != before:\n",
    "        result += 1\n",
    "        before = number\n",
    "\n",
    "if result == 0:\n",
    "    print(0)\n",
    "else:\n",
    "    if result % 2 == 0:\n",
    "        print(result // 2)\n",
    "    else:\n",
    "        print(result // 2 + 1)"
   ]
  }
 ],
 "metadata": {
  "kernelspec": {
   "display_name": "Python 3",
   "language": "python",
   "name": "python3"
  },
  "language_info": {
   "codemirror_mode": {
    "name": "ipython",
    "version": 3
   },
   "file_extension": ".py",
   "mimetype": "text/x-python",
   "name": "python",
   "nbconvert_exporter": "python",
   "pygments_lexer": "ipython3",
   "version": "3.8.8"
  }
 },
 "nbformat": 4,
 "nbformat_minor": 5
}
