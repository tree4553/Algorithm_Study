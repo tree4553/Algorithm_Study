{
 "cells": [
  {
   "cell_type": "markdown",
   "id": "7d0bc8f9",
   "metadata": {},
   "source": [
    "# 기둥과 보 설치\n",
    "https://school.programmers.co.kr/learn/courses/30/lessons/60061"
   ]
  },
  {
   "cell_type": "code",
   "execution_count": null,
   "id": "bb6f602b",
   "metadata": {},
   "outputs": [],
   "source": [
    "# Input\n"
   ]
  },
  {
   "cell_type": "code",
   "execution_count": null,
   "id": "e3dd0f0d",
   "metadata": {},
   "outputs": [],
   "source": [
    "# Try\n"
   ]
  }
 ],
 "metadata": {
  "kernelspec": {
   "display_name": "Python 3",
   "language": "python",
   "name": "python3"
  },
  "language_info": {
   "codemirror_mode": {
    "name": "ipython",
    "version": 3
   },
   "file_extension": ".py",
   "mimetype": "text/x-python",
   "name": "python",
   "nbconvert_exporter": "python",
   "pygments_lexer": "ipython3",
   "version": "3.8.8"
  }
 },
 "nbformat": 4,
 "nbformat_minor": 5
}
