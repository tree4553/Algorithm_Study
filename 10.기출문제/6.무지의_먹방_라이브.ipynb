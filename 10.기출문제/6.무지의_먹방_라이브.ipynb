{
 "cells": [
  {
   "cell_type": "markdown",
   "id": "eded89b9",
   "metadata": {},
   "source": [
    "# 무지의 먹방 라이브\n",
    "\n",
    "https://programmers.co.kr/learn/courses/30/lessons/42891"
   ]
  },
  {
   "cell_type": "code",
   "execution_count": 23,
   "id": "ad2e23c6",
   "metadata": {},
   "outputs": [],
   "source": [
    "from collections import deque\n",
    "\n",
    "def solution(food_times, k):\n",
    "    \n",
    "    answer = 0\n",
    "    time = 0\n",
    "    queue = deque()\n",
    "    \n",
    "    for i in range(len(food_times)):\n",
    "        queue.append((i + 1, food_times[i]))\n",
    "                     \n",
    "    while queue:\n",
    "        index, food_time = queue.popleft()\n",
    "        \n",
    "        if time == k:\n",
    "                return index\n",
    "        \n",
    "        if food_time != 0:\n",
    "            time += 1\n",
    "            food_time -= 1\n",
    "            queue.append((index, food_time))\n",
    "    \n",
    "    if not queue:\n",
    "        answer = -1\n",
    "    return answer"
   ]
  }
 ],
 "metadata": {
  "kernelspec": {
   "display_name": "Python 3",
   "language": "python",
   "name": "python3"
  },
  "language_info": {
   "codemirror_mode": {
    "name": "ipython",
    "version": 3
   },
   "file_extension": ".py",
   "mimetype": "text/x-python",
   "name": "python",
   "nbconvert_exporter": "python",
   "pygments_lexer": "ipython3",
   "version": "3.8.8"
  }
 },
 "nbformat": 4,
 "nbformat_minor": 5
}
