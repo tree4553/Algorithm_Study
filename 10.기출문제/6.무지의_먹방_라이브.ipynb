{
 "cells": [
  {
   "cell_type": "markdown",
   "id": "bcdcd983",
   "metadata": {},
   "source": [
    "# 무지의 먹방 라이브\n",
    "\n",
    "https://programmers.co.kr/learn/courses/30/lessons/42891"
   ]
  },
  {
   "cell_type": "code",
   "execution_count": null,
   "id": "d80a60e4",
   "metadata": {},
   "outputs": [],
   "source": [
    "# Try\n"
   ]
  }
 ],
 "metadata": {
  "kernelspec": {
   "display_name": "Python 3",
   "language": "python",
   "name": "python3"
  },
  "language_info": {
   "codemirror_mode": {
    "name": "ipython",
    "version": 3
   },
   "file_extension": ".py",
   "mimetype": "text/x-python",
   "name": "python",
   "nbconvert_exporter": "python",
   "pygments_lexer": "ipython3",
   "version": "3.8.8"
  }
 },
 "nbformat": 4,
 "nbformat_minor": 5
}
