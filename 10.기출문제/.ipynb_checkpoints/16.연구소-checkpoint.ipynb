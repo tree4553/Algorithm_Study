{
 "cells": [
  {
   "cell_type": "markdown",
   "metadata": {},
   "source": [
    "# 연구소\n",
    "https://www.acmicpc.net/problem/14502"
   ]
  },
  {
   "cell_type": "code",
   "execution_count": 1,
   "metadata": {},
   "outputs": [
    {
     "name": "stdout",
     "output_type": "stream",
     "text": [
      "7 7\n",
      "2 0 0 0 1 1 0\n",
      "0 0 1 0 1 2 0\n",
      "0 1 1 0 1 0 0\n",
      "0 1 0 0 0 0 0\n",
      "0 0 0 0 0 1 1\n",
      "0 1 0 0 0 0 0\n",
      "0 1 0 0 0 0 0\n",
      "[2, 0, 0, 0, 1, 1, 0]\n",
      "[0, 0, 1, 0, 1, 2, 0]\n",
      "[0, 1, 1, 0, 1, 0, 0]\n",
      "[0, 1, 0, 0, 0, 0, 0]\n",
      "[0, 0, 0, 0, 0, 1, 1]\n",
      "[0, 1, 0, 0, 0, 0, 0]\n",
      "[0, 1, 0, 0, 0, 0, 0]\n"
     ]
    }
   ],
   "source": [
    "# Input\n",
    "n, m = map(int, input().split())\n",
    "data = []\n",
    "for _ in range(n):\n",
    "    data.append(list(map(int, input().split())))\n",
    "    \n",
    "for i in range(n):\n",
    "    print(data[i])\n"
   ]
  },
  {
   "cell_type": "code",
   "execution_count": null,
   "metadata": {},
   "outputs": [],
   "source": [
    "# Input 1\n",
    "n, m = 7, 7\n",
    "data = [[2,0,0,0,1,1,0],\n",
    "        [0,0,1,0,1,2,0],\n",
    "        [0,1,1,0,1,0,0],\n",
    "        [0,1,0,0,0,0,0],\n",
    "        [0,0,0,0,0,1,1],\n",
    "        [0,1,0,0,0,0,0],\n",
    "        [0,1,0,0,0,0,0]]\n",
    "print(solution(n, m, data))"
   ]
  },
  {
   "cell_type": "code",
   "execution_count": null,
   "metadata": {},
   "outputs": [],
   "source": [
    "# Input 2\n",
    "n, m = 4, 6\n",
    "data = [[0,0,0,0,0,0],\n",
    "       [1,0,0,0,0,2],\n",
    "       [1,1,1,0,0,2],\n",
    "       [0,0,0,0,0,2]]\n",
    "print(solution(n, m, data))"
   ]
  },
  {
   "cell_type": "code",
   "execution_count": null,
   "metadata": {},
   "outputs": [],
   "source": [
    "# Input 3\n",
    "n, m = 8, 8\n",
    "data = [[2,0,0,0,0,0,0,2],\n",
    "       [2,0,0,0,0,0,0,2],\n",
    "       [2,0,0,0,0,0,0,2],\n",
    "       [2,0,0,0,0,0,0,2],\n",
    "       [0,0,0,0,0,0,0,0],\n",
    "       [0,0,0,0,0,0,0,0],\n",
    "       [0,0,0,0,0,0,0,0]]\n",
    "print(solution(n, m, data))"
   ]
  },
  {
   "cell_type": "code",
   "execution_count": null,
   "metadata": {},
   "outputs": [],
   "source": [
    "# Try\n",
    "def solution(n, m, data):\n",
    "    answer = 0\n",
    "    \n",
    "    temp\n",
    "    \n",
    "    return answer"
   ]
  },
  {
   "cell_type": "code",
   "execution_count": null,
   "metadata": {},
   "outputs": [],
   "source": [
    "# Solution\n",
    "    "
   ]
  }
 ],
 "metadata": {
  "kernelspec": {
   "display_name": "Python 3",
   "language": "python",
   "name": "python3"
  },
  "language_info": {
   "codemirror_mode": {
    "name": "ipython",
    "version": 3
   },
   "file_extension": ".py",
   "mimetype": "text/x-python",
   "name": "python",
   "nbconvert_exporter": "python",
   "pygments_lexer": "ipython3",
   "version": "3.8.8"
  }
 },
 "nbformat": 4,
 "nbformat_minor": 4
}
