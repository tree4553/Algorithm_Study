{
 "cells": [
  {
   "cell_type": "markdown",
   "id": "b787fa8d",
   "metadata": {},
   "source": [
    "# 곱하기 혹은 더하기\n",
    "\n",
    "각 자리가 숫자로만 이루어진 문자열 S가 주어졌을 때,  \n",
    "왼쪽부터 오른쪽으로 하나씩 모든 숫자를 확인하며 숫자 사이에 'x' 혹은 '+' 연산자를 넣어  \n",
    "결과적으로 만들어질 수 있는 가장 큰 수를 구하는 프로그램을 작성하시오.  \n",
    "단, +보다 x를 먼저 계산하는 일반적인 방식과는 달리, 모든 연산은 왼쪽에서부터 순서대로 이루어진다고 가정한다.  \n",
    "예를 들어 02984라는 문자열이 주어지면,  \n",
    "만들수 있는 가장 큰 수는 ((((0 + 2) X 9) X 8) X 4) = 576 이다.  \n",
    "또한 만들어질 수 있는 가장 큰 수는 항상 20억 이하의 정수가 되도록 입력이 주어진다.\n",
    "- - -\n",
    "### 입력 조건\n",
    "- 첫재 줄에 여러 개의 숫자로 구성된 하나의 문자열 S가 주어집니다. (1 <= S의 길이 <= 20)\n",
    "- - -\n",
    "### 출력 조건\n",
    "- 첫째 줄에 만들어질 수 있는 가장 큰 수를 출력합니다.\n",
    "- - -\n",
    "### 입력 예시 1\n",
    "> 02984\n",
    "- - -\n",
    "### 출력 예시 1\n",
    "> 576\n",
    "- - -\n",
    "### 입력 예시 2\n",
    "> 567\n",
    "- - -\n",
    "### 출력 예시 2\n",
    "> 210"
   ]
  },
  {
   "cell_type": "code",
   "execution_count": 12,
   "id": "4e225baa",
   "metadata": {},
   "outputs": [
    {
     "name": "stdout",
     "output_type": "stream",
     "text": [
      "02984\n",
      "576\n"
     ]
    }
   ],
   "source": [
    "# Input\n",
    "data = input()\n",
    "\n",
    "# Try\n",
    "def func(data):\n",
    "    result = 0\n",
    "    for i in range(len(data)):\n",
    "        x = int(data[i])\n",
    "        if x == 0 or x == 1:\n",
    "            result += x\n",
    "        else:\n",
    "            if result == 0:\n",
    "                result += 1\n",
    "            result *= x\n",
    "    return result\n",
    "\n",
    "\n",
    "print(func(data))"
   ]
  },
  {
   "cell_type": "code",
   "execution_count": 13,
   "id": "b958bcf9",
   "metadata": {},
   "outputs": [
    {
     "name": "stdout",
     "output_type": "stream",
     "text": [
      "6\n"
     ]
    }
   ],
   "source": [
    "# 입력값 1\n",
    "data = '111111'\n",
    "# 예상 출력값 : 6\n",
    "print(func(data))"
   ]
  },
  {
   "cell_type": "code",
   "execution_count": 14,
   "id": "4a2ee82e",
   "metadata": {},
   "outputs": [
    {
     "name": "stdout",
     "output_type": "stream",
     "text": [
      "0\n"
     ]
    }
   ],
   "source": [
    "# 입력값 2\n",
    "data = '000000'\n",
    "# 예상 출력값 : 0\n",
    "print(func(data))"
   ]
  },
  {
   "cell_type": "code",
   "execution_count": 16,
   "id": "20be5f70",
   "metadata": {},
   "outputs": [
    {
     "name": "stdout",
     "output_type": "stream",
     "text": [
      "91\n"
     ]
    }
   ],
   "source": [
    "# 입력값 3\n",
    "data = '91091'\n",
    "# 예상 출력값 : 91\n",
    "print(func(data))"
   ]
  },
  {
   "cell_type": "code",
   "execution_count": 17,
   "id": "aaa079c3",
   "metadata": {},
   "outputs": [
    {
     "name": "stdout",
     "output_type": "stream",
     "text": [
      "91091\n",
      "91\n"
     ]
    }
   ],
   "source": [
    "# Solution\n",
    "data = input()\n",
    "\n",
    "result = int(data[0])\n",
    "for i in range(1, len(data)):\n",
    "    num = int(data[i])\n",
    "    if num <= 1 or result <= 1:\n",
    "        result += num\n",
    "    else:\n",
    "        result *= num\n",
    "        \n",
    "print(result)"
   ]
  },
  {
   "cell_type": "markdown",
   "id": "659392c0",
   "metadata": {},
   "source": [
    "# 1회차 풀이 후기\n",
    "0 또는 1인 경우에 더하기, 그 이외에는 곱하기 연산 이라는 풀이가 쉽게 생각나서 빠르게 풀 수 있었다."
   ]
  }
 ],
 "metadata": {
  "kernelspec": {
   "display_name": "Python 3",
   "language": "python",
   "name": "python3"
  },
  "language_info": {
   "codemirror_mode": {
    "name": "ipython",
    "version": 3
   },
   "file_extension": ".py",
   "mimetype": "text/x-python",
   "name": "python",
   "nbconvert_exporter": "python",
   "pygments_lexer": "ipython3",
   "version": "3.8.8"
  }
 },
 "nbformat": 4,
 "nbformat_minor": 5
}
