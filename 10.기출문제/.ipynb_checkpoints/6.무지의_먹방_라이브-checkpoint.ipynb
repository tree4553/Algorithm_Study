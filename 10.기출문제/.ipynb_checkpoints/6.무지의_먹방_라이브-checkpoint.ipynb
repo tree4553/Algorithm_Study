{
 "cells": [
  {
   "cell_type": "markdown",
   "id": "eded89b9",
   "metadata": {},
   "source": [
    "# 무지의 먹방 라이브\n",
    "\n",
    "https://programmers.co.kr/learn/courses/30/lessons/42891"
   ]
  },
  {
   "cell_type": "code",
   "execution_count": 9,
   "id": "ad2e23c6",
   "metadata": {},
   "outputs": [
    {
     "ename": "SyntaxError",
     "evalue": "invalid syntax (<ipython-input-9-6a64a09b7c09>, line 12)",
     "output_type": "error",
     "traceback": [
      "\u001b[1;36m  File \u001b[1;32m\"<ipython-input-9-6a64a09b7c09>\"\u001b[1;36m, line \u001b[1;32m12\u001b[0m\n\u001b[1;33m    while que:\u001b[0m\n\u001b[1;37m    ^\u001b[0m\n\u001b[1;31mSyntaxError\u001b[0m\u001b[1;31m:\u001b[0m invalid syntax\n"
     ]
    }
   ],
   "source": [
    "# Try\n",
    "from collections import deque\n",
    "\n",
    "def solution(food_times, k):\n",
    "    answer = 0\n",
    "    time = 1\n",
    "    \n",
    "    que = deque()\n",
    "    for i in range(len(food_times)):\n",
    "        que.append((i, food_times[i])\n",
    "        \n",
    "    while que:\n",
    "        index, food_time = que.popleft()\n",
    "        if time == k:\n",
    "                   return index\n",
    "        \n",
    "        if food_time == 0:\n",
    "            continue\n",
    "        else:\n",
    "            food -= 1\n",
    "            que.append(i, food)\n",
    "            time += 1\n",
    "    \n",
    "    answer = -1\n",
    "    return answer"
   ]
  }
 ],
 "metadata": {
  "kernelspec": {
   "display_name": "Python 3",
   "language": "python",
   "name": "python3"
  },
  "language_info": {
   "codemirror_mode": {
    "name": "ipython",
    "version": 3
   },
   "file_extension": ".py",
   "mimetype": "text/x-python",
   "name": "python",
   "nbconvert_exporter": "python",
   "pygments_lexer": "ipython3",
   "version": "3.8.8"
  }
 },
 "nbformat": 4,
 "nbformat_minor": 5
}
