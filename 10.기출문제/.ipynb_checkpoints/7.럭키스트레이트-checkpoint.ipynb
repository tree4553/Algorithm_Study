{
 "cells": [
  {
   "cell_type": "markdown",
   "id": "77a904a0",
   "metadata": {},
   "source": [
    "# 럭키 스트레이트\n",
    "\n",
    "게임의 아웃복서 캐릭터는 필살기인 럭키 스트레이트 기술이 있다.  \n",
    "특정 조건에서 사용할수 있는데 캐릭터의 점수를 N이라고 할 때 자릿수를 기준으로 점수 N을 반으로 나누어 왼쪽 부분의 각 자릿수의 합과 오른쪽 부분의 각 자릿수의 합을 더한 값이 동일한 상황을 의미합니다.  \n",
    "현재 점수 N이 주어지면 럭키 스트레이트를 사용할 수 있는 상태인지 아닌지를 알려주는 프로그램을 작성하세요.\n",
    "- - -\n",
    "### 입력 조건\n",
    "- 첫째 줄에 점수 N이 정수로 주어집니다. (10 <= N <= 99,999,999)  \n",
    "단, 점수 N의 자릿수는 항상 짝수 형태로만 주어짖ㅂ니다.  \n",
    "- - -\n",
    "### 출력 조건\n",
    "- 첫째 줄에 럭키 스트레이트를 사용할 수 있다면 \"LUCKY\"를, 사용할 수 없다면 'READY\"를 출력하세요.\n",
    "- - - \n",
    "### 입력 예시 1\n",
    "123402\n",
    "- - -\n",
    "### 출력 예시 1\n",
    "LUCKY\n",
    "- - -\n",
    "### 입력 예시 2\n",
    "7755\n",
    "- - - \n",
    "### 출력 예시 2\n",
    "READY"
   ]
  },
  {
   "cell_type": "code",
   "execution_count": 2,
   "id": "ce9d91c6",
   "metadata": {},
   "outputs": [
    {
     "name": "stdout",
     "output_type": "stream",
     "text": [
      "1234202\n"
     ]
    }
   ],
   "source": [
    "# Try\n",
    "n = int(input())\n"
   ]
  }
 ],
 "metadata": {
  "kernelspec": {
   "display_name": "Python 3",
   "language": "python",
   "name": "python3"
  },
  "language_info": {
   "codemirror_mode": {
    "name": "ipython",
    "version": 3
   },
   "file_extension": ".py",
   "mimetype": "text/x-python",
   "name": "python",
   "nbconvert_exporter": "python",
   "pygments_lexer": "ipython3",
   "version": "3.8.8"
  }
 },
 "nbformat": 4,
 "nbformat_minor": 5
}
