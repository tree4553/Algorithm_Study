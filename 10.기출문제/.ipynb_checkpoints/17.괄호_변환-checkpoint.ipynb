{
 "cells": [
  {
   "cell_type": "markdown",
   "id": "6a5e06af",
   "metadata": {},
   "source": [
    "# 괄호 변환\n",
    "\n",
    "https://school.programmers.co.kr/learn/courses/30/lessons/60058"
   ]
  },
  {
   "cell_type": "code",
   "execution_count": 74,
   "id": "f2fa47ce",
   "metadata": {},
   "outputs": [
    {
     "name": "stdout",
     "output_type": "stream",
     "text": [
      "p1 correct\n",
      "p2 correct\n",
      "p3 correct\n"
     ]
    }
   ],
   "source": [
    "# Input\n",
    "p1 = \"(()())()\"\n",
    "p2 = \")(\"\n",
    "p3 = \"()))((()\"\n",
    "\n",
    "a1 = \"(()())()\"\n",
    "a2 = \"()\"\n",
    "a3 = \"()(())()\"\n",
    "\n",
    "if(solution(p1) == a1):\n",
    "    print(\"p1 correct\")\n",
    "else:\n",
    "    print(\"p1 error\")\n",
    "    print(solution(p1), a1)\n",
    "if(solution(p2) == a2):\n",
    "    print(\"p2 correct\")\n",
    "else:\n",
    "    print(\"p2 error\")    \n",
    "if(solution(p3) == a3):\n",
    "    print(\"p3 correct\")\n",
    "else:\n",
    "    print(\"p3 error\")"
   ]
  },
  {
   "cell_type": "code",
   "execution_count": 73,
   "id": "79d09089",
   "metadata": {},
   "outputs": [],
   "source": [
    "# Try\n",
    "import re\n",
    "\n",
    "def solution(p):\n",
    "    answer = ''\n",
    "    start = 0\n",
    "    balance = 0\n",
    "    odd = False\n",
    "    for i in range(len(p)):\n",
    "        if p[i]  == '(':\n",
    "            if balance == 0:\n",
    "                odd = False\n",
    "            balance += 1\n",
    "        elif p[i] == ')':\n",
    "            if balance == 0:\n",
    "                odd = True\n",
    "            balance -= 1\n",
    "        \n",
    "        if balance == 0:\n",
    "            if odd == True:\n",
    "                answer += flipOver(p[start:i + 1])\n",
    "            else:\n",
    "                answer += p[start:i + 1]\n",
    "            start = i + 1\n",
    "    return answer\n",
    "\n",
    "def flipOver(a):\n",
    "#     a = a.replace('(', '0')\n",
    "#     a = a.replace(')', '(')\n",
    "#     a = a.replace('0', ')')\n",
    "    \n",
    "    a = re.sub('\\(', '0', a)\n",
    "    a = re.sub('\\)', '(', a)\n",
    "    a = re.sub('0', ')', a)\n",
    "        \n",
    "    return a\n",
    "\n",
    "# 오답나옴\n",
    "# 반례 못찾겠음"
   ]
  }
 ],
 "metadata": {
  "kernelspec": {
   "display_name": "Python 3",
   "language": "python",
   "name": "python3"
  },
  "language_info": {
   "codemirror_mode": {
    "name": "ipython",
    "version": 3
   },
   "file_extension": ".py",
   "mimetype": "text/x-python",
   "name": "python",
   "nbconvert_exporter": "python",
   "pygments_lexer": "ipython3",
   "version": "3.8.8"
  }
 },
 "nbformat": 4,
 "nbformat_minor": 5
}
