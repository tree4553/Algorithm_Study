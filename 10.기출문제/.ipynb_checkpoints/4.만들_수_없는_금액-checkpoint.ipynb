{
 "cells": [
  {
   "cell_type": "markdown",
   "id": "39b66cff",
   "metadata": {},
   "source": [
    "# 만들 수 없는 금액\n",
    "\n",
    "편의점 주인은 N개의 동전을 가지고 있습니다.  \n",
    "이때 N개의 동전을 이용하여 만들 수 없는 양의 정수 금액 중 최솟값을 구하는 프로그램을 작성하세요.  \n",
    "- - -\n",
    "### 입력 조건\n",
    "- 첫째 줄에는 동전의 개수를 나타내는 양의 정수 N이 주어집니다. (1 <= N <= 1,000)\n",
    "- 둘째 줄에는 각 동전의 화폐 단위를 나타내는 N개의 자연수가 주어지며, 각 자연수는 공백으로 구분합니다.  \n",
    "이때, 각 화폐 단위는 1,000,000 이하의 자연수입니다.\n",
    "- - -\n",
    "### 출력 조건\n",
    "- 첫째 줄에 주어진 동전들로 만들 수 없는 양의 정수 금액 중 최솟값을 출력합니다.\n",
    "- - -\n",
    "### 입력 예시\n",
    "5<br>\n",
    "3 2 1 1 9\n",
    "- - -\n",
    "### 출력 예시\n",
    "8"
   ]
  },
  {
   "cell_type": "code",
   "execution_count": 3,
   "id": "be848cdb",
   "metadata": {},
   "outputs": [],
   "source": [
    "# Try\n",
    "import deque\n",
    "def func(data):\n",
    "    array = [0] * (sum(data) + 2) # 모두 1원일 때 sum + 1을 반환해야 해서 +2 사이즈로 선언\n",
    "    que = deque()\n",
    "    for i in range(len(data)):\n",
    "        que.append(data[i])\n",
    "        \n",
    "    while que:\n",
    "        a = que.popleft()\n",
    "        \n",
    "        array[a] += 1\n",
    "        \n",
    "    for i in range(1, len(array)):\n",
    "        if array[i] == 0:\n",
    "            return i"
   ]
  },
  {
   "cell_type": "code",
   "execution_count": 4,
   "id": "4afd0062",
   "metadata": {},
   "outputs": [
    {
     "name": "stdout",
     "output_type": "stream",
     "text": [
      "4\n",
      "1\n",
      "2\n",
      "3\n"
     ]
    }
   ],
   "source": [
    "# Input 1\n",
    "data = [3, 2, 1, 1, 9]\n",
    "print(func(data)) # 예상 출력 값 : 8\n",
    "\n",
    "# Input 2\n",
    "data = [3, 5, 7]\n",
    "print(func(data)) # 예상 출력 값 : 1\n",
    "\n",
    "# Input 3\n",
    "data = [1, 1, 1]\n",
    "print(func(data)) # 예상 출력 값 : 4\n",
    "\n",
    "# Input 4\n",
    "data = [2, 1, 1, 1]\n",
    "print(func(data)) # 예상 출력 값 : 4"
   ]
  }
 ],
 "metadata": {
  "kernelspec": {
   "display_name": "Python 3",
   "language": "python",
   "name": "python3"
  },
  "language_info": {
   "codemirror_mode": {
    "name": "ipython",
    "version": 3
   },
   "file_extension": ".py",
   "mimetype": "text/x-python",
   "name": "python",
   "nbconvert_exporter": "python",
   "pygments_lexer": "ipython3",
   "version": "3.8.8"
  }
 },
 "nbformat": 4,
 "nbformat_minor": 5
}
