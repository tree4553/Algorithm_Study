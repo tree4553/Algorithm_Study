{
 "cells": [
  {
   "cell_type": "markdown",
   "id": "a9d14c20",
   "metadata": {},
   "source": [
    "# 외벽 점검\n",
    "https://school.programmers.co.kr/learn/courses/30/lessons/60062"
   ]
  },
  {
   "cell_type": "code",
   "execution_count": null,
   "id": "6386e126",
   "metadata": {},
   "outputs": [],
   "source": [
    "# Input 1\n",
    "n = 12\n",
    "weak = [1, 5, 6, 10]\n",
    "dist = [1, 2, 3, 4]\n",
    "result = 2\n",
    "if solution(n, weak, dist) == result:\n",
    "    print('Success')\n",
    "else:\n",
    "    print('Fail')"
   ]
  },
  {
   "cell_type": "code",
   "execution_count": null,
   "id": "9927f0fb",
   "metadata": {},
   "outputs": [],
   "source": [
    "# Input 2\n",
    "n = 12\n",
    "weak = [1, 3, 4, 9, 10]\n",
    "dist = [3, 5, 7]\n",
    "result = 1\n",
    "if solution(n, weak, dist) == result:\n",
    "    print('Success')\n",
    "else:\n",
    "    print('Fail')"
   ]
  },
  {
   "cell_type": "code",
   "execution_count": null,
   "id": "b4ad4b7f",
   "metadata": {},
   "outputs": [],
   "source": [
    "# Try\n",
    "def solution(n, weak, dist):\n",
    "    answer = -1\n",
    "    \n",
    "    \n",
    "    \n",
    "    return answer"
   ]
  }
 ],
 "metadata": {
  "kernelspec": {
   "display_name": "Python 3",
   "language": "python",
   "name": "python3"
  },
  "language_info": {
   "codemirror_mode": {
    "name": "ipython",
    "version": 3
   },
   "file_extension": ".py",
   "mimetype": "text/x-python",
   "name": "python",
   "nbconvert_exporter": "python",
   "pygments_lexer": "ipython3",
   "version": "3.8.8"
  }
 },
 "nbformat": 4,
 "nbformat_minor": 5
}
