{
 "cells": [
  {
   "cell_type": "markdown",
   "metadata": {},
   "source": [
    "# 특정 거리의 도시 찾기\n",
    "https://www.acmicpc.net/problem/18352"
   ]
  },
  {
   "cell_type": "code",
   "execution_count": 1,
   "metadata": {},
   "outputs": [
    {
     "name": "stdout",
     "output_type": "stream",
     "text": [
      "4 4 2 1\n",
      "1 2\n",
      "1 3\n",
      "2 3\n",
      "2 4\n",
      "[1, 2]\n",
      "[1, 3]\n",
      "[2, 3]\n",
      "[2, 4]\n"
     ]
    }
   ],
   "source": [
    "# Input\n",
    "n, m, k, x = map(int, input().split())\n",
    "data = []\n",
    "for i in range(n):\n",
    "    data.append(list(map(int, input().split()))) \n",
    "'''\n",
    "for i in range(n):\n",
    "    print(data[i])\n",
    "'''"
   ]
  },
  {
   "cell_type": "code",
   "execution_count": null,
   "metadata": {},
   "outputs": [],
   "source": [
    "# Input 1\n",
    "n, m, k, x = 4, 4, 2, 1\n",
    "data = [[1,2], [1,3], [2,3], [2,4]]\n",
    "\n",
    "print(solution(n, m, k, x, data)) # 정답 : 4"
   ]
  },
  {
   "cell_type": "code",
   "execution_count": null,
   "metadata": {},
   "outputs": [],
   "source": [
    "# Input 2\n",
    "n, m, k, x = 4, 3, 2, 1\n",
    "data = [[1,2], [1,3], [1,4]]\n",
    "\n",
    "print(solution(n, m, k, x, data)) # 정답 : -1"
   ]
  },
  {
   "cell_type": "code",
   "execution_count": null,
   "metadata": {},
   "outputs": [],
   "source": [
    "# Input 3\n",
    "n, m, k, x = 4, 4, 1, 1\n",
    "data = [[1,2], [1,3], [2,3], [2,4]]\n",
    "\n",
    "solution(n, m, k, x, data)\n",
    "# 정답 : \n",
    "2\n",
    "3"
   ]
  },
  {
   "cell_type": "code",
   "execution_count": null,
   "metadata": {},
   "outputs": [],
   "source": [
    "# Try\n",
    "# 시작 지점이 주어진 문제이므로 DFS 방식으로 풀어보자\n",
    "from collections import deque\n",
    "def solution(n, m, k, x, data):\n",
    "    if k == 0 :\n",
    "        print(x)\n",
    "        return\n",
    "    \n",
    "    visited = [0] * (n + 1)\n",
    "    visited[x] = 1 # 자기자신은 최단 거리가 0인 경우에만 해당하므로 방문 처리\n",
    "    \n",
    "    que = deque()\n",
    "    \n",
    "    \n",
    "    "
   ]
  }
 ],
 "metadata": {
  "kernelspec": {
   "display_name": "Python 3",
   "language": "python",
   "name": "python3"
  },
  "language_info": {
   "codemirror_mode": {
    "name": "ipython",
    "version": 3
   },
   "file_extension": ".py",
   "mimetype": "text/x-python",
   "name": "python",
   "nbconvert_exporter": "python",
   "pygments_lexer": "ipython3",
   "version": "3.8.3"
  }
 },
 "nbformat": 4,
 "nbformat_minor": 4
}
