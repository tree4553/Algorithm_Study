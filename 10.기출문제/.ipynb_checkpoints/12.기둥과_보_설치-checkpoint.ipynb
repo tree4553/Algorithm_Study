{
 "cells": [
  {
   "cell_type": "markdown",
   "id": "7d0bc8f9",
   "metadata": {},
   "source": [
    "# 기둥과 보 설치\n",
    "https://school.programmers.co.kr/learn/courses/30/lessons/60061"
   ]
  },
  {
   "cell_type": "code",
   "execution_count": null,
   "id": "bb6f602b",
   "metadata": {},
   "outputs": [],
   "source": [
    "# Input 1\n",
    "n = 5\n",
    "build_frame = [[1,0,0,1],\n",
    "               [1,1,1,1],\n",
    "               [2,1,0,1],\n",
    "               [2,2,1,1],\n",
    "               [5,0,0,1],\n",
    "               [5,1,0,1],\n",
    "               [4,2,1,1],\n",
    "               [3,2,1,1]]\n",
    "\n",
    "answer = [[1,0,0],\n",
    "          [1,1,1],\n",
    "          [2,1,0],\n",
    "          [2,2,1],\n",
    "          [3,2,1],\n",
    "          [4,2,1],\n",
    "          [5,0,0],\n",
    "          [5,1,0]]"
   ]
  },
  {
   "cell_type": "code",
   "execution_count": null,
   "id": "47d697f7",
   "metadata": {},
   "outputs": [],
   "source": [
    "# Input 2\n",
    "n = 5\n",
    "build_frame = [[0,0,0,1],[2,0,0,1],[4,0,0,1],[0,1,1,1],[1,1,1,1],[2,1,1,1],[3,1,1,1],[2,0,0,0],[1,1,1,0],[2,2,0,1]]\n",
    "\n",
    "answer = [[0,0,0],[0,1,1],[1,1,1],[2,1,1],[3,1,1],[4,0,0]]"
   ]
  },
  {
   "cell_type": "code",
   "execution_count": null,
   "id": "e3dd0f0d",
   "metadata": {},
   "outputs": [],
   "source": [
    "# Try\n",
    "def solution(n, build_frame):\n",
    "    answer = [[]]\n",
    "    \n",
    "    for i in range(n):\n",
    "        x, y, a, b = build_frame[i]\n",
    "        if \n",
    "    \n",
    "    return answer"
   ]
  },
  {
   "cell_type": "code",
   "execution_count": null,
   "id": "6fb1d83b",
   "metadata": {},
   "outputs": [],
   "source": [
    "result = solution(n, build_frame)\n",
    "\n",
    "if result == answer:\n",
    "    print('Correct')\n",
    "else:\n",
    "    print('Wrong')\n",
    "    \n",
    "for i in range(len(result)):\n",
    "    print(result[i])"
   ]
  }
 ],
 "metadata": {
  "kernelspec": {
   "display_name": "Python 3",
   "language": "python",
   "name": "python3"
  },
  "language_info": {
   "codemirror_mode": {
    "name": "ipython",
    "version": 3
   },
   "file_extension": ".py",
   "mimetype": "text/x-python",
   "name": "python",
   "nbconvert_exporter": "python",
   "pygments_lexer": "ipython3",
   "version": "3.8.8"
  }
 },
 "nbformat": 4,
 "nbformat_minor": 5
}
