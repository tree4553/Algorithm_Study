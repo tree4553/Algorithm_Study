{
 "cells": [
  {
   "cell_type": "markdown",
   "id": "7d0bc8f9",
   "metadata": {},
   "source": [
    "# 기둥과 보 설치\n",
    "https://school.programmers.co.kr/learn/courses/30/lessons/60061"
   ]
  },
  {
   "cell_type": "code",
   "execution_count": 47,
   "id": "bb6f602b",
   "metadata": {},
   "outputs": [],
   "source": [
    "# Input 1\n",
    "n = 5\n",
    "build_frame = [[1,0,0,1],\n",
    "               [1,1,1,1],\n",
    "               [2,1,0,1],\n",
    "               [2,2,1,1],\n",
    "               [5,0,0,1],\n",
    "               [5,1,0,1],\n",
    "               [4,2,1,1],\n",
    "               [3,2,1,1]]\n",
    "\n",
    "answer = [[1,0,0],\n",
    "          [1,1,1],\n",
    "          [2,1,0],\n",
    "          [2,2,1],\n",
    "          [3,2,1],\n",
    "          [4,2,1],\n",
    "          [5,0,0],\n",
    "          [5,1,0]]"
   ]
  },
  {
   "cell_type": "code",
   "execution_count": 49,
   "id": "47d697f7",
   "metadata": {},
   "outputs": [],
   "source": [
    "# Input 2\n",
    "n = 5\n",
    "build_frame = [[0,0,0,1],[2,0,0,1],[4,0,0,1],[0,1,1,1],[1,1,1,1],[2,1,1,1],[3,1,1,1],[2,0,0,0],[1,1,1,0],[2,2,0,1]]\n",
    "\n",
    "answer = [[0,0,0],[0,1,1],[1,1,1],[2,1,1],[3,1,1],[4,0,0]]"
   ]
  },
  {
   "cell_type": "code",
   "execution_count": 44,
   "id": "e3dd0f0d",
   "metadata": {},
   "outputs": [],
   "source": [
    "# Try 1\n",
    "def solution(n, build_frame):\n",
    "    answer = []\n",
    "\n",
    "    for x, y, a, b in build_frame:\n",
    "        # a 0: 기둥 1: 보\n",
    "        # b 0 : 철거 1: 설치\n",
    "        if b == 0: # 철거\n",
    "            if [x, y, a] in answer:\n",
    "                print('remove : ', x, y, a)\n",
    "                answer.remove([x,y,a])\n",
    "        elif b == 1: # 설치\n",
    "            if a == 0: # 기둥\n",
    "                if y == 0: # 바닥\n",
    "                    print('append 기둥 : ', x, y, a)\n",
    "                    answer.append([x,y,a])\n",
    "                elif y > 0:\n",
    "                    if [x, y - 1, 0] in answer or [x - 1, y, 1] in answer or [x, y, 1] in answer:\n",
    "                        print('append 기둥 : ', x, y, a)\n",
    "                        answer.append([x,y,a])\n",
    "            elif a == 1: # 보\n",
    "                if [x, y - 1, 0] in answer or [x + 1, y - 1, 0] in answer or [x - 1, y, 1] in answer or [x + 1, y, 1] in answer:\n",
    "                    print('append 보 : ', x, y, a)\n",
    "                    answer.append([x,y,a])\n",
    "    \n",
    "    return sorted(answer)\n",
    "\n",
    "# 이미 지어진 보를 제거할때 다른 건축물이 무너지면 철거를 할 수 없다는 조건을 충족하지 못함.\n",
    "# 전체 상태가 정상인지 확인하고 철거와 설치가 진행되도록 코드를 짜야할것 같다."
   ]
  },
  {
   "cell_type": "code",
   "execution_count": 46,
   "id": "4f483287",
   "metadata": {},
   "outputs": [],
   "source": [
    "# Try 2\n",
    "\n",
    "def possible(answer):\n",
    "    for x, y, a in answer:\n",
    "        # a : 0 = 기둥, 1 = 보\n",
    "        if a == 0:\n",
    "            if y == 0 or [x, y - 1, 0] in answer or [x - 1, y, 1] in answer or [x, y, 1] in answer:\n",
    "                continue\n",
    "            else:\n",
    "                return False\n",
    "        if a == 1:\n",
    "            if [x, y - 1, 0] in answer or [x + 1, y - 1, 0] in answer or ([x - 1, y, 1] in answer and [x + 1, y, 1] in answer):\n",
    "                continue\n",
    "            else:\n",
    "                return False\n",
    "    return True\n",
    "\n",
    "def solution(n, build_frame):\n",
    "    answer = []\n",
    "    \n",
    "    for x, y, a, b in build_frame:\n",
    "        # a : 0 = 기둥, 1 = 보\n",
    "        # b : 0 = 철거, 1 = 설치\n",
    "        if b == 0:\n",
    "            answer.remove([x, y, a])\n",
    "            if possible(answer) == False:\n",
    "                answer.append([x, y, a])\n",
    "        if b == 1:\n",
    "            answer.append([x, y, a])\n",
    "            if possible(answer) == False:\n",
    "                answer.remove([x, y, a])\n",
    "    return sorted(answer)"
   ]
  },
  {
   "cell_type": "code",
   "execution_count": 50,
   "id": "6fb1d83b",
   "metadata": {},
   "outputs": [
    {
     "name": "stdout",
     "output_type": "stream",
     "text": [
      "Correct\n",
      "[0, 0, 0]\n",
      "[0, 1, 1]\n",
      "[1, 1, 1]\n",
      "[2, 1, 1]\n",
      "[3, 1, 1]\n",
      "[4, 0, 0]\n"
     ]
    }
   ],
   "source": [
    "result = solution(n, build_frame)\n",
    "\n",
    "if result == answer:\n",
    "    print('Correct')\n",
    "else:\n",
    "    print('Wrong')\n",
    "    \n",
    "for i in range(len(result)):\n",
    "    print(result[i])"
   ]
  },
  {
   "cell_type": "code",
   "execution_count": 29,
   "id": "98801848",
   "metadata": {},
   "outputs": [],
   "source": [
    "# Solution\n",
    "# 현재 설치된 구조물이 '가능한' 구조물인지 확인하는 함수\n",
    "def possible(answer):\n",
    "    for x, y, stuff in answer:\n",
    "        if stuff == 0: # 설치된 것이 '기둥'인 경우\n",
    "            # '바닥 위' 혹은 '보의 한쪽 끝 부분 위' 혹은 '다른 기둥 위'라면 정상\n",
    "            if y == 0 or [x - 1, y, 1] in answer or [x, y, 1] in answer or [x, y - 1, 0] in answer:\n",
    "                continue\n",
    "            return False # 아니라면 거짓(False) 반환\n",
    "        elif stuff == 1: # 설치된 것이 '보'인 경우\n",
    "            # '한쪽 끝부분이 기둥 위' 혹은 '양쪽 끝부분이 다른 보와 동시에 연결'이라면 정상\n",
    "            if [x, y - 1, 0] in answer or [x + 1, y - 1, 0] in answer or ([x - 1, y, 1] in answer and [x + 1, y, 1] in answer):\n",
    "                continue\n",
    "            return False # 아니라면 거짓(False) 반환\n",
    "    return True\n",
    "\n",
    "def solution(n, build_frame):\n",
    "    answer = []\n",
    "    for frame in build_frame: # 작업(frame)의 개수는 최대 1,000개\n",
    "        x, y, stuff, operate = frame\n",
    "        if operate == 0: # 삭제하는 경우\n",
    "            answer.remove([x, y, stuff]) # 일단 삭제를 해본 뒤에\n",
    "            if not possible(answer): # 가능한 구조물인지 확인\n",
    "                answer.append([x, y, stuff]) # 가능한 구조물이 아니라면 다시 설치\n",
    "        if operate == 1: # 설치하는 경우\n",
    "            answer.append([x, y, stuff]) # 일단 설치를 해본 뒤에\n",
    "            if not possible(answer): # 가능한 구조물인지 확인\n",
    "                answer.remove([x, y, stuff]) # 가능한 구조물이 아니라면 다시 제거\n",
    "    return sorted(answer) # 정렬된 결과를 반환"
   ]
  },
  {
   "cell_type": "markdown",
   "id": "b57a6220",
   "metadata": {},
   "source": [
    "# 1회차 풀이 후기\n",
    "처음 문제를 이해하는데 시간이 조금 필요했다.  \n",
    "문제를 풀었는데 제대로 챙기지 못한 조건이 있었다.  \n",
    "문제를 확실하게 파악하고 풀자.  "
   ]
  }
 ],
 "metadata": {
  "kernelspec": {
   "display_name": "Python 3",
   "language": "python",
   "name": "python3"
  },
  "language_info": {
   "codemirror_mode": {
    "name": "ipython",
    "version": 3
   },
   "file_extension": ".py",
   "mimetype": "text/x-python",
   "name": "python",
   "nbconvert_exporter": "python",
   "pygments_lexer": "ipython3",
   "version": "3.8.8"
  }
 },
 "nbformat": 4,
 "nbformat_minor": 5
}
