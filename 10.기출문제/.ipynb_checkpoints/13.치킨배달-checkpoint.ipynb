{
 "cells": [
  {
   "cell_type": "markdown",
   "id": "eed8dfe1",
   "metadata": {},
   "source": [
    "# 치킨 배달\n",
    "https://www.acmicpc.net/problem/15686"
   ]
  },
  {
   "cell_type": "code",
   "execution_count": 4,
   "id": "4cd944ce",
   "metadata": {},
   "outputs": [
    {
     "name": "stdout",
     "output_type": "stream",
     "text": [
      "5 3\n",
      "0 0 1 0 0\n",
      "0 0 2 0 1\n",
      "0 1 2 0 0\n",
      "0 0 1 0 0\n",
      "0 0 0 0 2\n",
      "5 3\n",
      "[0, 0, 1, 0, 0]\n",
      "[0, 0, 2, 0, 1]\n",
      "[0, 1, 2, 0, 0]\n",
      "[0, 0, 1, 0, 0]\n",
      "[0, 0, 0, 0, 2]\n"
     ]
    }
   ],
   "source": [
    "# Input\n",
    "n, m = map(int, input().split())\n",
    "data = []\n",
    "for i in range(n):\n",
    "    data.append(list(map(int, input().split())))\n",
    "\n",
    "'''\n",
    "print(n, m)\n",
    "for i in range(n):\n",
    "    print(data[i])\n",
    "'''"
   ]
  },
  {
   "cell_type": "code",
   "execution_count": 90,
   "id": "2ccc4620",
   "metadata": {},
   "outputs": [
    {
     "name": "stdout",
     "output_type": "stream",
     "text": [
      "5\n"
     ]
    }
   ],
   "source": [
    "# Input 1\n",
    "n, m = 5, 3\n",
    "data = [[0,0,1,0,0], [0,0,2,0,1], [0,1,2,0,0], [0,0,1,0,0], [0,0,0,0,2]]\n",
    "print(solution(n, m, data)) # 정답 : 5"
   ]
  },
  {
   "cell_type": "code",
   "execution_count": 89,
   "id": "5c0c7a48",
   "metadata": {},
   "outputs": [
    {
     "name": "stdout",
     "output_type": "stream",
     "text": [
      "10\n"
     ]
    }
   ],
   "source": [
    "# Input 2\n",
    "n, m = 5, 2\n",
    "data = [[0, 2, 0, 1, 0], [1, 0, 1, 0, 0], [0, 0, 0, 0, 0], [2, 0, 0, 1, 1], [2, 2, 0, 1, 2]]\n",
    "print(solution(n, m, data)) # 정답 : 10"
   ]
  },
  {
   "cell_type": "code",
   "execution_count": 88,
   "id": "d257d9e6",
   "metadata": {},
   "outputs": [
    {
     "name": "stdout",
     "output_type": "stream",
     "text": [
      "11\n"
     ]
    }
   ],
   "source": [
    "# Input 3\n",
    "n, m = 5, 1\n",
    "data = [[1,2,0,0,0], [1,2,0,0,0], [1,2,0,0,0], [1,2,0,0,0], [1,2,0,0,0]]\n",
    "print(solution(n, m, data)) # 정답 : 11"
   ]
  },
  {
   "cell_type": "code",
   "execution_count": 87,
   "id": "dacd86a8",
   "metadata": {},
   "outputs": [
    {
     "name": "stdout",
     "output_type": "stream",
     "text": [
      "32\n"
     ]
    }
   ],
   "source": [
    "# Input 4\n",
    "n, m = 5, 1\n",
    "data = [[1, 2, 0, 2, 1], [1, 2, 0, 2, 1], [1, 2, 0, 2, 1], [1, 2, 0, 2, 1], [1, 2, 0, 2, 1]]\n",
    "print(solution(n, m, data)) # 정답 : 32"
   ]
  },
  {
   "cell_type": "code",
   "execution_count": 35,
   "id": "628c8608",
   "metadata": {},
   "outputs": [],
   "source": [
    "# Try\n",
    "import copy\n",
    "def solution(n, m, data):\n",
    "    answer = 0\n",
    "    \n",
    "    #  집 : 1, 치킨집 : 2\n",
    "    home, chicken = find(data)\n",
    "    answer = find_shortest(home, chicken, m)\n",
    "    \n",
    "    return answer\n",
    "\n",
    "def find(data):\n",
    "    home = []\n",
    "    chicken = []\n",
    "    for i in range(len(data)):\n",
    "        row = data[i]\n",
    "        for j in range(len(row)):\n",
    "            if row[j] == 1:\n",
    "                home.append([i,j])\n",
    "            elif row[j] == 2:\n",
    "                chicken.append([i,j])\n",
    "    return home, chicken\n",
    "                \n",
    "def find_shortest(home, chicken, m):\n",
    "    result = 0\n",
    "    \n",
    "    distance = [0] * len(chicken)\n",
    "    # 치킨집들과 집들과의 거리를 구한다.\n",
    "    for i in range(len(chicken)):\n",
    "        for x, y in home:\n",
    "            distX = abs(x - chicken[i][0])\n",
    "            distY = abs(y - chicken[i][1])\n",
    "            distance[i] += distX + distY\n",
    "    \n",
    "    selected = []\n",
    "    sorted_distance = sorted(distance)\n",
    "    temp_distance = copy.deepcopy(distance)\n",
    "    \n",
    "    for i in range(m):\n",
    "        # 모든 집과의 거리가 가장 짧은 m개의 치킨집의 인덱스를 저장한다.\n",
    "        # 중복된 거리값에 대하여 같은 인덱스 번호를 가져오는 문제 발생\n",
    "        # pop 또는 remove를 이용하여 중복값을 제거하려해도 index 번호가 바뀌기 때문에 사용할 수 없다.\n",
    "        num = temp_distance.index(sorted_distance[i])\n",
    "        temp_distance[num] = 999 # index에 추가한 index의 distance 값을 999로 바꾸어서 중복 제거\n",
    "        selected.append(num)\n",
    "    \n",
    "    # 선택된 m개의 치킨집과 집들과의 거리의 최소값을 구해서 result에 더한다.\n",
    "    for i in range(len(home)):\n",
    "        temp_distance = 999\n",
    "        x, y = home[i]\n",
    "        for j in range(len(selected)):\n",
    "            chickenX, chickenY = chicken[selected[j]]\n",
    "            distX = abs(x - chickenX)\n",
    "            distY = abs(y - chickenY)\n",
    "            dist = distX + distY\n",
    "            if dist < temp_distance:\n",
    "                temp_distance = dist\n",
    "        \n",
    "        #print(x, y, temp_distance)\n",
    "        result += temp_distance\n",
    "    \n",
    "    #print(selected)\n",
    "    return result"
   ]
  },
  {
   "cell_type": "code",
   "execution_count": 86,
   "id": "3545c674",
   "metadata": {},
   "outputs": [
    {
     "name": "stdout",
     "output_type": "stream",
     "text": [
      "4\n"
     ]
    }
   ],
   "source": [
    "# Input 5\n",
    "# 치킨집과 집들간의 거리의 누적합이 가장 작은 집들을 고르면 되는줄 알았는데\n",
    "# 아래와 같은 반례가 존재한다.\n",
    "# 가운데 치킨집을 제거하면 정답은 4가 되는데 실행 결과는 6이 나온다.\n",
    "n, m = 5, 4\n",
    "data=[[2,1,0,1,2],\n",
    "      [0,0,0,0,0],\n",
    "      [0,0,2,0,0],\n",
    "      [0,0,0,0,0],\n",
    "      [2,1,0,1,2]]\n",
    "print(solution(n, m, data)) # 정답 : 4"
   ]
  },
  {
   "cell_type": "code",
   "execution_count": 85,
   "id": "5c8ca661",
   "metadata": {},
   "outputs": [],
   "source": [
    "# Try 2\n",
    "# N이 50으로 숫자가 작으므로 모든 경우를 구해서 가장 작은 결과값을 찾는 방법으로 풀어야한다.\n",
    "from itertools import combinations\n",
    "\n",
    "def solution(n, m, data):\n",
    "    answer = 0\n",
    "    \n",
    "    #  집 : 1, 치킨집 : 2\n",
    "    houses, chickens = find(data)\n",
    "    answer = find_shortest(houses, chickens, m)\n",
    "    \n",
    "    return answer\n",
    "\n",
    "def find(data):\n",
    "    home = []\n",
    "    chicken = []\n",
    "    for i in range(len(data)):\n",
    "        row = data[i]\n",
    "        for j in range(len(row)):\n",
    "            if row[j] == 1:\n",
    "                home.append([i,j])\n",
    "            elif row[j] == 2:\n",
    "                chicken.append([i,j])\n",
    "    return home, chicken\n",
    "\n",
    "def find_shortest(houses, chickens, m):\n",
    "    result = []\n",
    "    comb = list(combinations(chickens, m))\n",
    "    \n",
    "    for case in comb:\n",
    "        sum_dist = 0\n",
    "        \n",
    "        for i in range(len(houses)):\n",
    "            min_dist = 1e9\n",
    "            for j in range(len(case)):\n",
    "                \n",
    "                distX = abs(houses[i][0] - case[j][0])\n",
    "                distY = abs(houses[i][1] - case[j][1])\n",
    "                '''\n",
    "                if min_dist > distX + distY:\n",
    "                    print('house:',houses[i])\n",
    "                    print('chicken:', case[j])\n",
    "                    print('distX:', distX)\n",
    "                    print('distY:', distY)\n",
    "                    print('dist:', distX + distY)\n",
    "                    print('')\n",
    "                '''\n",
    "                min_dist = min(min_dist, distX + distY)\n",
    "            sum_dist += min_dist\n",
    "        result.append(sum_dist)\n",
    "    #print(result)\n",
    "    return(min(result))"
   ]
  },
  {
   "cell_type": "code",
   "execution_count": null,
   "id": "a60475e2",
   "metadata": {},
   "outputs": [],
   "source": [
    "# Solution\n",
    "from itertools import combinations\n",
    "\n",
    "n, m = map(int, input().split())\n",
    "chicken, house = [], []\n",
    "\n",
    "for r in range(n):\n",
    "    data = list(map(int, input().split()))\n",
    "    for c in range(n):\n",
    "        if data[c] == 1:\n",
    "            house.append((r, c)) # 일반 집\n",
    "        elif data[c] == 2:\n",
    "            chicken.append((r, c)) # 치킨집\n",
    "\n",
    "# 모든 치킨 집 중에서 m개의 치킨 집을 뽑는 조합 계산\n",
    "candidates = list(combinations(chicken, m))\n",
    "\n",
    "# 치킨 거리의 합을 계산하는 함수\n",
    "def get_sum(candidate):\n",
    "    result = 0\n",
    "    # 모든 집에 대하여\n",
    "    for hx, hy in house:\n",
    "        # 가장 가까운 치킨 집을 찾기\n",
    "        temp = 1e9\n",
    "        for cx, cy in candidate:\n",
    "            temp = min(temp, abs(hx - cx) + abs(hy - cy))\n",
    "        # 가장 가까운 치킨 집까지의 거리를 더하기\n",
    "        result += temp\n",
    "    # 치킨 거리의 합 반환\n",
    "    return result\n",
    "\n",
    "# 치킨 거리의 합의 최소를 찾아 출력\n",
    "result = 1e9\n",
    "for candidate in candidates:\n",
    "    result = min(result, get_sum(candidate))\n",
    "\n",
    "print(result)"
   ]
  },
  {
   "cell_type": "markdown",
   "id": "60efcea5",
   "metadata": {},
   "source": [
    "# 1회차 풀이 후기\n",
    "맨처음 풀었을 때 거리의 누적합이 가장 작은 집들을 고르면 되는줄 알았는데  \n",
    "답을 제출하자마자 틀렸습니다가 나와서 반례를 찾느라 고생했다.  \n",
    "그냥 느낌적으로 누적합이 가장 작으면 되지 않을까 했던게 문제가 됐다.  \n",
    "범위가 작다는 점을 파악하여 모든 케이스를 다 다루는 방향으로 생각을 바꿔서 다시 풀었고,  \n",
    "맞았습니다!! 결과를 받아서 다행이었다."
   ]
  }
 ],
 "metadata": {
  "kernelspec": {
   "display_name": "Python 3",
   "language": "python",
   "name": "python3"
  },
  "language_info": {
   "codemirror_mode": {
    "name": "ipython",
    "version": 3
   },
   "file_extension": ".py",
   "mimetype": "text/x-python",
   "name": "python",
   "nbconvert_exporter": "python",
   "pygments_lexer": "ipython3",
   "version": "3.8.8"
  }
 },
 "nbformat": 4,
 "nbformat_minor": 5
}
