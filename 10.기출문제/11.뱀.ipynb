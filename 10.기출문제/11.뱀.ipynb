{
 "cells": [
  {
   "cell_type": "markdown",
   "metadata": {},
   "source": [
    "# 뱀\n",
    "https://www.acmicpc.net/problem/3190"
   ]
  },
  {
   "cell_type": "code",
   "execution_count": 7,
   "metadata": {},
   "outputs": [
    {
     "name": "stdout",
     "output_type": "stream",
     "text": [
      "6\n",
      "3\n",
      "3 4\n",
      "2 5\n",
      "5 3\n",
      "3\n",
      "3 D\n",
      "15 L\n",
      "17 D\n"
     ]
    }
   ],
   "source": [
    "# Input\n",
    "n = int(input())\n",
    "k = int(input())\n",
    "data = [[0] * (n + 1) for _ in range(n + 1)]\n",
    "directions = []\n",
    "\n",
    "\n",
    "for _ in range(k):\n",
    "    a, b = map(int, input().split())\n",
    "    data[a][b] = 1\n",
    "    \n",
    "l = int(input())\n",
    "for _ in range(l):\n",
    "    x, c = input().split()\n",
    "    directions.append((int(x), c))"
   ]
  },
  {
   "cell_type": "code",
   "execution_count": 9,
   "metadata": {},
   "outputs": [],
   "source": [
    "# Input 1\n",
    "n = 6\n",
    "k = 3\n",
    "data = [[0] * (n + 1) for _ in range(n + 1)]\n",
    "data[3][4] = 1\n",
    "data[2][5] = 1\n",
    "data[5][3] = 1\n",
    "l = 3\n",
    "directions = [(3, 'D'), (15, 'L'), (17, 'D')]\n",
    "\n",
    "print(solution(n, k, data, l, directions)) # 예상 출력 : 9"
   ]
  },
  {
   "cell_type": "code",
   "execution_count": null,
   "metadata": {},
   "outputs": [],
   "source": [
    "# Input 2\n",
    "n = 10\n",
    "k = 4\n",
    "data = [[0] * (n + 1) for _ in range(n + 1)]\n",
    "data[1][2] = 1\n",
    "data[1][3] = 1\n",
    "data[1][4] = 1\n",
    "data[1][5] = 1\n",
    "l = 4\n",
    "directions = [(8, 'D'), (10, 'D'), (11, 'D'), (13, L)]\n",
    "\n",
    "print(solution(n, k, data, l, directions)) # 예상 출력 : 21"
   ]
  },
  {
   "cell_type": "code",
   "execution_count": null,
   "metadata": {},
   "outputs": [],
   "source": [
    "# Input 3\n",
    "n = 10\n",
    "k = 5\n",
    "data = [[0] * (n + 1) for _ in range(n + 1)]\n",
    "data[1][5] = 1\n",
    "data[1][3] = 1\n",
    "data[1][2] = 1\n",
    "data[1][6] = 1\n",
    "data[1][7] = 1\n",
    "l = 4\n",
    "directions = [(8, 'D'), (10, 'D'), (11, 'D'), (13, L)]\n",
    "\n",
    "print(solution(n, k, data, l, directions)) # 예상 출력 : 13"
   ]
  },
  {
   "cell_type": "code",
   "execution_count": null,
   "metadata": {},
   "outputs": [],
   "source": [
    "# Try\n",
    "def solution(n, k, data, l, directions):\n",
    "    answer = 0\n",
    "    \n",
    "    \n",
    "    \n",
    "    return answer"
   ]
  },
  {
   "cell_type": "markdown",
   "metadata": {},
   "source": [
    "# 1회차 풀이 후기\n"
   ]
  }
 ],
 "metadata": {
  "kernelspec": {
   "display_name": "Python 3",
   "language": "python",
   "name": "python3"
  },
  "language_info": {
   "codemirror_mode": {
    "name": "ipython",
    "version": 3
   },
   "file_extension": ".py",
   "mimetype": "text/x-python",
   "name": "python",
   "nbconvert_exporter": "python",
   "pygments_lexer": "ipython3",
   "version": "3.8.3"
  }
 },
 "nbformat": 4,
 "nbformat_minor": 4
}
