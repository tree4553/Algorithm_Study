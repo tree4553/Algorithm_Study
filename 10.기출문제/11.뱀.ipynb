{
 "cells": [
  {
   "cell_type": "markdown",
   "metadata": {},
   "source": [
    "# 뱀\n",
    "\n",
    "https://www.acmicpc.net/problem/3190"
   ]
  },
  {
   "cell_type": "code",
   "execution_count": 68,
   "metadata": {},
   "outputs": [
    {
     "name": "stdout",
     "output_type": "stream",
     "text": [
      "10\n",
      "5\n",
      "1 5\n",
      "1 3\n",
      "1 2\n",
      "1 6\n",
      "1 7\n",
      "4\n",
      "8 D\n",
      "10 D\n",
      "11 D\n",
      "13 L\n",
      "18\n"
     ]
    }
   ],
   "source": [
    "# Input\n",
    "n = int(input())\n",
    "k = int(input())\n",
    "apples = []\n",
    "for i in range(k):\n",
    "    apples.append(list(map(int,input().split())))\n",
    "l = int(input())\n",
    "directions = []\n",
    "for i in range(l):\n",
    "    a, b = input().split()\n",
    "    directions.append([int(a), b])\n",
    "\n",
    "print(func(n,k,apples,l,directions))"
   ]
  },
  {
   "cell_type": "code",
   "execution_count": 16,
   "metadata": {},
   "outputs": [],
   "source": [
    "# Try\n",
    "from collections import deque\n",
    "import copy\n",
    "def func(n, k, apples, l, directions):\n",
    "    answer = 0\n",
    "    time = 0\n",
    "    direction = 0\n",
    "    length = 1\n",
    "    move = [[0,1], [1,0], [0,-1], [-1,0]] # 오른쪽 : 0, 아래 : 1, 왼쪽 : 2, 위 : 3\n",
    "    map = [[0] * n for _ in range(n)]\n",
    "    \n",
    "    map[0][0] = 1 # 뱀은 1로 표시\n",
    "    que = deque()\n",
    "    que.append([0,0])\n",
    "    \n",
    "    for i in range(k):\n",
    "        map[apples[i][0] - 1][apples[i][1] - 1] += 2 # 사과는 2로 표시\n",
    "        \n",
    "    for i in range(l): # 이동 지령 횟수 만큼 반복\n",
    "        #time, rotate = direction[i]\n",
    "        moveTime = int(directions[i][0]) - time\n",
    "        rotate = directions[i][1]\n",
    "        \n",
    "        for _ in range(moveTime): # 이동 지령의 시간 만큼 반복\n",
    "            for _ in range(length): # 뱀의 길이 만큼 반복\n",
    "                eat = False\n",
    "                answer += 1\n",
    "                head = copy.deepcopy(que[0])\n",
    "                tail = copy.deepcopy(que[-1])\n",
    "                \n",
    "                head[0] += move[direction][0] # 머리를 방향으로 이동\n",
    "                head[1] += move[direction][1]\n",
    "                                           \n",
    "                if head[0] >= n or head[0] < 0 or head[1] >= n or head[1] < 0 : # 벽에 닿는 경우 리턴\n",
    "                    print('벽')\n",
    "                    for p in range(n):\n",
    "                        print(map[p])\n",
    "                    return answer\n",
    "\n",
    "                if map[head[0]][head[1]] == 1: # 몸통에 닿는 경우 리턴\n",
    "                    print('몸')\n",
    "                    for p in range(n):\n",
    "                        print(map[p])\n",
    "                    return answer\n",
    "\n",
    "                if map[head[0]][head[1]] == 2: # 사과에 닿는 경우\n",
    "                    eat = True\n",
    "                    map[head[0]][head[1]] = 0\n",
    "                \n",
    "                if length > 1: # 몸통을 한칸씩 이동\n",
    "                    for j in range(1, length):\n",
    "                        que[j] = que[j-1]\n",
    "                \n",
    "                que[0] = head\n",
    "                map[head[0]][head[1]] += 1 # 머리 이동 후 맵에 뱀 표시 추가\n",
    "                \n",
    "                if eat == True: # 사과를 먹었다면 꼬리를 추가\n",
    "                    que.append(tail)\n",
    "                    length += 1\n",
    "                    map[tail[0]][tail[1]] = 1\n",
    "                else: # 사과를 먹지 못했다면 꼬리의 뱀 표시 제거\n",
    "                    map[tail[0]][tail[1]] = 0\n",
    "                    \n",
    "                time += 1\n",
    "        if rotate == 'D': # 이동 완료 후 방향 전환\n",
    "            direction += 1\n",
    "        else:\n",
    "            direction -= 1\n",
    "    print('done')\n",
    "    print(que)\n",
    "    head = que[0]\n",
    "    print(head)\n",
    "    while 0 < head[0] < n and 0 < head[1] < n:\n",
    "        head[0] += move[direction][0]\n",
    "        head[1] += move[direction][1]\n",
    "        prnit(head)\n",
    "        answer += 1\n",
    "    return answer"
   ]
  },
  {
   "cell_type": "code",
   "execution_count": 17,
   "metadata": {
    "scrolled": false
   },
   "outputs": [
    {
     "name": "stdout",
     "output_type": "stream",
     "text": [
      "벽\n",
      "[0, 0, 0, 0, 0, 0]\n",
      "[0, 0, 0, 1, 2, 0]\n",
      "[0, 0, 0, 0, 0, 0]\n",
      "[0, 0, 0, 0, 0, 0]\n",
      "[0, 0, 2, 1, 0, 0]\n",
      "[0, 0, 0, 1, 0, 0]\n",
      "9\n"
     ]
    }
   ],
   "source": [
    "# Input 1\n",
    "n, k = 6, 3\n",
    "apples = [[3,4],[2,5],[5,3]]\n",
    "l = 3\n",
    "directions = [[3,'D'], [15,'L'], [17,'D']]\n",
    "\n",
    "print(func(n,k,apples,l,directions)) # 9"
   ]
  },
  {
   "cell_type": "code",
   "execution_count": 18,
   "metadata": {},
   "outputs": [
    {
     "name": "stdout",
     "output_type": "stream",
     "text": [
      "벽\n",
      "[4, 1, 1, 1, 0, 0, 0, 0, 1, 1]\n",
      "[0, 0, 0, 0, 0, 0, 0, 0, 0, 0]\n",
      "[0, 0, 0, 0, 0, 0, 0, 0, 0, 0]\n",
      "[0, 0, 0, 0, 0, 0, 0, 0, 0, 0]\n",
      "[0, 0, 0, 0, 0, 0, 0, 0, 0, 0]\n",
      "[0, 0, 0, 0, 0, 0, 0, 0, 0, 0]\n",
      "[0, 0, 0, 0, 0, 0, 0, 0, 0, 0]\n",
      "[0, 0, 0, 0, 0, 0, 0, 0, 0, 0]\n",
      "[0, 0, 0, 0, 0, 0, 0, 0, 0, 0]\n",
      "[0, 0, 0, 0, 0, 0, 0, 0, 0, 0]\n",
      "10\n"
     ]
    }
   ],
   "source": [
    "# Input 2\n",
    "n, k = 10, 4\n",
    "apples = [[1,2],[1,3],[1,4], [1,5]]\n",
    "l = 4\n",
    "directions = [[8,'D'], [10,'D'], [11,'D'], [13,'L']]\n",
    "\n",
    "print(func(n,k,apples,l,directions)) # 21"
   ]
  },
  {
   "cell_type": "code",
   "execution_count": 13,
   "metadata": {},
   "outputs": [
    {
     "name": "stdout",
     "output_type": "stream",
     "text": [
      "벽\n",
      "[0, 0, 0, 0, 0, 0, 0, 1, 0, 0]\n",
      "[0, 0, 2, 2, 0, 2, 2, 1, 0, 0]\n",
      "[0, 0, 0, 0, 0, 0, 0, 1, 0, 0]\n",
      "[0, 0, 0, 0, 0, 0, 0, 0, 0, 0]\n",
      "[0, 0, 0, 0, 0, 0, 0, 0, 0, 0]\n",
      "[0, 0, 0, 0, 0, 0, 0, 0, 0, 0]\n",
      "[0, 0, 0, 0, 0, 0, 0, 0, 0, 0]\n",
      "[0, 0, 0, 0, 0, 0, 0, 0, 0, 0]\n",
      "[0, 0, 0, 0, 0, 0, 0, 0, 0, 0]\n",
      "[0, 0, 0, 0, 0, 0, 0, 0, 0, 0]\n",
      "14\n"
     ]
    }
   ],
   "source": [
    "# Input 3\n",
    "n, k = 10, 5\n",
    "apples = [[1,5],[1,3],[1,2], [1,6], [1,7]]\n",
    "l = 4\n",
    "directions = [[8,'D'], [10,'D'], [11,'D'], [13,'L']]\n",
    "\n",
    "print(func(n,k,apples,l,directions)) # 13"
   ]
  }
 ],
 "metadata": {
  "kernelspec": {
   "display_name": "Python 3",
   "language": "python",
   "name": "python3"
  },
  "language_info": {
   "codemirror_mode": {
    "name": "ipython",
    "version": 3
   },
   "file_extension": ".py",
   "mimetype": "text/x-python",
   "name": "python",
   "nbconvert_exporter": "python",
   "pygments_lexer": "ipython3",
   "version": "3.8.3"
  }
 },
 "nbformat": 4,
 "nbformat_minor": 5
}
