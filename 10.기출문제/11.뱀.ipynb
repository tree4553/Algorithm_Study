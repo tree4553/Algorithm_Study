{
 "cells": [
  {
   "cell_type": "markdown",
   "metadata": {},
   "source": [
    "# 뱀\n",
    "https://www.acmicpc.net/problem/3190"
   ]
  },
  {
   "cell_type": "code",
   "execution_count": 7,
   "metadata": {},
   "outputs": [
    {
     "name": "stdout",
     "output_type": "stream",
     "text": [
      "6\n",
      "3\n",
      "3 4\n",
      "2 5\n",
      "5 3\n",
      "3\n",
      "3 D\n",
      "15 L\n",
      "17 D\n"
     ]
    }
   ],
   "source": [
    "# Input\n",
    "n = int(input())\n",
    "k = int(input())\n",
    "data = [[0] * (n + 1) for _ in range(n + 1)]\n",
    "directions = []\n",
    "\n",
    "for _ in range(k):\n",
    "    a, b = map(int, input().split())\n",
    "    data[a][b] = 1\n",
    "    \n",
    "l = int(input())\n",
    "for _ in range(l):\n",
    "    x, c = input().split()\n",
    "    directions.append([int(x), c])"
   ]
  },
  {
   "cell_type": "code",
   "execution_count": 47,
   "metadata": {},
   "outputs": [
    {
     "name": "stdout",
     "output_type": "stream",
     "text": [
      "9\n"
     ]
    }
   ],
   "source": [
    "# Input 1\n",
    "n = 6\n",
    "k = 3\n",
    "data = [[0] * (n + 1) for _ in range(n + 1)]\n",
    "data[3][4] = 1\n",
    "data[2][5] = 1\n",
    "data[5][3] = 1\n",
    "l = 3\n",
    "directions = [(3, 'D'), (15, 'L'), (17, 'D')]\n",
    "\n",
    "print(solution(n, k, data, l, directions)) # 예상 출력 : 9"
   ]
  },
  {
   "cell_type": "code",
   "execution_count": 46,
   "metadata": {},
   "outputs": [
    {
     "name": "stdout",
     "output_type": "stream",
     "text": [
      "21\n"
     ]
    }
   ],
   "source": [
    "# Input 2\n",
    "n = 10\n",
    "k = 4\n",
    "data = [[0] * (n + 1) for _ in range(n + 1)]\n",
    "data[1][2] = 1\n",
    "data[1][3] = 1\n",
    "data[1][4] = 1\n",
    "data[1][5] = 1\n",
    "l = 4\n",
    "directions = [(8, 'D'), (10, 'D'), (11, 'D'), (13, 'L')]\n",
    "\n",
    "print(solution(n, k, data, l, directions)) # 예상 출력 : 21"
   ]
  },
  {
   "cell_type": "code",
   "execution_count": 45,
   "metadata": {},
   "outputs": [
    {
     "name": "stdout",
     "output_type": "stream",
     "text": [
      "13\n"
     ]
    }
   ],
   "source": [
    "# Input 3\n",
    "n = 10\n",
    "k = 5\n",
    "data = [[0] * (n + 1) for _ in range(n + 1)]\n",
    "data[1][5] = 1\n",
    "data[1][3] = 1\n",
    "data[1][2] = 1\n",
    "data[1][6] = 1\n",
    "data[1][7] = 1\n",
    "l = 4\n",
    "directions = [(8, 'D'), (10, 'D'), (11, 'D'), (13, 'L')]\n",
    "\n",
    "print(solution(n, k, data, l, directions)) # 예상 출력 : 13"
   ]
  },
  {
   "cell_type": "code",
   "execution_count": 44,
   "metadata": {},
   "outputs": [],
   "source": [
    "# Try\n",
    "def solution(n, k, data, l, directions):\n",
    "    time = 0\n",
    "    direct = 0\n",
    "    dx = [0, 1, 0, -1]\n",
    "    dy = [1, 0, -1, 0]\n",
    "    snake = [[1,1]]\n",
    "    \n",
    "    while True:\n",
    "        for _ in range(len(directions)):\n",
    "            direction = directions.pop(0)\n",
    "            time_at, turn = direction[0], direction[1]\n",
    "            while time < time_at:\n",
    "                time += 1\n",
    "                head = snake[-1]\n",
    "                x = head[0] + dx[direct]\n",
    "                y = head[1] + dy[direct]\n",
    "                \n",
    "                if x < 1 or x > n or y < 1 or y > n: # 벽에 박음\n",
    "                    return time\n",
    "                if data[x][y] == 2: # 몸통에 박음\n",
    "                    return time\n",
    "                \n",
    "                snake.append([x,y])\n",
    "                if data[x][y] == 0:\n",
    "                    a, b = snake[0]\n",
    "                    data[a][b] = 0\n",
    "                    del snake[0]\n",
    "                data[x][y] = 2\n",
    "                #show_snake(n, snake)\n",
    "                \n",
    "            if turn == 'D':\n",
    "                direct += 1\n",
    "            elif turn == 'L':\n",
    "                direct -= 1\n",
    "            if direct == -1:\n",
    "                direct = 3\n",
    "            if direct == 4:\n",
    "                direct = 0\n",
    "        \n",
    "        time += 1\n",
    "        head = snake[-1]\n",
    "        x = head[0] + dx[direct]\n",
    "        y = head[1] + dy[direct]\n",
    "        if x < 1 or x > n or y < 1 or y > n: # 벽에 박음\n",
    "            return time\n",
    "        if data[x][y] == 2: # 몸통에 박음\n",
    "            return time\n",
    "        snake.append([x,y])\n",
    "        if data[x][y] == 0:\n",
    "            a, b = snake[0]\n",
    "            data[a][b] = 0\n",
    "            del snake[0]\n",
    "        data[x][y] = 2\n",
    "        #show_snake(n, snake)\n",
    "    return time\n",
    "\n",
    "def show_snake(n, snake):\n",
    "    array = [[0] * (n + 1) for _ in range(n + 1)]\n",
    "    for i in snake:\n",
    "        array[i[0]][i[1]] = 1\n",
    "        \n",
    "    for i in range(n + 1):\n",
    "        print(array[i])"
   ]
  },
  {
   "cell_type": "code",
   "execution_count": 31,
   "metadata": {},
   "outputs": [
    {
     "name": "stdout",
     "output_type": "stream",
     "text": [
      "10\n",
      "5\n",
      "1 5\n",
      "1 3\n",
      "1 2\n",
      "1 6\n",
      "1 7\n",
      "4\n",
      "8 D\n",
      "10 D\n",
      "11 D\n",
      "13 L\n",
      "13\n"
     ]
    }
   ],
   "source": [
    "# Solution\n",
    "n = int(input())\n",
    "k = int(input())\n",
    "data = [[0] * (n + 1) for _ in range(n + 1)] # 맵 정보\n",
    "info = [] # 방향 회전 정보\n",
    "\n",
    "# 맵 정보(사과 있는 곳은 1로 표시)\n",
    "for _ in range(k):\n",
    "    a, b = map(int, input().split())\n",
    "    data[a][b] = 1\n",
    "\n",
    "# 방향 회전 정보 입력\n",
    "l = int(input())\n",
    "for _ in range(l):\n",
    "    x, c = input().split()\n",
    "    info.append((int(x), c))\n",
    "\n",
    "# 처음에는 오른쪽을 보고 있으므로(동, 남, 서, 북)\n",
    "dx = [0, 1, 0, -1]\n",
    "dy = [1, 0, -1, 0]\n",
    "\n",
    "def turn(direction, c):\n",
    "    if c == \"L\":\n",
    "        direction = (direction - 1) % 4\n",
    "    else:\n",
    "        direction = (direction + 1) % 4\n",
    "    return direction\n",
    "\n",
    "def simulate():\n",
    "    x, y = 1, 1 # 뱀의 머리 위치\n",
    "    data[x][y] = 2 # 뱀이 존재하는 위치는 2로 표시\n",
    "    direction = 0 # 처음에는 동쪽을 보고 있음\n",
    "    time = 0 # 시작한 뒤에 지난 '초' 시간\n",
    "    index = 0 # 다음에 회전할 정보\n",
    "    q = [(x, y)] # 뱀이 차지하고 있는 위치 정보(꼬리가 앞쪽)\n",
    "\n",
    "    while True:\n",
    "        nx = x + dx[direction]\n",
    "        ny = y + dy[direction]\n",
    "        # 맵 범위 안에 있고, 뱀의 몸통이 없는 위치라면\n",
    "        if 1 <= nx and nx <= n and 1 <= ny and ny <= n and data[nx][ny] != 2:\n",
    "            # 사과가 없다면 이동 후에 꼬리 제거\n",
    "            if data[nx][ny] == 0:\n",
    "                data[nx][ny] = 2\n",
    "                q.append((nx, ny))\n",
    "                px, py = q.pop(0)\n",
    "                data[px][py] = 0\n",
    "            # 사과가 있다면 이동 후에 꼬리 그대로 두기\n",
    "            if data[nx][ny] == 1:\n",
    "                data[nx][ny] = 2\n",
    "                q.append((nx, ny))\n",
    "        # 벽이나 뱀의 몸통과 부딪혔다면\n",
    "        else:\n",
    "            time += 1\n",
    "            break\n",
    "        x, y = nx, ny # 다음 위치로 머리를 이동\n",
    "        time += 1\n",
    "        if index < l and time == info[index][0]: # 회전할 시간인 경우 회전\n",
    "            direction = turn(direction, info[index][1])\n",
    "            index += 1\n",
    "    return time\n",
    "\n",
    "print(simulate())"
   ]
  },
  {
   "cell_type": "code",
   "execution_count": null,
   "metadata": {},
   "outputs": [],
   "source": [
    "# 백준 저지 제출용\n",
    "def solution(n, k, data, l, directions):\n",
    "    time = 0\n",
    "    direct = 0\n",
    "    dx = [0, 1, 0, -1]\n",
    "    dy = [1, 0, -1, 0]\n",
    "    snake = [[1,1]]\n",
    "    \n",
    "    while True:\n",
    "        for _ in range(len(directions)):\n",
    "            direction = directions.pop(0)\n",
    "            time_at, turn = direction[0], direction[1]\n",
    "            while time < time_at:\n",
    "                time += 1\n",
    "                head = snake[-1]\n",
    "                x = head[0] + dx[direct]\n",
    "                y = head[1] + dy[direct]\n",
    "                \n",
    "                if x < 1 or x > n or y < 1 or y > n: # 벽에 박음\n",
    "                    return time\n",
    "                if data[x][y] == 2: # 몸통에 박음\n",
    "                    return time\n",
    "                \n",
    "                snake.append([x,y])\n",
    "                if data[x][y] == 0:\n",
    "                    a, b = snake[0]\n",
    "                    data[a][b] = 0\n",
    "                    del snake[0]\n",
    "                data[x][y] = 2\n",
    "                \n",
    "            if turn == 'D':\n",
    "                direct += 1\n",
    "            elif turn == 'L':\n",
    "                direct -= 1\n",
    "            if direct == -1:\n",
    "                direct = 3\n",
    "            if direct == 4:\n",
    "                direct = 0\n",
    "        \n",
    "        time += 1\n",
    "        head = snake[-1]\n",
    "        x = head[0] + dx[direct]\n",
    "        y = head[1] + dy[direct]\n",
    "        if x < 1 or x > n or y < 1 or y > n: # 벽에 박음\n",
    "            return time\n",
    "        if data[x][y] == 2: # 몸통에 박음\n",
    "            return time\n",
    "        snake.append([x,y])\n",
    "        if data[x][y] == 0:\n",
    "            a, b = snake[0]\n",
    "            data[a][b] = 0\n",
    "            del snake[0]\n",
    "        data[x][y] = 2\n",
    "        \n",
    "    return time\n",
    "\n",
    "# Input\n",
    "n = int(input())\n",
    "k = int(input())\n",
    "data = [[0] * (n + 1) for _ in range(n + 1)]\n",
    "directions = []\n",
    "\n",
    "for _ in range(k):\n",
    "    a, b = map(int, input().split())\n",
    "    data[a][b] = 1\n",
    "    \n",
    "l = int(input())\n",
    "for _ in range(l):\n",
    "    x, c = input().split()\n",
    "    directions.append([int(x), c])\n",
    "\n",
    "print(solution(n, k, data, l, directions))"
   ]
  },
  {
   "cell_type": "markdown",
   "metadata": {},
   "source": [
    "# 1회차 풀이 후기\n",
    "\n",
    "내 맘대로 지저분하게 풀었다.  \n",
    "배열의 갯수, 위치, 반복 횟수 등등 n, n-1, n+1 범위를 확실하게 파악하고 문제를 풀자.  \n",
    "for a in b 반복문은 pop, del 같은 문제에 복잡하게 동작하게 되니 b에 대한 조작이 필요한 경우에는 range를 사용하자.  "
   ]
  },
  {
   "cell_type": "code",
   "execution_count": 51,
   "metadata": {},
   "outputs": [
    {
     "name": "stdout",
     "output_type": "stream",
     "text": [
      "[1, 2, 3]\n",
      "[2, 3]\n"
     ]
    }
   ],
   "source": [
    "a = [1,2,3]\n",
    "for b in a:\n",
    "    print(a)\n",
    "    a.pop(0)"
   ]
  }
 ],
 "metadata": {
  "kernelspec": {
   "display_name": "Python 3",
   "language": "python",
   "name": "python3"
  },
  "language_info": {
   "codemirror_mode": {
    "name": "ipython",
    "version": 3
   },
   "file_extension": ".py",
   "mimetype": "text/x-python",
   "name": "python",
   "nbconvert_exporter": "python",
   "pygments_lexer": "ipython3",
   "version": "3.8.8"
  }
 },
 "nbformat": 4,
 "nbformat_minor": 4
}
