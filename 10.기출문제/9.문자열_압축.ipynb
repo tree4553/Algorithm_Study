{
 "cells": [
  {
   "cell_type": "markdown",
   "id": "ae7c1bad",
   "metadata": {},
   "source": [
    "# 문자열 압축\n",
    "\n",
    "https://programmers.co.kr/learn/courses/30/lessons/60057"
   ]
  },
  {
   "cell_type": "code",
   "execution_count": null,
   "id": "7717d836",
   "metadata": {},
   "outputs": [],
   "source": [
    "def solution(s):\n",
    "    # 모든 문자가 같은 경우를 처리\n",
    "    temp = s[0]\n",
    "    allSame = True\n",
    "    \n",
    "    for i in s:\n",
    "        if temp != i:\n",
    "            allSame = False\n",
    "            \n",
    "    if allSame == True:\n",
    "        if len(s) == 1:\n",
    "            return 1\n",
    "        else:\n",
    "            return 2\n",
    "    \n",
    "    answer = 1001 # 최대 길이로 설정\n",
    "    \n",
    "    # 길이로 잘라서 배열 형성\n",
    "    piece = len(s)//2\n",
    "    while piece > 0:\n",
    "        sum = 0\n",
    "        index = 0\n",
    "        array = []\n",
    "        \n",
    "        while index + piece <= len(s):\n",
    "            array.append(s[index:index + piece])\n",
    "            index += piece\n",
    "        \n",
    "        if index != len(s):\n",
    "            array.append(s[index:])\n",
    "        \n",
    "        # 전체 길이를 계산\n",
    "        while array:\n",
    "            same = False\n",
    "            count = 1\n",
    "            a = array.pop(0)\n",
    "            \n",
    "            for i in array:\n",
    "                if i == a:\n",
    "                    count += 1\n",
    "                    same = True\n",
    "                else:\n",
    "                    break\n",
    "            \n",
    "            if same == True:\n",
    "                for i in range(count - 1):\n",
    "                    array.pop(0)\n",
    "                    \n",
    "                digit = 0\n",
    "                \n",
    "                while count//10 != 0:\n",
    "                    digit += 1\n",
    "                    count //= 10\n",
    "                    \n",
    "                sum += piece + 1 + digit\n",
    "            else:\n",
    "                sum += len(a)\n",
    "        \n",
    "        if sum != 0 and sum < len(s) and answer > sum:\n",
    "            answer = sum\n",
    "\n",
    "        piece -= 1\n",
    "        \n",
    "    # 압축할 수 있는 문자열이 없다면 길이를 반환\n",
    "    if answer > len(s):\n",
    "        answer = len(s)\n",
    "        \n",
    "    return answer"
   ]
  },
  {
   "cell_type": "markdown",
   "id": "730dd4f4",
   "metadata": {},
   "source": [
    "# 1회차 풀이 후기\n",
    "문제 푸는 시간이 너무 길었다.  \n",
    "2시간 정도 걸린듯.  \n",
    "테스트 케이스를 모두 통과하고서 제출했는데 오답이 나왔었다.  \n",
    "질문하기에서 오답 케이스를 찾아보니 같은 문자가 10번 이상 반복된 경우에 대한 처리가 빠져있었다.  \n",
    "시간이 오래걸렸지만 그래도 제대로 된 답을 제출할 수 있었다.  \n",
    "시간이 너무 오래 걸린다면 포기하고 넘기기로 했는데  \n",
    "조금만 더 하면 풀 수 있을거라는 생각에 포기를 하지 못하고 끝까지 물고 늘어져버렸다.\n",
    "경험이 쌓이면 풀이 시간도 짧아지고 오답도 줄것이라고 생각한다."
   ]
  }
 ],
 "metadata": {
  "kernelspec": {
   "display_name": "Python 3",
   "language": "python",
   "name": "python3"
  },
  "language_info": {
   "codemirror_mode": {
    "name": "ipython",
    "version": 3
   },
   "file_extension": ".py",
   "mimetype": "text/x-python",
   "name": "python",
   "nbconvert_exporter": "python",
   "pygments_lexer": "ipython3",
   "version": "3.8.8"
  }
 },
 "nbformat": 4,
 "nbformat_minor": 5
}
