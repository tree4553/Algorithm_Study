{
 "cells": [
  {
   "cell_type": "markdown",
   "id": "ddb5ec12",
   "metadata": {},
   "source": [
    "# 왕실의 나이트\n",
    "체스판은 8 X 8 좌표 평면이다.  \n",
    "나이트는 다음과 같이 움직인다.  \n",
    "1. 수평으로 두 칸 이동한 뒤에 수직으로 한 칸 이동하기\n",
    "2. 수직으로 두 칸 이동한 뒤에 수평으로 한 칸 이동하기\n",
    "\n",
    "나이트의 좌표는 행 위치를 1부터 8로 표현하며, 열 위치는 a부터 h로 표현한다.  \n",
    "현재 나이트의 위치 좌표에서 나이트가 움직일 수 있는 경우의 수를 구하시오.  \n",
    "  \n",
    "입력 조건\n",
    "- 첫째 줄에 8 X 8 좌표 평면상에서 현재 나이트가 위치한 곳의 좌표를 나타내는 두 문자로 구성된 문자 열이 입력된다.  \n",
    "입력 문자는 a1처럼 열과 행으로 이뤄진다.  \n",
    "  \n",
    "출력 조건  \n",
    "- 첫째 줄에 나이트가 이동할 수 있는 경우의 수를 출력하시오.  \n",
    "  \n",
    "입력 예시  \n",
    "a1  \n",
    "  \n",
    "출력 예시  \n",
    "2"
   ]
  },
  {
   "cell_type": "code",
   "execution_count": 14,
   "id": "72794c30",
   "metadata": {},
   "outputs": [
    {
     "name": "stdout",
     "output_type": "stream",
     "text": [
      "d4\n",
      "8\n"
     ]
    }
   ],
   "source": [
    "# Try\n",
    "input_data = input()\n",
    "result = 0\n",
    "\n",
    "row = int(input_data[1])\n",
    "column = int(ord(input_data[0])) - int(ord('a')) + 1    # ord 함수는 문자열 하나를 입력받아서 해당 문자에 해당하는 아스키코드를 반환한다.\n",
    "\n",
    "moves = [(2, 1), (2, -1), (-2, 1), (-2, -1), (1, 2), (1, -2), (-1, 2), (-1, -2)]\n",
    "\n",
    "for move in moves:\n",
    "    x = row\n",
    "    y = column\n",
    "    x += move[0]\n",
    "    y += move[1]\n",
    "    #print(x, y)\n",
    "    if x < 1 or y < 1 or x > 8 or y > 8:\n",
    "        continue\n",
    "    else:\n",
    "        result += 1\n",
    "\n",
    "print(result)"
   ]
  }
 ],
 "metadata": {
  "kernelspec": {
   "display_name": "Python 3",
   "language": "python",
   "name": "python3"
  },
  "language_info": {
   "codemirror_mode": {
    "name": "ipython",
    "version": 3
   },
   "file_extension": ".py",
   "mimetype": "text/x-python",
   "name": "python",
   "nbconvert_exporter": "python",
   "pygments_lexer": "ipython3",
   "version": "3.8.8"
  }
 },
 "nbformat": 4,
 "nbformat_minor": 5
}
