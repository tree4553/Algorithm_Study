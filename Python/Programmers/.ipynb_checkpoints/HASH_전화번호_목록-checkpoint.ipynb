{
 "cells": [
  {
   "cell_type": "markdown",
   "id": "de283c62",
   "metadata": {},
   "source": [
    "https://school.programmers.co.kr/learn/courses/30/lessons/42577"
   ]
  },
  {
   "cell_type": "code",
   "execution_count": null,
   "id": "c6a54845",
   "metadata": {},
   "outputs": [],
   "source": [
    "def solution(phone_book):\n",
    "    answer = True\n",
    "    \n",
    "    phone_book = sorted(phone_book)\n",
    "    \n",
    "    for i in range(len(phone_book) - 1):\n",
    "        same = True\n",
    "        for j in range(len(phone_book[i])):\n",
    "            if len(phone_book[i+1]) > len(phone_book[i]):\n",
    "                if phone_book[i+1][j] == phone_book[i][j]:\n",
    "                    continue\n",
    "                else:\n",
    "                    same = False\n",
    "            else:\n",
    "                same = False\n",
    "                break\n",
    "        if same == True:\n",
    "            return False\n",
    "    \n",
    "    return answer"
   ]
  }
 ],
 "metadata": {
  "kernelspec": {
   "display_name": "Python 3",
   "language": "python",
   "name": "python3"
  },
  "language_info": {
   "codemirror_mode": {
    "name": "ipython",
    "version": 3
   },
   "file_extension": ".py",
   "mimetype": "text/x-python",
   "name": "python",
   "nbconvert_exporter": "python",
   "pygments_lexer": "ipython3",
   "version": "3.8.8"
  }
 },
 "nbformat": 4,
 "nbformat_minor": 5
}
