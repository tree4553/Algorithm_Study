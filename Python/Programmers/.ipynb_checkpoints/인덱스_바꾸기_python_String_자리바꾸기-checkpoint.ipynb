{
 "cells": [
  {
   "cell_type": "markdown",
   "id": "1a81a221",
   "metadata": {},
   "source": [
    "https://school.programmers.co.kr/learn/courses/30/lessons/120895"
   ]
  },
  {
   "cell_type": "code",
   "execution_count": null,
   "id": "de090f51",
   "metadata": {},
   "outputs": [],
   "source": [
    "def solution(my_string, num1, num2):\n",
    "    answer = ''\n",
    "    arr = list(my_string)\n",
    "    arr[num1], arr[num2] = arr[num2], arr[num1]\n",
    "    answer = ''.join(arr)\n",
    "    return answer"
   ]
  }
 ],
 "metadata": {
  "kernelspec": {
   "display_name": "Python 3",
   "language": "python",
   "name": "python3"
  },
  "language_info": {
   "codemirror_mode": {
    "name": "ipython",
    "version": 3
   },
   "file_extension": ".py",
   "mimetype": "text/x-python",
   "name": "python",
   "nbconvert_exporter": "python",
   "pygments_lexer": "ipython3",
   "version": "3.8.8"
  }
 },
 "nbformat": 4,
 "nbformat_minor": 5
}
