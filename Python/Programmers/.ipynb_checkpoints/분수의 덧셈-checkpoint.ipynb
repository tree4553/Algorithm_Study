{
 "cells": [
  {
   "cell_type": "markdown",
   "id": "8c3b11c4",
   "metadata": {},
   "source": [
    "https://school.programmers.co.kr/learn/courses/30/lessons/120808"
   ]
  },
  {
   "cell_type": "code",
   "execution_count": null,
   "id": "326b531d",
   "metadata": {},
   "outputs": [],
   "source": [
    "def solution(denum1, num1, denum2, num2):\n",
    "    answer = []\n",
    "    a = denum1 * num2\n",
    "    b = denum2 * num1\n",
    "    denum = a + b\n",
    "    num = num1 * num2\n",
    "    count = num1 * num2\n",
    "    for i in range(count):\n",
    "        if denum % (count - i) == 0 and num % (count - i) == 0:\n",
    "            denum //= (count - i)\n",
    "            num //= (count - i)\n",
    "    answer.append(denum)\n",
    "    answer.append(num)\n",
    "    return answer"
   ]
  }
 ],
 "metadata": {
  "kernelspec": {
   "display_name": "Python 3",
   "language": "python",
   "name": "python3"
  },
  "language_info": {
   "codemirror_mode": {
    "name": "ipython",
    "version": 3
   },
   "file_extension": ".py",
   "mimetype": "text/x-python",
   "name": "python",
   "nbconvert_exporter": "python",
   "pygments_lexer": "ipython3",
   "version": "3.8.8"
  }
 },
 "nbformat": 4,
 "nbformat_minor": 5
}
