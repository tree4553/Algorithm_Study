{
 "cells": [
  {
   "cell_type": "markdown",
   "id": "cfcd9571",
   "metadata": {},
   "source": [
    "https://school.programmers.co.kr/learn/courses/30/lessons/1844"
   ]
  },
  {
   "cell_type": "code",
   "execution_count": null,
   "id": "b61d221f",
   "metadata": {},
   "outputs": [],
   "source": [
    "def solution(maps):\n",
    "    answer = 0\n",
    "    \n",
    "    row = len(maps) - 1\n",
    "    col = len(maps[0]) - 1\n",
    "    \n",
    "    if maps[row - 1][col] == 0 and maps[row][col - 1] == 0:\n",
    "        return -1\n",
    "    \n",
    "    # 동서남북\n",
    "    dirX = [0, 0, 1, -1]\n",
    "    dirY = [1, -1, 0, 0]\n",
    "    \n",
    "    stack = [[0,0,1]]\n",
    "    while stack:\n",
    "        a, b, dist = stack.pop(0)\n",
    "        for i in range(4):\n",
    "            x = a + dirX[i]\n",
    "            y = b + dirY[i]\n",
    "            if x < 0 or x > row:\n",
    "                continue\n",
    "            if y < 0 or y > col:\n",
    "                continue\n",
    "            if maps[x][y] == 0:\n",
    "                continue\n",
    "            if maps[x][y] == 1:\n",
    "                maps[x][y] = dist+1\n",
    "                if x == row and y == col:\n",
    "                    return dist+1\n",
    "                stack.append([x, y, dist + 1])\n",
    "    if maps[row][col] == 1:\n",
    "        return -1\n",
    "    else:\n",
    "        answer = maps[row][col]\n",
    "    return answer"
   ]
  }
 ],
 "metadata": {
  "kernelspec": {
   "display_name": "Python 3",
   "language": "python",
   "name": "python3"
  },
  "language_info": {
   "codemirror_mode": {
    "name": "ipython",
    "version": 3
   },
   "file_extension": ".py",
   "mimetype": "text/x-python",
   "name": "python",
   "nbconvert_exporter": "python",
   "pygments_lexer": "ipython3",
   "version": "3.8.8"
  }
 },
 "nbformat": 4,
 "nbformat_minor": 5
}
