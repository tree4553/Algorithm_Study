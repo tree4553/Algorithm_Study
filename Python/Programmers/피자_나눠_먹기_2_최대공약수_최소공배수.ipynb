{
 "cells": [
  {
   "cell_type": "markdown",
   "id": "27747a81",
   "metadata": {},
   "source": [
    "https://school.programmers.co.kr/learn/courses/30/lessons/120815"
   ]
  },
  {
   "cell_type": "code",
   "execution_count": null,
   "id": "31ba7f7a",
   "metadata": {},
   "outputs": [],
   "source": [
    "def solution(n):\n",
    "    answer = LCM(6, n) // 6\n",
    "    return answer\n",
    "\n",
    "# Greatest Common Divisor 최대공약수\n",
    "def GCD(x, y):\n",
    "    for i in range(min(x,y), 0, -1):\n",
    "        if x % i == 0 and y % i == 0:\n",
    "            return i\n",
    "    return 1\n",
    "\n",
    "# Least Common Multiple 최소공배수\n",
    "def LCM(x, y):\n",
    "    return x * y // GCD(x, y)"
   ]
  }
 ],
 "metadata": {
  "kernelspec": {
   "display_name": "Python 3",
   "language": "python",
   "name": "python3"
  },
  "language_info": {
   "codemirror_mode": {
    "name": "ipython",
    "version": 3
   },
   "file_extension": ".py",
   "mimetype": "text/x-python",
   "name": "python",
   "nbconvert_exporter": "python",
   "pygments_lexer": "ipython3",
   "version": "3.8.8"
  }
 },
 "nbformat": 4,
 "nbformat_minor": 5
}
