{
 "cells": [
  {
   "cell_type": "markdown",
   "id": "733464de",
   "metadata": {},
   "source": [
    "https://school.programmers.co.kr/learn/courses/30/lessons/120904"
   ]
  },
  {
   "cell_type": "code",
   "execution_count": 2,
   "id": "f223a0b4",
   "metadata": {},
   "outputs": [
    {
     "data": {
      "text/plain": [
       "1"
      ]
     },
     "execution_count": 2,
     "metadata": {},
     "output_type": "execute_result"
    }
   ],
   "source": [
    "def solution(num, k):\n",
    "    answer = -1\n",
    "    arr = list(map(int, str(num)))\n",
    "    arr.reverse()\n",
    "    print(arr)\n",
    "    for i in range(len(arr)):\n",
    "        if arr[i] == k:\n",
    "            print(arr[i], k, i + 1)\n",
    "            answer = len(arr) - i\n",
    "        \n",
    "    return answer"
   ]
  }
 ],
 "metadata": {
  "kernelspec": {
   "display_name": "Python 3",
   "language": "python",
   "name": "python3"
  },
  "language_info": {
   "codemirror_mode": {
    "name": "ipython",
    "version": 3
   },
   "file_extension": ".py",
   "mimetype": "text/x-python",
   "name": "python",
   "nbconvert_exporter": "python",
   "pygments_lexer": "ipython3",
   "version": "3.8.8"
  }
 },
 "nbformat": 4,
 "nbformat_minor": 5
}
