{
 "cells": [
  {
   "cell_type": "markdown",
   "id": "a5f567a1",
   "metadata": {},
   "source": [
    "https://school.programmers.co.kr/learn/courses/30/lessons/120905"
   ]
  },
  {
   "cell_type": "code",
   "execution_count": 10,
   "id": "7aab4ab9",
   "metadata": {},
   "outputs": [],
   "source": [
    "def solution(n, numlist):\n",
    "    answer = []\n",
    "    temp = []\n",
    "    for a in numlist:\n",
    "        if a % n != 0:\n",
    "            temp.append(a)\n",
    "    for b in temp:\n",
    "        numlist.remove(b)\n",
    "    answer = numlist\n",
    "    return answer"
   ]
  },
  {
   "cell_type": "code",
   "execution_count": 11,
   "id": "04a9244f",
   "metadata": {},
   "outputs": [
    {
     "name": "stdout",
     "output_type": "stream",
     "text": [
      "[6, 9, 12]\n"
     ]
    }
   ],
   "source": [
    "n = 3\n",
    "numlist = [4, 5, 6, 7, 8, 9, 10, 11, 12]\n",
    "print(solution(n, numlist))"
   ]
  }
 ],
 "metadata": {
  "kernelspec": {
   "display_name": "Python 3",
   "language": "python",
   "name": "python3"
  },
  "language_info": {
   "codemirror_mode": {
    "name": "ipython",
    "version": 3
   },
   "file_extension": ".py",
   "mimetype": "text/x-python",
   "name": "python",
   "nbconvert_exporter": "python",
   "pygments_lexer": "ipython3",
   "version": "3.8.8"
  }
 },
 "nbformat": 4,
 "nbformat_minor": 5
}
