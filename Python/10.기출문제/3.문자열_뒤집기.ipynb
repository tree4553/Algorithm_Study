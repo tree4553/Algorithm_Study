{
 "cells": [
  {
   "cell_type": "markdown",
   "id": "c4c0fa76",
   "metadata": {},
   "source": [
    "# 문자열 뒤집기\n",
    "https://www.acmicpc.net/problem/1439"
   ]
  },
  {
   "cell_type": "code",
   "execution_count": 5,
   "id": "f92b671e",
   "metadata": {},
   "outputs": [
    {
     "name": "stdout",
     "output_type": "stream",
     "text": [
      "1\n"
     ]
    }
   ],
   "source": [
    "# Input\n",
    "data = input()\n",
    "\n",
    "# Try\n",
    "def func(data):\n",
    "    result = 0\n",
    "    before = data[0]\n",
    "    for number in data[1:]:\n",
    "        if number != before:\n",
    "            result += 1\n",
    "            before = number\n",
    "\n",
    "    if result == 0:\n",
    "        return 0\n",
    "    else:\n",
    "        if result % 2 == 0:\n",
    "            return (result // 2) # 처음과 마지막 문자가 같다면 2로 나눈 값을 반환\n",
    "        else:\n",
    "            return (result // 2 + 1)  # 처음과 마지막 문자가 다르다면 2로 나누고 1을 더한 값을 반환"
   ]
  },
  {
   "cell_type": "code",
   "execution_count": 8,
   "id": "81aa0e0b",
   "metadata": {},
   "outputs": [
    {
     "name": "stdout",
     "output_type": "stream",
     "text": [
      "0\n",
      "2\n",
      "2\n"
     ]
    }
   ],
   "source": [
    "# Input 1\n",
    "data = '11111'\n",
    "print(func(data)) # 예상 출력 값 0\n",
    "\n",
    "# Input 2\n",
    "data = '1010'\n",
    "print(func(data)) # 예상 출력 값 2\n",
    "\n",
    "# Input 3\n",
    "data = '10101'\n",
    "print(func(data)) # 예상 출력 값 2"
   ]
  },
  {
   "cell_type": "code",
   "execution_count": 10,
   "id": "c4bd8554",
   "metadata": {},
   "outputs": [
    {
     "name": "stdout",
     "output_type": "stream",
     "text": [
      "111\n",
      "0\n"
     ]
    }
   ],
   "source": [
    "# Solution\n",
    "data = input()\n",
    "count0 = 0\n",
    "count1 = 0\n",
    "\n",
    "if data[0] == '1':\n",
    "    count0 += 1\n",
    "else:\n",
    "    count1 += 1\n",
    "    \n",
    "# 두 번째 원소부터 모든 원소를 확인하며\n",
    "for i in range(len(data) - 1):\n",
    "    if data[i] != data[i + 1]:\n",
    "        if data[i + 1] == '1':\n",
    "            count0 += 1\n",
    "        else:\n",
    "            count1 += 1\n",
    "            \n",
    "print(min(count0, count1))"
   ]
  },
  {
   "cell_type": "markdown",
   "id": "e7afb7bc",
   "metadata": {},
   "source": [
    "# 1회차 풀이 후기\n",
    "풀이는 간단했지만 문제 답안 제출 후 오답 판정을 받았다.  \n",
    "예외처리에 좀 더 신경을 써서 코드를 작성하자."
   ]
  }
 ],
 "metadata": {
  "kernelspec": {
   "display_name": "Python 3",
   "language": "python",
   "name": "python3"
  },
  "language_info": {
   "codemirror_mode": {
    "name": "ipython",
    "version": 3
   },
   "file_extension": ".py",
   "mimetype": "text/x-python",
   "name": "python",
   "nbconvert_exporter": "python",
   "pygments_lexer": "ipython3",
   "version": "3.8.8"
  }
 },
 "nbformat": 4,
 "nbformat_minor": 5
}
