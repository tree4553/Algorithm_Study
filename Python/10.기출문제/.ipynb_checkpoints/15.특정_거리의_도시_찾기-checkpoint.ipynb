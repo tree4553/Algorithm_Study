{
 "cells": [
  {
   "cell_type": "markdown",
   "metadata": {},
   "source": [
    "# 특정 거리의 도시 찾기\n",
    "https://www.acmicpc.net/problem/18352"
   ]
  },
  {
   "cell_type": "code",
   "execution_count": 1,
   "metadata": {},
   "outputs": [
    {
     "name": "stdout",
     "output_type": "stream",
     "text": [
      "4 4 2 1\n",
      "1 2\n",
      "1 3\n",
      "2 3\n",
      "2 4\n",
      "[1, 2]\n",
      "[1, 3]\n",
      "[2, 3]\n",
      "[2, 4]\n"
     ]
    }
   ],
   "source": [
    "# Input\n",
    "n, m, k, x = map(int, input().split())\n",
    "data = []\n",
    "for i in range(n):\n",
    "    data.append(list(map(int, input().split()))) \n",
    "'''\n",
    "for i in range(n):\n",
    "    print(data[i])\n",
    "'''"
   ]
  },
  {
   "cell_type": "code",
   "execution_count": 2,
   "metadata": {},
   "outputs": [
    {
     "ename": "NameError",
     "evalue": "name 'solution' is not defined",
     "output_type": "error",
     "traceback": [
      "\u001b[1;31m---------------------------------------------------------------------------\u001b[0m",
      "\u001b[1;31mNameError\u001b[0m                                 Traceback (most recent call last)",
      "\u001b[1;32m<ipython-input-2-9e1da1072573>\u001b[0m in \u001b[0;36m<module>\u001b[1;34m\u001b[0m\n\u001b[0;32m      3\u001b[0m \u001b[0mdata\u001b[0m \u001b[1;33m=\u001b[0m \u001b[1;33m[\u001b[0m\u001b[1;33m[\u001b[0m\u001b[1;36m1\u001b[0m\u001b[1;33m,\u001b[0m\u001b[1;36m2\u001b[0m\u001b[1;33m]\u001b[0m\u001b[1;33m,\u001b[0m \u001b[1;33m[\u001b[0m\u001b[1;36m1\u001b[0m\u001b[1;33m,\u001b[0m\u001b[1;36m3\u001b[0m\u001b[1;33m]\u001b[0m\u001b[1;33m,\u001b[0m \u001b[1;33m[\u001b[0m\u001b[1;36m2\u001b[0m\u001b[1;33m,\u001b[0m\u001b[1;36m3\u001b[0m\u001b[1;33m]\u001b[0m\u001b[1;33m,\u001b[0m \u001b[1;33m[\u001b[0m\u001b[1;36m2\u001b[0m\u001b[1;33m,\u001b[0m\u001b[1;36m4\u001b[0m\u001b[1;33m]\u001b[0m\u001b[1;33m]\u001b[0m\u001b[1;33m\u001b[0m\u001b[1;33m\u001b[0m\u001b[0m\n\u001b[0;32m      4\u001b[0m \u001b[1;33m\u001b[0m\u001b[0m\n\u001b[1;32m----> 5\u001b[1;33m \u001b[0mprint\u001b[0m\u001b[1;33m(\u001b[0m\u001b[0msolution\u001b[0m\u001b[1;33m(\u001b[0m\u001b[0mn\u001b[0m\u001b[1;33m,\u001b[0m \u001b[0mm\u001b[0m\u001b[1;33m,\u001b[0m \u001b[0mk\u001b[0m\u001b[1;33m,\u001b[0m \u001b[0mx\u001b[0m\u001b[1;33m,\u001b[0m \u001b[0mdata\u001b[0m\u001b[1;33m)\u001b[0m\u001b[1;33m)\u001b[0m \u001b[1;31m# 정답 : 4\u001b[0m\u001b[1;33m\u001b[0m\u001b[1;33m\u001b[0m\u001b[0m\n\u001b[0m",
      "\u001b[1;31mNameError\u001b[0m: name 'solution' is not defined"
     ]
    }
   ],
   "source": [
    "# Input 1\n",
    "n, m, k, x = 4, 4, 2, 1\n",
    "data = [[1,2], [1,3], [2,3], [2,4]]\n",
    "\n",
    "print(solution(n, m, k, x, data)) # 정답 : 4"
   ]
  },
  {
   "cell_type": "code",
   "execution_count": 4,
   "metadata": {},
   "outputs": [
    {
     "name": "stdout",
     "output_type": "stream",
     "text": [
      "-1\n",
      "None\n"
     ]
    }
   ],
   "source": [
    "# Input 2\n",
    "n, m, k, x = 4, 3, 2, 1\n",
    "data = [[1,2], [1,3], [1,4]]\n",
    "\n",
    "print(solution(n, m, k, x, data)) # 정답 : -1"
   ]
  },
  {
   "cell_type": "code",
   "execution_count": 5,
   "metadata": {},
   "outputs": [
    {
     "name": "stdout",
     "output_type": "stream",
     "text": [
      "2\n",
      "3\n"
     ]
    },
    {
     "data": {
      "text/plain": [
       "3"
      ]
     },
     "execution_count": 5,
     "metadata": {},
     "output_type": "execute_result"
    }
   ],
   "source": [
    "# Input 3\n",
    "n, m, k, x = 4, 4, 1, 1\n",
    "data = [[1,2], [1,3], [2,3], [2,4]]\n",
    "\n",
    "solution(n, m, k, x, data)\n",
    "# 정답 : \n",
    "2\n",
    "3"
   ]
  },
  {
   "cell_type": "code",
   "execution_count": 2,
   "metadata": {},
   "outputs": [],
   "source": [
    "# Try\n",
    "# 시작 지점이 주어진 문제이므로 DFS 방식으로 풀어보자\n",
    "from collections import deque\n",
    "def solution(n, m, k, x, data):\n",
    "    if k == 0 : # 거리가 0인 경우 자기자신 출력\n",
    "        print(x)\n",
    "        return\n",
    "    \n",
    "    distance = [-1] * (n + 1)\n",
    "    distance[x] = 0 # 자기자신은 최단 거리가 0인 경우에만 해당하므로 방문 처리\n",
    "    \n",
    "    graph = [[] for _ in range(n+1)] # 출발지, 목적지를 이차원 배열에 저장\n",
    "    for a, b in data:\n",
    "        graph[a].append(b)\n",
    "    \n",
    "    que = deque()\n",
    "    que.append(x) # que에 시작점 삽입\n",
    "    \n",
    "    while que:\n",
    "        start = que.popleft()\n",
    "        for end in graph[start]:\n",
    "            if distance[end] == -1:\n",
    "                distance[end] = distance[start] + 1\n",
    "                que.append(end)\n",
    "    \n",
    "    nothing = True\n",
    "    for i in range(1, n+1):\n",
    "        if distance[i] == k:\n",
    "            print(i)\n",
    "            nothing = False\n",
    "    \n",
    "    if nothing == True:\n",
    "        print(-1)\n",
    "        return"
   ]
  },
  {
   "cell_type": "code",
   "execution_count": 7,
   "metadata": {},
   "outputs": [
    {
     "name": "stdout",
     "output_type": "stream",
     "text": [
      "4 4 2 1\n",
      "1 2\n",
      "1 3\n",
      "2 3\n",
      "2 4\n",
      "4\n"
     ]
    }
   ],
   "source": [
    "# 제출용\n",
    "from collections import deque\n",
    "\n",
    "# Input\n",
    "n, m, k, x = map(int, input().split())\n",
    "data = []\n",
    "for i in range(n):\n",
    "    data.append(list(map(int, input().split())))\n",
    "    \n",
    "if k == 0 : # 거리가 0인 경우 자기자신 출력\n",
    "    print(x)\n",
    "else:\n",
    "    distance = [-1] * (n + 1)\n",
    "    distance[x] = 0 # 자기자신은 최단 거리가 0인 경우에만 해당하므로 방문 처리\n",
    "\n",
    "    graph = [[] for _ in range(n+1)] # 출발지, 목적지를 이차원 배열에 저장\n",
    "    for a, b in data:\n",
    "        graph[a].append(b)\n",
    "\n",
    "    que = deque()\n",
    "    que.append(x) # que에 시작점 삽입\n",
    "\n",
    "    while que:\n",
    "        start = que.popleft()\n",
    "        for end in graph[start]:\n",
    "            if distance[end] == -1:\n",
    "                distance[end] = distance[start] + 1\n",
    "                que.append(end)\n",
    "\n",
    "    nothing = True\n",
    "    for i in range(1, n+1):\n",
    "        if distance[i] == k:\n",
    "            print(i)\n",
    "            nothing = False\n",
    "\n",
    "    if nothing == True:\n",
    "        print(-1)"
   ]
  },
  {
   "cell_type": "code",
   "execution_count": 5,
   "metadata": {},
   "outputs": [
    {
     "name": "stdout",
     "output_type": "stream",
     "text": [
      "4 4 2 1\n",
      "1 2\n",
      "1 3\n",
      "2 3\n",
      "2 4\n",
      "[[], [2, 3], [3, 4], [], []]\n",
      "4\n"
     ]
    }
   ],
   "source": [
    "# 제출용 2\n",
    "from collections import deque\n",
    "\n",
    "# Input\n",
    "n, m, k, x = map(int, input().split())\n",
    "graph = [[] for _ in range(n+1)] # 출발지, 목적지를 이차원 배열에 저장\n",
    "for i in range(m):\n",
    "    a, b = map(int, input().split())\n",
    "    graph[a].append(b)\n",
    "\n",
    "distance = [-1] * (n + 1)\n",
    "distance[x] = 0 # 자기자신은 최단 거리가 0인 경우에만 해당하므로 방문 처리\n",
    "    \n",
    "que = deque([x])\n",
    "#que.append(x) # que에 시작점 삽입\n",
    "\n",
    "while que:\n",
    "    start = que.popleft()\n",
    "    for end in graph[start]:\n",
    "        if distance[end] == -1:\n",
    "            distance[end] = distance[start] + 1\n",
    "            que.append(end)\n",
    "\n",
    "nothing = True\n",
    "for i in range(1, n+1):\n",
    "    if distance[i] == k:\n",
    "        print(i)\n",
    "        nothing = False\n",
    "\n",
    "if nothing == True:\n",
    "    print(-1)"
   ]
  },
  {
   "cell_type": "code",
   "execution_count": 1,
   "metadata": {},
   "outputs": [
    {
     "name": "stdout",
     "output_type": "stream",
     "text": [
      "4 4 2 1\n",
      "1 2\n",
      "1 3\n",
      "2 3\n",
      "2 4\n",
      "4\n"
     ]
    }
   ],
   "source": [
    "# Solution\n",
    "from collections import deque\n",
    "\n",
    "# 도시의 개수, 도로의 개수, 거리 정보, 출발 도시 번호\n",
    "n, m, k, x = map(int, input().split())\n",
    "graph = [[] for _ in range(n + 1)]\n",
    "\n",
    "# 모든 도로 정보 입력 받기\n",
    "for _ in range(m):\n",
    "    a, b = map(int, input().split())\n",
    "    graph[a].append(b)\n",
    "\n",
    "# 모든 도시에 대한 최단 거리 초기화\n",
    "distance = [-1] * (n + 1)\n",
    "distance[x] = 0 # 출발 도시까지의 거리는 0으로 설정\n",
    "\n",
    "# 너비 우선 탐색(BFS) 수행\n",
    "q = deque([x])\n",
    "while q:\n",
    "    now = q.popleft()\n",
    "    # 현재 도시에서 이동할 수 있는 모든 도시를 확인\n",
    "    for next_node in graph[now]:\n",
    "        # 아직 방문하지 않은 도시라면\n",
    "        if distance[next_node] == -1:\n",
    "            # 최단 거리 갱신\n",
    "            distance[next_node] = distance[now] + 1\n",
    "            q.append(next_node)\n",
    "\n",
    "# 최단 거리가 K인 모든 도시의 번호를 오름차순으로 출력\n",
    "check = False\n",
    "for i in range(1, n + 1):\n",
    "    if distance[i] == k:\n",
    "        print(i)\n",
    "        check = True\n",
    "\n",
    "# 만약 최단 거리가 K인 도시가 없다면, -1 출력\n",
    "if check == False:\n",
    "    print(-1)"
   ]
  },
  {
   "cell_type": "markdown",
   "metadata": {},
   "source": [
    "# 1회차 문제 풀이 후기\n",
    "오랜만에 만나는 BFS 문제라서 방법을 다시 한번 찾아봤다.  \n",
    "문제에서 주어진 n과 m을 잘못 사용하여 입력을 받아서 계속 오답이 떳었다.\n",
    "소스를 차분히 들여다보면 더 잘 보였을것같다."
   ]
  }
 ],
 "metadata": {
  "kernelspec": {
   "display_name": "Python 3",
   "language": "python",
   "name": "python3"
  },
  "language_info": {
   "codemirror_mode": {
    "name": "ipython",
    "version": 3
   },
   "file_extension": ".py",
   "mimetype": "text/x-python",
   "name": "python",
   "nbconvert_exporter": "python",
   "pygments_lexer": "ipython3",
   "version": "3.8.8"
  }
 },
 "nbformat": 4,
 "nbformat_minor": 4
}
