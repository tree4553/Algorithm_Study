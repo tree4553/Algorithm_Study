{
 "cells": [
  {
   "cell_type": "markdown",
   "metadata": {},
   "source": [
    "# 경쟁적전염\n",
    "https://www.acmicpc.net/problem/18405"
   ]
  },
  {
   "cell_type": "code",
   "execution_count": 3,
   "metadata": {},
   "outputs": [
    {
     "name": "stdout",
     "output_type": "stream",
     "text": [
      "3 3\n",
      "1 0 2\n",
      "0 0 0\n",
      "3 0 0\n",
      "2 3 2\n"
     ]
    }
   ],
   "source": [
    "#Input\n",
    "n, k = map(int, input().split())\n",
    "data = []\n",
    "for _ in range(n):\n",
    "    data.append(list(map(int, input().split())))\n",
    "s, x, y = map(int, input().split())"
   ]
  },
  {
   "cell_type": "code",
   "execution_count": 20,
   "metadata": {},
   "outputs": [],
   "source": [
    "# Input 1\n",
    "n, k = 3, 3\n",
    "data = [[1,0,2], [0, 0, 0], [3,0,0]]\n",
    "s, x, y = 2, 3, 2\n",
    "# 정답 : 3"
   ]
  },
  {
   "cell_type": "code",
   "execution_count": 22,
   "metadata": {},
   "outputs": [],
   "source": [
    "# Input 2\n",
    "n, k = 3, 3\n",
    "data = [[1,0,2], [0, 0, 0], [3,0,0]]\n",
    "s, x, y = 1, 2, 2\n",
    "# 정답 : 0"
   ]
  },
  {
   "cell_type": "code",
   "execution_count": 23,
   "metadata": {},
   "outputs": [
    {
     "name": "stdout",
     "output_type": "stream",
     "text": [
      "[1, 1, 2]\n",
      "[1, 0, 2]\n",
      "[3, 3, 0]\n",
      "0\n"
     ]
    }
   ],
   "source": [
    "# Try\n",
    "# 상하좌우 감염 함수\n",
    "from collections import deque\n",
    "def infect(data, x, y, a):\n",
    "    dx = [1, 0, -1, 0]\n",
    "    dy = [0, 1, 0, -1]\n",
    "    for i in range(4):\n",
    "        nx = x + dx[i]\n",
    "        ny = y + dy[i]\n",
    "        if nx >= 0 and nx < len(data) and ny >= 0 and ny < len(data[0]):\n",
    "            if data[nx][ny] == 0:\n",
    "                data[nx][ny] = a\n",
    "\n",
    "que = deque()   \n",
    "for i in range(s):\n",
    "    for prior in range(k + 1):\n",
    "        for row in range(n):\n",
    "            for col in range(n):\n",
    "                if data[row][col] == prior:\n",
    "                    que.append([row, col, prior])\n",
    "    while que:\n",
    "        row, col, a = que.popleft()\n",
    "        infect(data, row, col, a)\n",
    "\n",
    "print(data[x-1][y-1])\n",
    "# 시간초과\n",
    "# 시간이 지난 후의 바이러스를 전부 스캔해야 된다는 생각으로 풀었는데\n",
    "# 처음 한번만 바이러스를 스캔하고 que에 계속 추가하고 pop하면 됐을텐데 아쉽다."
   ]
  },
  {
   "cell_type": "code",
   "execution_count": 24,
   "metadata": {},
   "outputs": [
    {
     "name": "stdout",
     "output_type": "stream",
     "text": [
      "3 3\n",
      "1 0 2\n",
      "0 0 0\n",
      "3 0 0\n",
      "2 3 2\n",
      "3\n"
     ]
    }
   ],
   "source": [
    "# 제출용\n",
    "from collections import deque\n",
    "\n",
    "def infect(data, x, y, a):\n",
    "    dx = [1, 0, -1, 0]\n",
    "    dy = [0, 1, 0, -1]\n",
    "    for i in range(4):\n",
    "        nx = x + dx[i]\n",
    "        ny = y + dy[i]\n",
    "        if nx >= 0 and nx < len(data) and ny >= 0 and ny < len(data[0]):\n",
    "            if data[nx][ny] == 0:\n",
    "                data[nx][ny] = a\n",
    "\n",
    "n, k = map(int, input().split())\n",
    "data = []\n",
    "for _ in range(n):\n",
    "    data.append(list(map(int, input().split())))\n",
    "s, x, y = map(int, input().split())\n",
    "\n",
    "que = deque()\n",
    "for i in range(s):\n",
    "    for prior in range(k + 1):\n",
    "        for row in range(n):\n",
    "            for col in range(n):\n",
    "                if data[row][col] == prior:\n",
    "                    que.append([row, col, prior])\n",
    "    while que:\n",
    "        row, col, a = que.popleft()\n",
    "        infect(data, row, col, a)\n",
    "\n",
    "print(data[x-1][y-1])"
   ]
  },
  {
   "cell_type": "code",
   "execution_count": 1,
   "metadata": {},
   "outputs": [
    {
     "name": "stdout",
     "output_type": "stream",
     "text": [
      "3 3\n",
      "1 0 2\n",
      "0 0 0\n",
      "3 0 0\n",
      "2 3 2\n",
      "3\n"
     ]
    }
   ],
   "source": [
    "# Try 2\n",
    "from collections import deque\n",
    "         \n",
    "n, k = map(int, input().split())\n",
    "data = []\n",
    "virus = []\n",
    "for i in range(n):\n",
    "    data.append(list(map(int, input().split())))\n",
    "    for j in range(n):\n",
    "        if data[i][j] != 0:\n",
    "            virus.append([data[i][j], 0, i, j]) # 시간을 바이러스 종류, 위치랑 같이 저장하여 갖게 한다.\n",
    "s, x, y = map(int, input().split())\n",
    "\n",
    "virus.sort()\n",
    "que = deque(virus)\n",
    "\n",
    "dx = [1, 0, -1, 0]\n",
    "dy = [0, 1, 0, -1]\n",
    "\n",
    "while que:\n",
    "    virus_type, sec, row, col = que.popleft()\n",
    "    if sec == s:\n",
    "        break\n",
    "    for i in range(4):\n",
    "        nx = row + dx[i]\n",
    "        ny = col + dy[i]\n",
    "        if nx >= 0 and nx < len(data) and ny >= 0 and ny < len(data[0]):\n",
    "            if data[nx][ny] == 0:\n",
    "                data[nx][ny] = virus_type\n",
    "                que.append([virus_type, sec + 1, nx, ny])\n",
    "        \n",
    "print(data[x - 1][y - 1])"
   ]
  },
  {
   "cell_type": "code",
   "execution_count": null,
   "metadata": {},
   "outputs": [],
   "source": [
    "# Solution\n",
    "from collections import deque\n",
    "\n",
    "n, k = map(int, input().split())\n",
    "\n",
    "graph = [] # 전체 보드 정보를 담는 리스트\n",
    "data = [] # 바이러스에 대한 정보를 담는 리스트\n",
    "\n",
    "for i in range(n):\n",
    "    # 보드 정보를 한 줄 단위로 입력\n",
    "    graph.append(list(map(int, input().split())))\n",
    "    for j in range(n):\n",
    "        # 해당 위치에 바이러스가 존재하는 경우\n",
    "        if graph[i][j] != 0:\n",
    "            # (바이러스 종류, 시간, 위치 X, 위치 Y) 삽입\n",
    "            data.append((graph[i][j], 0, i, j))\n",
    "\n",
    "# 정렬 이후에 큐로 옮기기 (낮은 번호의 바이러스가 먼저 증식하므로)\n",
    "data.sort()\n",
    "q = deque(data)\n",
    " \n",
    "target_s, target_x, target_y = map(int, input().split())\n",
    " \n",
    "# 바이러스가 퍼져나갈 수 있는 4가지의 위치\n",
    "dx = [-1, 0, 1, 0]\n",
    "dy = [0, 1, 0, -1]\n",
    "\n",
    "# 너비 우선 탐색(BFS) 진행\n",
    "while q:\n",
    "    virus, s, x, y = q.popleft()\n",
    "    # 정확히 s초가 지나거나, 큐가 빌 때까지 반복\n",
    "    if s == target_s:\n",
    "        break\n",
    "    # 현재 노드에서 주변 4가지 위치를 각각 확인\n",
    "    for i in range(4):\n",
    "        nx = x + dx[i]\n",
    "        ny = y + dy[i]\n",
    "        # 해당 위치로 이동할 수 있는 경우\n",
    "        if 0 <= nx and nx < n and 0 <= ny and ny < n:\n",
    "            # 아직 방문하지 않은 위치라면, 그 위치에 바이러스 넣기\n",
    "            if graph[nx][ny] == 0:\n",
    "                graph[nx][ny] = virus\n",
    "                q.append((virus, s + 1, nx, ny))\n",
    "\n",
    "print(graph[target_x - 1][target_y - 1])"
   ]
  },
  {
   "cell_type": "markdown",
   "metadata": {},
   "source": [
    "# 1회차 풀이 후기\n",
    "바이러스 스캔을 매번 할게 아니라 que에 한번만 넣어주고 추가 제거 하는 방식으로 풀었어야 했는데 아쉽다\n",
    "que에 시간 정보를 넣어서 종료 조건을 만드는게 좋은 방법 인거 같다."
   ]
  }
 ],
 "metadata": {
  "kernelspec": {
   "display_name": "Python 3",
   "language": "python",
   "name": "python3"
  },
  "language_info": {
   "codemirror_mode": {
    "name": "ipython",
    "version": 3
   },
   "file_extension": ".py",
   "mimetype": "text/x-python",
   "name": "python",
   "nbconvert_exporter": "python",
   "pygments_lexer": "ipython3",
   "version": "3.8.3"
  }
 },
 "nbformat": 4,
 "nbformat_minor": 4
}
