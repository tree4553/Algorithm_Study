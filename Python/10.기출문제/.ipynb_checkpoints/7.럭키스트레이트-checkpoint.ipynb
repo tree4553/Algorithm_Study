{
 "cells": [
  {
   "cell_type": "markdown",
   "id": "77a904a0",
   "metadata": {},
   "source": [
    "# 럭키 스트레이트\n",
    "\n",
    "게임의 아웃복서 캐릭터는 필살기인 럭키 스트레이트 기술이 있다.  \n",
    "특정 조건에서 사용할수 있는데 캐릭터의 점수를 N이라고 할 때 자릿수를 기준으로 점수 N을 반으로 나누어 왼쪽 부분의 각 자릿수의 합과 오른쪽 부분의 각 자릿수의 합을 더한 값이 동일한 상황을 의미합니다.  \n",
    "현재 점수 N이 주어지면 럭키 스트레이트를 사용할 수 있는 상태인지 아닌지를 알려주는 프로그램을 작성하세요.\n",
    "- - -\n",
    "### 입력 조건\n",
    "- 첫째 줄에 점수 N이 정수로 주어집니다. (10 <= N <= 99,999,999)  \n",
    "단, 점수 N의 자릿수는 항상 짝수 형태로만 주어짖ㅂ니다.  \n",
    "- - -\n",
    "### 출력 조건\n",
    "- 첫째 줄에 럭키 스트레이트를 사용할 수 있다면 \"LUCKY\"를, 사용할 수 없다면 'READY\"를 출력하세요.\n",
    "- - - \n",
    "### 입력 예시 1\n",
    "123402\n",
    "- - -\n",
    "### 출력 예시 1\n",
    "LUCKY\n",
    "- - -\n",
    "### 입력 예시 2\n",
    "7755\n",
    "- - - \n",
    "### 출력 예시 2\n",
    "READY"
   ]
  },
  {
   "cell_type": "code",
   "execution_count": 13,
   "id": "ce9d91c6",
   "metadata": {},
   "outputs": [
    {
     "name": "stdout",
     "output_type": "stream",
     "text": [
      "7755\n",
      "READY\n"
     ]
    }
   ],
   "source": [
    "# Try\n",
    "n = input()\n",
    "sum = 0\n",
    "repeat = int(len(n)/2)\n",
    "for i in range(repeat):\n",
    "    sum = sum + int(n[i]) - int(n[repeat + i])\n",
    "    #print(i, n[i], n[repeat + i])\n",
    "    \n",
    "if sum == 0:\n",
    "    print(\"LUCKY\")\n",
    "else:\n",
    "    print(\"READY\")"
   ]
  },
  {
   "cell_type": "code",
   "execution_count": 10,
   "id": "089c9504",
   "metadata": {},
   "outputs": [
    {
     "name": "stdout",
     "output_type": "stream",
     "text": [
      "123042\n",
      "LUCKY\n"
     ]
    }
   ],
   "source": [
    "# Solution\n",
    "n = input()\n",
    "length = len(n)\n",
    "summary = 0\n",
    "\n",
    "for i in range(length // 2):\n",
    "    summary += int(n[i])\n",
    "    \n",
    "for i in range(length // 2, length):\n",
    "    summary -= int(n[i])\n",
    "    \n",
    "if summary == 0:\n",
    "    print(\"LUCKY\")\n",
    "else:\n",
    "    print(\"READY\")"
   ]
  },
  {
   "cell_type": "markdown",
   "id": "5f8558fe",
   "metadata": {},
   "source": [
    "# 1회차 풀이 후기\n",
    "최대한 연산 과정을 간추려서 풀어보려고 했다.  \n",
    "쉬운 문제라서 잘 푼거 같다."
   ]
  }
 ],
 "metadata": {
  "kernelspec": {
   "display_name": "Python 3",
   "language": "python",
   "name": "python3"
  },
  "language_info": {
   "codemirror_mode": {
    "name": "ipython",
    "version": 3
   },
   "file_extension": ".py",
   "mimetype": "text/x-python",
   "name": "python",
   "nbconvert_exporter": "python",
   "pygments_lexer": "ipython3",
   "version": "3.8.8"
  }
 },
 "nbformat": 4,
 "nbformat_minor": 5
}
