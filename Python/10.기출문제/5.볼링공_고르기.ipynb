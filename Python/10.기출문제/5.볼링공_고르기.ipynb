{
 "cells": [
  {
   "cell_type": "markdown",
   "id": "1d63a969",
   "metadata": {},
   "source": [
    "# 볼링공 고르기\n",
    "\n",
    "A, B 두 사람이 볼링을 치고 있습니다.  \n",
    "두 사람은 서로 무게가 다른 볼링공을 고르려고 합니다.  \n",
    "볼링공은 총 N개가 있으며 각 볼링공마다 무게가 적혀 있고,  \n",
    "공의 번호는 1번부터 순서대로 부여됩니다.  \n",
    "또한 같은 무게의 공이 여러 개 있을 수 있지만, 서로 다른 공으로 간주합니다.  \n",
    "볼링공의 무게는 1부터 M까지의 자연수 형태로 존재합니다.  \n",
    "두 사람이 볼링공을 고르는 경우의 수를 구하는 프로그램을 작성하세요.\n",
    "- - -\n",
    "### 입력 조건\n",
    "- 첫째 줄에 볼링공의 개수 N, 공의 최대 무게 M이 공백으로 구분되어 각각 자연수 형태로 주어집니다.  \n",
    "( 1 <= N <= 1,000, 1, <= M <= 10)\n",
    "- 둘째 줄에 각 볼링공의 무게 K가 공백으로 구분되어 순서대로 자연수 형태로 주어집니다.  \n",
    "(1 <= K <= M)\n",
    "- - -\n",
    "### 출력 조건\n",
    "- 첫째 줄에 두 사람이 볼링공을 고르는 경우의 수를 출력합니다.\n",
    "- - -\n",
    "### 입력 예시 1\n",
    "5 3<br>\n",
    "1 3 2 3 2\n",
    "- - -\n",
    "### 출력 예시 1\n",
    "8\n",
    "- - -\n",
    "### 입력 예시 2\n",
    "8 5<br>\n",
    "1 5 4 3 2 4 5 2\n",
    "- - -\n",
    "### 출력 예시 2\n",
    "25"
   ]
  },
  {
   "cell_type": "code",
   "execution_count": 1,
   "id": "4196d6bb",
   "metadata": {},
   "outputs": [
    {
     "name": "stdout",
     "output_type": "stream",
     "text": [
      "5 3\n",
      "1 3 2 3 2\n",
      "5 3 [1, 3, 2, 3, 2]\n"
     ]
    }
   ],
   "source": [
    "# Input\n",
    "n, m = map(int, input().split())\n",
    "data = list(map(int, input().split()))\n",
    "print(n, m, data)"
   ]
  },
  {
   "cell_type": "code",
   "execution_count": 6,
   "id": "1fe87a35",
   "metadata": {},
   "outputs": [],
   "source": [
    "# Try\n",
    "def func(n, m, data):\n",
    "    result = 0\n",
    "    for i in range(n):\n",
    "        for j in range(i + 1, n):\n",
    "            if data[i] != data[j]:\n",
    "                result += 1\n",
    "                \n",
    "    return result"
   ]
  },
  {
   "cell_type": "code",
   "execution_count": 7,
   "id": "216d5720",
   "metadata": {},
   "outputs": [
    {
     "name": "stdout",
     "output_type": "stream",
     "text": [
      "8\n"
     ]
    }
   ],
   "source": [
    "print(func(n,m,data))"
   ]
  },
  {
   "cell_type": "code",
   "execution_count": 8,
   "id": "3b446725",
   "metadata": {},
   "outputs": [
    {
     "name": "stdout",
     "output_type": "stream",
     "text": [
      "25\n"
     ]
    }
   ],
   "source": [
    "# Input 2\n",
    "n, m = 8, 5\n",
    "data = [1, 5, 4, 3, 2, 4, 5, 2]\n",
    "print(func(n,m,data)) # 예상 출력 값: 25"
   ]
  },
  {
   "cell_type": "code",
   "execution_count": 9,
   "id": "bfe46e80",
   "metadata": {},
   "outputs": [
    {
     "name": "stdout",
     "output_type": "stream",
     "text": [
      "8 5\n",
      "1 5 4 3 2 4 5 2\n",
      "25\n"
     ]
    }
   ],
   "source": [
    "# Solution\n",
    "n, m = map(int, input().split())\n",
    "data = list(map(int, input().split()))\n",
    "\n",
    "array = [0] * 11\n",
    "\n",
    "for x in data:\n",
    "    array[x] += 1\n",
    "    \n",
    "result = 0\n",
    "for i in range(1, m + 1):\n",
    "    n -= array[i]\n",
    "    result += array[i] * n\n",
    "    \n",
    "print(result)"
   ]
  },
  {
   "cell_type": "markdown",
   "id": "773f715d",
   "metadata": {},
   "source": [
    "# 1회차 풀이 후기\n",
    "\n",
    "그냥 머리에서 떠오르는데로 빠르게 풀었는데  \n",
    "더 나은 복잡도로 문제를 풀수 있는지 고민해 보고 답을 작성해야 했다.  \n",
    "O(N<sup>2</sup>)이 아닌 O(N)으로 풀 수 있도록 다음에 다시 풀어보자."
   ]
  }
 ],
 "metadata": {
  "kernelspec": {
   "display_name": "Python 3",
   "language": "python",
   "name": "python3"
  },
  "language_info": {
   "codemirror_mode": {
    "name": "ipython",
    "version": 3
   },
   "file_extension": ".py",
   "mimetype": "text/x-python",
   "name": "python",
   "nbconvert_exporter": "python",
   "pygments_lexer": "ipython3",
   "version": "3.8.8"
  }
 },
 "nbformat": 4,
 "nbformat_minor": 5
}
