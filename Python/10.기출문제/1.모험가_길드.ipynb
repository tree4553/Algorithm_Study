{
 "cells": [
  {
   "cell_type": "markdown",
   "id": "0a6e1ef9",
   "metadata": {},
   "source": [
    "# 1.모험가 길드\n",
    "\n",
    "모험가 N명이 있다.  \n",
    "길드에서 N명의 모험가를 대상으로 '공포도'를 측정했다.  \n",
    "공포도가 X인 모험가는 반드시 X명 이상으로 구성한 모험가 그룹에 참여해야 한다.  \n",
    "최대 몇 개의 모험가 그룹을 만들 수 있는지 구하시오.\n",
    "- - -\n",
    "### 입력 조건\n",
    "- 첫째 줄에 모험가의 수 N이 주어진다. (1 <= N <= 100,000)\n",
    "- 둘재 줄에 각 모헌가의 공포도의 값을 N 이하의 자연수로 주어지며, 각 자연수는 공백으로 구분한다.\n",
    "- - -\n",
    "### 출력 조건\n",
    "- 여행을 떠날 수 있는 그룹 수의 최댓값을 출력합니다.\n",
    "- - -\n",
    "### 입력 예시\n",
    "5<br>\n",
    "2 3 1 2 2\n",
    "- - -\n",
    "### 출력 예시\n",
    "2"
   ]
  },
  {
   "cell_type": "code",
   "execution_count": 5,
   "id": "6af414d5",
   "metadata": {},
   "outputs": [
    {
     "name": "stdout",
     "output_type": "stream",
     "text": [
      "5\n",
      "1 1 2 3 4\n"
     ]
    }
   ],
   "source": [
    "# Input\n",
    "from collections import deque\n",
    "n = int(input())\n",
    "array = list(map(int, input().split()))"
   ]
  },
  {
   "cell_type": "markdown",
   "id": "90f07dfd",
   "metadata": {},
   "source": [
    "## Try 1"
   ]
  },
  {
   "cell_type": "code",
   "execution_count": 17,
   "id": "b08a3025",
   "metadata": {},
   "outputs": [],
   "source": [
    "# Try 1\n",
    "def func(n, array):\n",
    "    team = deque()\n",
    "    result = 0\n",
    "    max = 0\n",
    "    for i in range(n):\n",
    "        if max < array[i]:\n",
    "            max = array[i]\n",
    "\n",
    "        team.append(array[i])\n",
    "        if len(team) >= max:\n",
    "            team.clear()\n",
    "            result += 1\n",
    "            max = 0\n",
    "    print(result)"
   ]
  },
  {
   "cell_type": "code",
   "execution_count": 7,
   "id": "219ad8a0",
   "metadata": {},
   "outputs": [
    {
     "name": "stdout",
     "output_type": "stream",
     "text": [
      "2\n"
     ]
    }
   ],
   "source": [
    "func(n, array)"
   ]
  },
  {
   "cell_type": "code",
   "execution_count": 8,
   "id": "05e9c174",
   "metadata": {},
   "outputs": [
    {
     "name": "stdout",
     "output_type": "stream",
     "text": [
      "5\n"
     ]
    }
   ],
   "source": [
    "# 입력값\n",
    "n = 5\n",
    "array = [1, 1, 1, 1, 1]\n",
    "# 예상 출력값 : 5\n",
    "func(n, array)"
   ]
  },
  {
   "cell_type": "code",
   "execution_count": 9,
   "id": "8414db99",
   "metadata": {},
   "outputs": [
    {
     "name": "stdout",
     "output_type": "stream",
     "text": [
      "0\n"
     ]
    }
   ],
   "source": [
    "# 입력값\n",
    "n = 4\n",
    "array = [5, 5, 5, 5]\n",
    "# 예상 출력값 : 0\n",
    "func(n, array)"
   ]
  },
  {
   "cell_type": "markdown",
   "id": "cf4fea6b",
   "metadata": {},
   "source": [
    "## 오답 발생"
   ]
  },
  {
   "cell_type": "code",
   "execution_count": 18,
   "id": "7249ea00",
   "metadata": {},
   "outputs": [
    {
     "name": "stdout",
     "output_type": "stream",
     "text": [
      "2\n"
     ]
    }
   ],
   "source": [
    "# 입력값\n",
    "n = 5\n",
    "array = [1, 2, 2, 3, 1]\n",
    "# 예상 출력값 : 3\n",
    "func(n, array)\n",
    "# 오답 발생 다시 풀자"
   ]
  },
  {
   "cell_type": "markdown",
   "id": "4b13414e",
   "metadata": {},
   "source": [
    "## Try 2"
   ]
  },
  {
   "cell_type": "code",
   "execution_count": 19,
   "id": "bc862489",
   "metadata": {},
   "outputs": [],
   "source": [
    "# Try 2\n",
    "def func(n, array):\n",
    "    team = deque()\n",
    "    result = 0\n",
    "    max = 0\n",
    "    array.sort()\n",
    "    for i in range(n):\n",
    "        if max < array[i]:\n",
    "            max = array[i]\n",
    "\n",
    "        team.append(array[i])\n",
    "        if len(team) >= max:\n",
    "            team.clear()\n",
    "            result += 1\n",
    "            max = 0\n",
    "    print(result)"
   ]
  },
  {
   "cell_type": "code",
   "execution_count": 20,
   "id": "f9eef08b",
   "metadata": {},
   "outputs": [
    {
     "name": "stdout",
     "output_type": "stream",
     "text": [
      "3\n"
     ]
    }
   ],
   "source": [
    "# 입력값\n",
    "n = 5\n",
    "array = [1, 2, 2, 3, 1]\n",
    "# 예상 출력값 : 3\n",
    "func(n, array)\n",
    "# array를 sort하지 않아서 생각과 다르게 동작했다."
   ]
  },
  {
   "cell_type": "markdown",
   "id": "00c82741",
   "metadata": {},
   "source": [
    "## Solution"
   ]
  },
  {
   "cell_type": "code",
   "execution_count": 21,
   "id": "a6e34013",
   "metadata": {},
   "outputs": [
    {
     "name": "stdout",
     "output_type": "stream",
     "text": [
      "5\n",
      "2 3 1 2 2\n",
      "2\n"
     ]
    }
   ],
   "source": [
    "# solution\n",
    "n = int(input())\n",
    "data = list(map(int, input().split()))\n",
    "data.sort()\n",
    "\n",
    "result = 0\n",
    "count = 0\n",
    "\n",
    "for i in data: # 공포도를 낮은 것부터 하나씩 확인하며\n",
    "    count += 1 # 현재 그룹에 해당 모험가를 포함시키기\n",
    "    if count >= i: # 현재 그룹에 포함된 모헌가의 수가 현재의 공포도 이상이라면, 그룹 결성\n",
    "        result += 1 # 총 그룹의 수 증가시키기\n",
    "        count = 0 # 현재 그룹에 포함된 모험가의 수 초기화\n",
    "        \n",
    "print(result)"
   ]
  },
  {
   "cell_type": "markdown",
   "id": "989618fe",
   "metadata": {},
   "source": [
    "## 1회차 풀이 후기\n",
    "문제는 맞게 잘 푼거 같은데, deque의 사용과 append, clear 연산으로 인해 성능이 저하되었을것 같다.  \n",
    "자료 구조를 사용하지 않고도 풀 수 있는 더 간결한 방법을 잘 생각해보자."
   ]
  }
 ],
 "metadata": {
  "kernelspec": {
   "display_name": "Python 3",
   "language": "python",
   "name": "python3"
  },
  "language_info": {
   "codemirror_mode": {
    "name": "ipython",
    "version": 3
   },
   "file_extension": ".py",
   "mimetype": "text/x-python",
   "name": "python",
   "nbconvert_exporter": "python",
   "pygments_lexer": "ipython3",
   "version": "3.8.8"
  }
 },
 "nbformat": 4,
 "nbformat_minor": 5
}
