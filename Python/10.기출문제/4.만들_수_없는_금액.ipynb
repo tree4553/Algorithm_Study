{
 "cells": [
  {
   "cell_type": "markdown",
   "id": "39b66cff",
   "metadata": {},
   "source": [
    "# 만들 수 없는 금액\n",
    "\n",
    "편의점 주인은 N개의 동전을 가지고 있습니다.  \n",
    "이때 N개의 동전을 이용하여 만들 수 없는 양의 정수 금액 중 최솟값을 구하는 프로그램을 작성하세요.  \n",
    "- - -\n",
    "### 입력 조건\n",
    "- 첫째 줄에는 동전의 개수를 나타내는 양의 정수 N이 주어집니다. (1 <= N <= 1,000)\n",
    "- 둘째 줄에는 각 동전의 화폐 단위를 나타내는 N개의 자연수가 주어지며, 각 자연수는 공백으로 구분합니다.  \n",
    "이때, 각 화폐 단위는 1,000,000 이하의 자연수입니다.\n",
    "- - -\n",
    "### 출력 조건\n",
    "- 첫째 줄에 주어진 동전들로 만들 수 없는 양의 정수 금액 중 최솟값을 출력합니다.\n",
    "- - -\n",
    "### 입력 예시\n",
    "5<br>\n",
    "3 2 1 1 9\n",
    "- - -\n",
    "### 출력 예시\n",
    "8"
   ]
  },
  {
   "cell_type": "code",
   "execution_count": 22,
   "id": "be848cdb",
   "metadata": {},
   "outputs": [],
   "source": [
    "# Try\n",
    "# 도저히 못풀겠다.\n",
    "# 어떻게 풀어야 될지 모르겠다."
   ]
  },
  {
   "cell_type": "code",
   "execution_count": 23,
   "id": "69f843a9",
   "metadata": {},
   "outputs": [],
   "source": [
    "# Solution\n",
    "# 이게 맞는 정답을 잘 내놓는다고?\n",
    "def func(data):\n",
    "    data.sort()\n",
    "    target = 1\n",
    "    for x in data:\n",
    "        if target < x:\n",
    "            break\n",
    "        target += x\n",
    "    return target\n",
    "# 'n이 가능하다면 n+1도 가능한가?'를 물어보고\n",
    "# sort를 통해서 작은 수부터 확인을 하게하여 만들수 없는 최소값을 구하게 했다."
   ]
  },
  {
   "cell_type": "code",
   "execution_count": 26,
   "id": "4afd0062",
   "metadata": {},
   "outputs": [
    {
     "name": "stdout",
     "output_type": "stream",
     "text": [
      "8\n",
      "1\n",
      "4\n",
      "6\n",
      "12\n"
     ]
    }
   ],
   "source": [
    "# Input 1\n",
    "data = [3, 2, 1, 1, 9]\n",
    "print(func(data)) # 예상 출력 값 : 8\n",
    "\n",
    "# Input 2\n",
    "data = [3, 5, 7]\n",
    "print(func(data)) # 예상 출력 값 : 1\n",
    "\n",
    "# Input 3\n",
    "data = [1, 1, 1]\n",
    "print(func(data)) # 예상 출력 값 : 4\n",
    "\n",
    "# Input 4\n",
    "data = [2, 1, 1, 1]\n",
    "print(func(data)) # 예상 출력 값 : 6\n",
    "\n",
    "# Input 5\n",
    "data = [1, 2, 3, 5]\n",
    "print(func(data)) # 예상 출력 값 : 12"
   ]
  },
  {
   "cell_type": "markdown",
   "id": "df296a39",
   "metadata": {},
   "source": [
    "# 1회차 풀이 후기\n",
    "하루종일 머리싸메고 고민해봤는데 모르겠어서 포기했었다.  \n",
    "머리에서 조금 잊혀진 다음에 다시 한번 풀었을때 혼자 힘으로 풀어보자."
   ]
  }
 ],
 "metadata": {
  "kernelspec": {
   "display_name": "Python 3",
   "language": "python",
   "name": "python3"
  },
  "language_info": {
   "codemirror_mode": {
    "name": "ipython",
    "version": 3
   },
   "file_extension": ".py",
   "mimetype": "text/x-python",
   "name": "python",
   "nbconvert_exporter": "python",
   "pygments_lexer": "ipython3",
   "version": "3.8.8"
  }
 },
 "nbformat": 4,
 "nbformat_minor": 5
}
