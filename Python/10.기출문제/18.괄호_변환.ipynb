{
 "cells": [
  {
   "cell_type": "markdown",
   "metadata": {},
   "source": [
    "# 괄호 변환\n",
    "\n",
    "https://school.programmers.co.kr/learn/courses/30/lessons/60058"
   ]
  },
  {
   "cell_type": "code",
   "execution_count": 2,
   "metadata": {},
   "outputs": [
    {
     "name": "stdout",
     "output_type": "stream",
     "text": [
      "p1 correct\n",
      "p2 correct\n",
      "p3 correct\n"
     ]
    }
   ],
   "source": [
    "# Input\n",
    "p1 = \"(()())()\"\n",
    "p2 = \")(\"\n",
    "p3 = \"()))((()\"\n",
    "\n",
    "a1 = \"(()())()\"\n",
    "a2 = \"()\"\n",
    "a3 = \"()(())()\"\n",
    "\n",
    "if(solution(p1) == a1):\n",
    "    print(\"p1 correct\")\n",
    "else:\n",
    "    print(\"p1 error\")\n",
    "    print(solution(p1), a1)\n",
    "if(solution(p2) == a2):\n",
    "    print(\"p2 correct\")\n",
    "else:\n",
    "    print(\"p2 error\")    \n",
    "if(solution(p3) == a3):\n",
    "    print(\"p3 correct\")\n",
    "else:\n",
    "    print(\"p3 error\")"
   ]
  },
  {
   "cell_type": "code",
   "execution_count": 73,
   "metadata": {},
   "outputs": [],
   "source": [
    "# Try\n",
    "import re\n",
    "\n",
    "def solution(p):\n",
    "    answer = ''\n",
    "    start = 0\n",
    "    balance = 0\n",
    "    odd = False\n",
    "    for i in range(len(p)):\n",
    "        if p[i]  == '(':\n",
    "            if balance == 0:\n",
    "                odd = False\n",
    "            balance += 1\n",
    "        elif p[i] == ')':\n",
    "            if balance == 0:\n",
    "                odd = True\n",
    "            balance -= 1\n",
    "        \n",
    "        if balance == 0:\n",
    "            if odd == True:\n",
    "                answer += flipOver(p[start:i + 1])\n",
    "            else:\n",
    "                answer += p[start:i + 1]\n",
    "            start = i + 1\n",
    "    return answer\n",
    "\n",
    "def flipOver(a):\n",
    "#     a = a.replace('(', '0')\n",
    "#     a = a.replace(')', '(')\n",
    "#     a = a.replace('0', ')')\n",
    "    \n",
    "    a = re.sub('\\(', '0', a)\n",
    "    a = re.sub('\\)', '(', a)\n",
    "    a = re.sub('0', ')', a)\n",
    "        \n",
    "    return a\n",
    "\n",
    "# 오답나옴\n",
    "# 반례 못찾겠음"
   ]
  },
  {
   "cell_type": "code",
   "execution_count": 1,
   "metadata": {},
   "outputs": [],
   "source": [
    "# Solution\n",
    "# \"균형잡힌 괄호 문자열\"의 인덱스 반환\n",
    "def balanced_index(p):\n",
    "    count = 0 # 왼쪽 괄호의 개수\n",
    "    for i in range(len(p)):\n",
    "        if p[i] == '(':\n",
    "            count += 1\n",
    "        else:\n",
    "            count -= 1\n",
    "        if count == 0:\n",
    "            return i\n",
    "\n",
    "# \"올바른 괄호 문자열\"인지 판단\n",
    "def check_proper(p):\n",
    "    count = 0 # 왼쪽 괄호의 개수\n",
    "    for i in p:\n",
    "        if i == '(':\n",
    "            count += 1\n",
    "        else:\n",
    "            if count == 0: # 쌍이 맞지 않는 경우에 False 반환\n",
    "                return False\n",
    "            count -= 1\n",
    "    return True # 쌍이 맞는 경우에 True 반환\n",
    "\n",
    "def solution(p):\n",
    "    answer = ''\n",
    "    if p == '':\n",
    "        return answer\n",
    "    index = balanced_index(p)\n",
    "    u = p[:index + 1]\n",
    "    v = p[index + 1:]\n",
    "    # \"올바른 괄호 문자열\"이면, v에 대해 함수를 수행한 결과를 붙여 반환\n",
    "    if check_proper(u):\n",
    "        answer = u + solution(v)\n",
    "    # \"올바른 괄호 문자열\"이 아니라면 아래의 과정을 수행\n",
    "    else:\n",
    "        answer = '('\n",
    "        answer += solution(v)\n",
    "        answer += ')'\n",
    "        u = list(u[1:-1]) # 첫 번째와 마지막 문자를 제거\n",
    "        for i in range(len(u)):\n",
    "            if u[i] == '(':\n",
    "                u[i] = ')'\n",
    "            else:\n",
    "                u[i] = '('\n",
    "        answer += \"\".join(u)\n",
    "    return answer"
   ]
  }
 ],
 "metadata": {
  "kernelspec": {
   "display_name": "Python 3",
   "language": "python",
   "name": "python3"
  },
  "language_info": {
   "codemirror_mode": {
    "name": "ipython",
    "version": 3
   },
   "file_extension": ".py",
   "mimetype": "text/x-python",
   "name": "python",
   "nbconvert_exporter": "python",
   "pygments_lexer": "ipython3",
   "version": "3.8.3"
  }
 },
 "nbformat": 4,
 "nbformat_minor": 5
}
