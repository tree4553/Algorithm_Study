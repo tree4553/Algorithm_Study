{
 "cells": [
  {
   "cell_type": "markdown",
   "id": "eded89b9",
   "metadata": {},
   "source": [
    "# 무지의 먹방 라이브\n",
    "\n",
    "https://programmers.co.kr/learn/courses/30/lessons/42891"
   ]
  },
  {
   "cell_type": "code",
   "execution_count": 23,
   "id": "ad2e23c6",
   "metadata": {},
   "outputs": [],
   "source": [
    "# Try\n",
    "from collections import deque\n",
    "\n",
    "def solution(food_times, k):\n",
    "    \n",
    "    answer = 0\n",
    "    time = 0\n",
    "    queue = deque()\n",
    "    \n",
    "    for i in range(len(food_times)):\n",
    "        queue.append((i + 1, food_times[i]))\n",
    "                     \n",
    "    while queue:\n",
    "        index, food_time = queue.popleft()\n",
    "        \n",
    "        if time == k:\n",
    "                return index\n",
    "        \n",
    "        time += 1\n",
    "        food_time -= 1\n",
    "        if food_time > 0:\n",
    "            queue.append((index, food_time))\n",
    "    \n",
    "    if not queue:\n",
    "        answer = -1\n",
    "    return answer\n"
   ]
  },
  {
   "cell_type": "markdown",
   "id": "97d41002",
   "metadata": {},
   "source": [
    "# 성능이 너무 안좋게 나옴"
   ]
  },
  {
   "cell_type": "code",
   "execution_count": 1,
   "id": "87f74e02",
   "metadata": {},
   "outputs": [],
   "source": [
    "# Solution\n",
    "import heapq\n",
    "\n",
    "def solution(food_times, k):\n",
    "    if sum(food_times) <= k:\n",
    "        return -1\n",
    "    \n",
    "    q = []\n",
    "    for i in range(len(food_times)):\n",
    "        heapq.heappush(q, (food_times[i], i + 1))\n",
    "        \n",
    "    sum_value = 0\n",
    "    previous = 0\n",
    "    length = len(food_times)\n",
    "    \n",
    "    while sum_value + ((q[0][0] - previous) * length) <= k:\n",
    "        now = heapq.heappop(q)[0]\n",
    "        sum_value += (now - previous) * length\n",
    "        length -= 1\n",
    "        previous = now\n",
    "        \n",
    "    result = sorted(q, key = lambda x: x[1])\n",
    "    return result[(k - sum_value) % length][1]"
   ]
  },
  {
   "cell_type": "markdown",
   "id": "a36c0f3c",
   "metadata": {},
   "source": [
    "# 1회차 풀이 후기\n",
    "맨 처음엔 문제에 주어진 예제만 가지고 테스트를해서 오답이 발생하였다.  \n",
    "인덱스 번호를 잘못 입력한 탓이었다.  \n",
    "올바른 답을 낼수있게 만들었지만 성능이 너무 안좋아서 채점 결과가 좋지 않았다.  \n",
    "일단은 풀었다는거에 의의를 두고 다음에 풀때는 성능을 고려해서 코드를 짜보자."
   ]
  }
 ],
 "metadata": {
  "kernelspec": {
   "display_name": "Python 3",
   "language": "python",
   "name": "python3"
  },
  "language_info": {
   "codemirror_mode": {
    "name": "ipython",
    "version": 3
   },
   "file_extension": ".py",
   "mimetype": "text/x-python",
   "name": "python",
   "nbconvert_exporter": "python",
   "pygments_lexer": "ipython3",
   "version": "3.8.8"
  }
 },
 "nbformat": 4,
 "nbformat_minor": 5
}
