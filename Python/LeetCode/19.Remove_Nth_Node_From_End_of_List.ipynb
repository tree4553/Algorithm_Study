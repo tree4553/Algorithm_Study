{
 "cells": [
  {
   "cell_type": "markdown",
   "metadata": {},
   "source": [
    "https://leetcode.com/problems/remove-nth-node-from-end-of-list/description/?envType=study-plan&id=algorithm-i"
   ]
  },
  {
   "cell_type": "code",
   "execution_count": null,
   "metadata": {},
   "outputs": [],
   "source": [
    "# Definition for singly-linked list.\n",
    "# class ListNode:\n",
    "#     def __init__(self, val=0, next=None):\n",
    "#         self.val = val\n",
    "#         self.next = next\n",
    "class Solution:\n",
    "    def removeNthFromEnd(self, head: Optional[ListNode], n: int) -> Optional[ListNode]:\n",
    "        size = 1\n",
    "        temp = head\n",
    "        while temp.next != None:\n",
    "            size += 1\n",
    "            temp = temp.next\n",
    "\n",
    "        # 사이즈가 1이거나 첫번째 자리를 없애는 경우\n",
    "        if size == 1 or size - n - 1 < 0:\n",
    "            head = head.next\n",
    "            return head\n",
    "        \n",
    "        temp = head\n",
    "        for i in range(size - n - 1):\n",
    "            temp = temp.next\n",
    "        temp.next = temp.next.next\n",
    "\n",
    "        return head"
   ]
  },
  {
   "cell_type": "markdown",
   "metadata": {},
   "source": [
    "![nn](img/19.Remove_Nth_Node_From_End_of_List.PNG)"
   ]
  }
 ],
 "metadata": {
  "language_info": {
   "name": "python"
  },
  "orig_nbformat": 4
 },
 "nbformat": 4,
 "nbformat_minor": 2
}
