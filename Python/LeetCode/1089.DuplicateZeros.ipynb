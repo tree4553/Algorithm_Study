{
 "cells": [
  {
   "cell_type": "code",
   "execution_count": null,
   "metadata": {},
   "outputs": [],
   "source": [
    "https://leetcode.com/problems/duplicate-zeros/description/"
   ]
  },
  {
   "cell_type": "code",
   "execution_count": null,
   "metadata": {},
   "outputs": [],
   "source": [
    "class Solution:\n",
    "    def duplicateZeros(self, arr: List[int]) -> None:\n",
    "        \"\"\"\n",
    "        Do not return anything, modify arr in-place instead.\n",
    "        \"\"\"\n",
    "        zeros = []\n",
    "        for i in range(len(arr)):\n",
    "            if arr[i] == 0:\n",
    "                zeros.append(i)\n",
    "        count = 0\n",
    "        for i in range(len(zeros)):\n",
    "            if zeros[i] + count < len(arr):\n",
    "                arr.insert(zeros[i] + count, 0)\n",
    "                count+=1\n",
    "                arr.pop(-1)"
   ]
  },
  {
   "attachments": {},
   "cell_type": "markdown",
   "metadata": {},
   "source": [
    "![nn](img/1089.DuplicateZeros.PNG)"
   ]
  }
 ],
 "metadata": {
  "language_info": {
   "name": "python"
  },
  "orig_nbformat": 4
 },
 "nbformat": 4,
 "nbformat_minor": 2
}
