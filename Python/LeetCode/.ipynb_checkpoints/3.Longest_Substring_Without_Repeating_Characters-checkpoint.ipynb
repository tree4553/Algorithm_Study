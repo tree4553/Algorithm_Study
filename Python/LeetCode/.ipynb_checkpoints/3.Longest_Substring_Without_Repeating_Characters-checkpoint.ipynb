{
 "cells": [
  {
   "cell_type": "markdown",
   "id": "0ca93717",
   "metadata": {},
   "source": [
    "https://leetcode.com/problems/longest-substring-without-repeating-characters/description/"
   ]
  },
  {
   "cell_type": "code",
   "execution_count": null,
   "id": "13f8696d",
   "metadata": {},
   "outputs": [],
   "source": [
    "class Solution(object):\n",
    "    def lengthOfLongestSubstring(self, s):\n",
    "        if len(s) < 2:\n",
    "            return len(s)\n",
    "        answer = 0\n",
    "        temp = \"\"\n",
    "        for i in range(len(s)):\n",
    "            temp = s[i]\n",
    "            for j in range(i + 1, len(s)):\n",
    "                if s[j] not in temp:\n",
    "                    temp += s[j]\n",
    "                else:\n",
    "                    if len(temp) > answer:\n",
    "                        print(temp)\n",
    "                        answer = len(temp)\n",
    "                    break\n",
    "            if len(temp) > answer:\n",
    "                answer = len(temp)\n",
    "        return answer\n"
   ]
  },
  {
   "cell_type": "markdown",
   "id": "6e2577b5",
   "metadata": {},
   "source": [
    "![nn](img/3.Longest_Substring_Without_Repeating_Characters.GIF)"
   ]
  }
 ],
 "metadata": {
  "kernelspec": {
   "display_name": "Python 3",
   "language": "python",
   "name": "python3"
  },
  "language_info": {
   "codemirror_mode": {
    "name": "ipython",
    "version": 3
   },
   "file_extension": ".py",
   "mimetype": "text/x-python",
   "name": "python",
   "nbconvert_exporter": "python",
   "pygments_lexer": "ipython3",
   "version": "3.8.8"
  }
 },
 "nbformat": 4,
 "nbformat_minor": 5
}
