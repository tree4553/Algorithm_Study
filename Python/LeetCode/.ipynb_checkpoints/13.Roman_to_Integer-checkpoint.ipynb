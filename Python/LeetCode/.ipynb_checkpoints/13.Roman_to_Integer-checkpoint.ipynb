{
 "cells": [
  {
   "cell_type": "markdown",
   "id": "9630267d",
   "metadata": {},
   "source": [
    "https://leetcode.com/problems/roman-to-integer/"
   ]
  },
  {
   "cell_type": "code",
   "execution_count": null,
   "id": "6f7a97b7",
   "metadata": {},
   "outputs": [],
   "source": [
    "class Solution(object):\n",
    "    def romanToInt(self, s):\n",
    "        \"\"\"\n",
    "        :type s: str\n",
    "        :rtype: int\n",
    "        \"\"\"\n",
    "        answer = 0\n",
    "        for i in range(len(s)):\n",
    "            print(answer)\n",
    "            if s[i] == 'V':\n",
    "                if i > 0:\n",
    "                    if s[i - 1] == 'I':\n",
    "                        continue\n",
    "                answer += 5\n",
    "            elif s[i] == 'X':\n",
    "                if i > 0:\n",
    "                    if s[i - 1] == 'I':\n",
    "                        continue\n",
    "                if i + 1 < len(s):\n",
    "                    if s[i + 1] == 'L':\n",
    "                        answer += 40\n",
    "                        continue\n",
    "                    elif s[i + 1] == 'C':\n",
    "                        answer += 90\n",
    "                        continue\n",
    "                answer += 10\n",
    "            elif s[i] == 'L':\n",
    "                if i > 0:\n",
    "                    if s[i - 1] == 'X':\n",
    "                        continue\n",
    "                answer += 50\n",
    "            elif s[i] == 'C':\n",
    "                if i > 0:\n",
    "                    if s[i - 1] == 'X':\n",
    "                        continue\n",
    "                if i + 1 < len(s):\n",
    "                    if s[i + 1] == 'D':\n",
    "                        answer += 400\n",
    "                        continue\n",
    "                    elif s[i + 1] == 'M':\n",
    "                        answer += 900\n",
    "                        continue\n",
    "                answer += 100\n",
    "            elif s[i] == 'D':\n",
    "                if i > 0:\n",
    "                    if s[i - 1] == 'C':\n",
    "                        continue\n",
    "                answer += 500\n",
    "            elif s[i] == 'M':\n",
    "                if i > 0:\n",
    "                    if s[i - 1] == 'C':\n",
    "                        continue\n",
    "                answer += 1000\n",
    "            elif s[i] == 'I':\n",
    "                if i + 1 < len(s):\n",
    "                    if s[i + 1] == 'V':\n",
    "                        answer += 4\n",
    "                        continue\n",
    "                    elif s[i + 1] == 'X':\n",
    "                        answer += 9\n",
    "                        continue\n",
    "                answer += 1\n",
    "        return answer"
   ]
  },
  {
   "cell_type": "markdown",
   "id": "da35037e",
   "metadata": {},
   "source": [
    "![nn](img/13.Roman_to_Integer.GIF)"
   ]
  }
 ],
 "metadata": {
  "kernelspec": {
   "display_name": "Python 3",
   "language": "python",
   "name": "python3"
  },
  "language_info": {
   "codemirror_mode": {
    "name": "ipython",
    "version": 3
   },
   "file_extension": ".py",
   "mimetype": "text/x-python",
   "name": "python",
   "nbconvert_exporter": "python",
   "pygments_lexer": "ipython3",
   "version": "3.8.8"
  }
 },
 "nbformat": 4,
 "nbformat_minor": 5
}
