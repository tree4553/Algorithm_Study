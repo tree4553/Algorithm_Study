{
 "cells": [
  {
   "cell_type": "markdown",
   "id": "306608bb",
   "metadata": {},
   "source": [
    "https://leetcode.com/problems/longest-common-prefix/description/"
   ]
  },
  {
   "cell_type": "code",
   "execution_count": null,
   "id": "c03620fc",
   "metadata": {},
   "outputs": [],
   "source": [
    "class Solution:\n",
    "    def longestCommonPrefix(self, strs: List[str]) -> str:\n",
    "        answer = \"\"\n",
    "\n",
    "        if len(strs[0]) == 0:\n",
    "            return answer\n",
    "\n",
    "        prefix = strs[0][0]\n",
    "        for i in range(len(strs[0])):\n",
    "            for word in strs:\n",
    "                if len(prefix) > len(word):\n",
    "                    return answer\n",
    "                else:\n",
    "                    for j in range(len(prefix)):\n",
    "                        if word[j] != prefix[j]:\n",
    "                            return answer\n",
    "            answer += prefix[i]\n",
    "            if i + 1 < len(strs[0]):\n",
    "                prefix += strs[0][i + 1]\n",
    "        return answer\n",
    "        "
   ]
  },
  {
   "cell_type": "markdown",
   "id": "0933c8ce",
   "metadata": {},
   "source": [
    "![nn](img/14.Longest_Common_Prefix.GIF)"
   ]
  }
 ],
 "metadata": {
  "kernelspec": {
   "display_name": "Python 3",
   "language": "python",
   "name": "python3"
  },
  "language_info": {
   "codemirror_mode": {
    "name": "ipython",
    "version": 3
   },
   "file_extension": ".py",
   "mimetype": "text/x-python",
   "name": "python",
   "nbconvert_exporter": "python",
   "pygments_lexer": "ipython3",
   "version": "3.8.8"
  }
 },
 "nbformat": 4,
 "nbformat_minor": 5
}
