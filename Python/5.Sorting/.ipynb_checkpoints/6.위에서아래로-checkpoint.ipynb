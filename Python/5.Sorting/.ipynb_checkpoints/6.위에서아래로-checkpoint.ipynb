{
 "cells": [
  {
   "cell_type": "markdown",
   "id": "0bc53e7d",
   "metadata": {},
   "source": [
    "# 위에서 아래로\n",
    "\n",
    "하나의 수열에는 다양한 수가 존재한다.   \n",
    "이러한 수는 크기에 상관없이 나열되어 있다.   \n",
    "이 수를 큰 수붜 작은 수의 순서로 정렬해야 한다.   \n",
    "수열을 내림차순으로 정렬하는 프로그램을 만드시오.   \n",
    "- - -\n",
    "### 입력 조건\n",
    "- 첫째 줄에 수열에 속해 있는 수의 개수 N이 주어진다. (1 <= N <= 500)   \n",
    "- 둘째 줄부터 N + 1 번째 줄까지 N개의 수가 입력된다.   \n",
    "수의 범위는 1 이상 100,000 이하의 자연수이다.   \n",
    "- - -\n",
    "### 출력 조건\n",
    "- 입력으로 주어진 수열이 내림차순으로 정렬된 결과를 공백으로 구분하여 출력한다.   \n",
    "동일한 수의 순서는 자유롭게 추력해도 괜찮다.   \n",
    "- - -\n",
    "### 입력 예시\n",
    "\n",
    "3<br>\n",
    "15   \n",
    "27   \n",
    "12   \n",
    "- - -\n",
    "### 출력 예시\n",
    "27   \n",
    "15   \n",
    "12"
   ]
  },
  {
   "cell_type": "code",
   "execution_count": 6,
   "id": "74cf5106",
   "metadata": {},
   "outputs": [
    {
     "name": "stdout",
     "output_type": "stream",
     "text": [
      "3\n",
      "15\n",
      "27\n",
      "12\n"
     ]
    }
   ],
   "source": [
    "# Input\n",
    "n = int(input())\n",
    "array = []\n",
    "for i in range(n):\n",
    "    array.append(int(input()))"
   ]
  },
  {
   "cell_type": "code",
   "execution_count": 14,
   "id": "4a942c6a",
   "metadata": {},
   "outputs": [
    {
     "name": "stdout",
     "output_type": "stream",
     "text": [
      "27 15 12 "
     ]
    }
   ],
   "source": [
    "# Try\n",
    "array.sort(reverse = True)\n",
    "\n",
    "for i in range(len(array)):\n",
    "    print(array[i], end = ' ')"
   ]
  },
  {
   "cell_type": "code",
   "execution_count": 15,
   "id": "b234aecf",
   "metadata": {},
   "outputs": [
    {
     "name": "stdout",
     "output_type": "stream",
     "text": [
      "27 15 12 "
     ]
    }
   ],
   "source": [
    "# Solution\n",
    "array = sorted(array, reverse=True)\n",
    "\n",
    "for i in array:\n",
    "    print(i, end=' ')"
   ]
  }
 ],
 "metadata": {
  "kernelspec": {
   "display_name": "Python 3",
   "language": "python",
   "name": "python3"
  },
  "language_info": {
   "codemirror_mode": {
    "name": "ipython",
    "version": 3
   },
   "file_extension": ".py",
   "mimetype": "text/x-python",
   "name": "python",
   "nbconvert_exporter": "python",
   "pygments_lexer": "ipython3",
   "version": "3.8.8"
  }
 },
 "nbformat": 4,
 "nbformat_minor": 5
}
