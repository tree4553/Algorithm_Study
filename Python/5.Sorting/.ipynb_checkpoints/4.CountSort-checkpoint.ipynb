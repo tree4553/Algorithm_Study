{
 "cells": [
  {
   "cell_type": "markdown",
   "id": "21fa8621",
   "metadata": {},
   "source": [
    "# 계수 정렬\n",
    "\n",
    "특정한 조건이 부합할 때만 사용할 수 있는 매우 빠른 정렬 알고리즘   \n",
    "데이터의 크기 범위가 제한되어 정수 형태로 표현할 수 있을 때 사용 가능하다.   \n",
    "최악의 경우에도 수행 시간 O(N + K)를 보장한다.\n",
    "계수 정렬은 모든 범위를 담을 수 있는 크기의 리스트를 선언해야 하기 대문에 가장 작은 데이터와 가장 큰 데이터의 차이가 너무 크다면 계수 정렬은 사용할 수 없다.   \n",
    "공간 복잡도는 O(N + K)이다."
   ]
  },
  {
   "cell_type": "code",
   "execution_count": 3,
   "id": "0cd7348f",
   "metadata": {},
   "outputs": [
    {
     "name": "stdout",
     "output_type": "stream",
     "text": [
      "0 0 1 1 2 2 3 4 5 5 6 7 8 9 9 "
     ]
    }
   ],
   "source": [
    "# 모든 원소의 값이 0보다 크거나 같다고 가정\n",
    "array = [7, 5, 9, 0, 3, 1, 6, 2, 9, 1, 4, 8, 0, 5, 2]\n",
    "\n",
    "#모든 범위를 포함하는 리스트 선언(모든 값은 0으로 초기화)\n",
    "count = [0] * (max(array) + 1)\n",
    "\n",
    "for i in range(len(array)):\n",
    "    count[array[i]] += 1 # 각 데이터에 해당하는 인덱스의 값 증가\n",
    "    \n",
    "for i in range(len(count)): # 리스트에 기록된 정렬 정보 확인\n",
    "    for j in range(count[i]):\n",
    "        print(i, end=' ') # 띄었기를 구분으로 등장한 횟수만큼 인덱스 출력"
   ]
  }
 ],
 "metadata": {
  "kernelspec": {
   "display_name": "Python 3",
   "language": "python",
   "name": "python3"
  },
  "language_info": {
   "codemirror_mode": {
    "name": "ipython",
    "version": 3
   },
   "file_extension": ".py",
   "mimetype": "text/x-python",
   "name": "python",
   "nbconvert_exporter": "python",
   "pygments_lexer": "ipython3",
   "version": "3.8.8"
  }
 },
 "nbformat": 4,
 "nbformat_minor": 5
}
