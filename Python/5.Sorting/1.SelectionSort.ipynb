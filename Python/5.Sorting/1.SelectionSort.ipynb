{
 "cells": [
  {
   "cell_type": "markdown",
   "id": "d5e3c148",
   "metadata": {},
   "source": [
    "# 선택 정렬\n",
    "\n",
    "Selection Sort   \n",
    "매번 가장 작은 것 혹은 가장 큰 것을 선택한다.   \n",
    "N X (N + 1) / 2 번의 연산을 수행하며   \n",
    "이는 (N<sup>2</sup> + N) / 2 로 표현할 수 있는데,   \n",
    "빅오 표기법으로 O(N<sup>2</sup>)이라고 표현할 수 있다.   \n"
   ]
  },
  {
   "cell_type": "code",
   "execution_count": 2,
   "id": "92222563",
   "metadata": {},
   "outputs": [
    {
     "name": "stdout",
     "output_type": "stream",
     "text": [
      "[0, 1, 2, 3, 4, 5, 6, 7, 8, 9]\n"
     ]
    }
   ],
   "source": [
    "array = [7, 5, 9, 0, 3, 1, 6, 2, 4, 8]\n",
    "\n",
    "for i in range(len(array)):\n",
    "    min_index = i # 가장 작은 원소의 인덱스\n",
    "    for j in range(i + 1, len(array)):\n",
    "        if array[min_index] > array[j]:\n",
    "            min_index = j\n",
    "    array[i], array[min_index] = array[min_index], array[i] # 스와프\n",
    "    \n",
    "print(array)"
   ]
  }
 ],
 "metadata": {
  "kernelspec": {
   "display_name": "Python 3",
   "language": "python",
   "name": "python3"
  },
  "language_info": {
   "codemirror_mode": {
    "name": "ipython",
    "version": 3
   },
   "file_extension": ".py",
   "mimetype": "text/x-python",
   "name": "python",
   "nbconvert_exporter": "python",
   "pygments_lexer": "ipython3",
   "version": "3.8.8"
  }
 },
 "nbformat": 4,
 "nbformat_minor": 5
}
