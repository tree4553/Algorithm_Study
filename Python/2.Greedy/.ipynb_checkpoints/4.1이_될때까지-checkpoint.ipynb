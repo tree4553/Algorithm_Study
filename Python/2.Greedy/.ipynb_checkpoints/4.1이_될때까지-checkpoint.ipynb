{
 "cells": [
  {
   "cell_type": "markdown",
   "id": "7bdc589e",
   "metadata": {},
   "source": [
    "# 2018 E 기업 알고리즘 대회\n",
    "## 1이 될 때까지\n",
    "<br>어떠한 수 N이 1이 될 때까지 다음의 두 과정 중 하나를 반복적으로 선택하여 수행하려고 한다.<br>\n",
    "단, 두 번째 연산은 N이 K로 나누어떨어질 때만 선택할 수 있다.<br>\n",
    "1. N에서 1을 뺀다.<br>\n",
    "2. N을 K로 나눈다.<br>\n",
    "   \n",
    "예를 들어 N이 17, K가 4라고 가정하자.<br>\n",
    "이때 1번의 과정을 한 번 수행하면 N은 16이 된다.<br>\n",
    "이후에 2번의 과정을 두 번 수행하면 N은 1이 된다.<br>\n",
    "결과적으로 이 경우 전체 과정을 실행한 횟수는 3이된다.<br>\n",
    "이는 N을 1로 만드는 최소 횟수이다.<br>\n",
    "N과 K가 주어질 때 N이 1이 될 때까지 1번 혹은 2번의 과정을 수행해야 하는 최소 횟수를 구하는 프로그램을 작성하시오.<br>\n",
    "<br>\n",
    "입력 조건<br>\n",
    "첫째 줄에 N(2 <= N <= 100,000)과 K(2 <= K <= 100,000)가 공백으로 구분되며 각각 자연수로 주어진다.<br>\n",
    "이때 입력으로 주어지는 n은 항상 K보다 크거나 같다.<br>\n",
    "<br>\n",
    "출력 조건<br>\n",
    "첫째 줄에 N이 1이 될 때까지 1번 혹은 2번의 과정을 수행해야 하는 횟수의 최솟값을 출력한다.\n"
   ]
  },
  {
   "cell_type": "code",
   "execution_count": 4,
   "id": "a3099d89",
   "metadata": {},
   "outputs": [
    {
     "name": "stdout",
     "output_type": "stream",
     "text": [
      "25 3\n",
      "6\n"
     ]
    }
   ],
   "source": [
    "# Try\n",
    "n, k = map(int, input().split())\n",
    "count = 0\n",
    "while (n != 1):\n",
    "    if (n % k == 0):\n",
    "        n /= k\n",
    "    else:\n",
    "        n -= 1\n",
    "    count += 1\n",
    "print(count)"
   ]
  },
  {
   "cell_type": "code",
   "execution_count": 6,
   "id": "ba175727",
   "metadata": {},
   "outputs": [
    {
     "name": "stdout",
     "output_type": "stream",
     "text": [
      "25 3\n",
      "6\n"
     ]
    }
   ],
   "source": [
    "# Solution\n",
    "n, k = map(int, input().split())\n",
    "result = 0\n",
    "\n",
    "while True:\n",
    "    # (N == K로 나누어떨어지는 수)가 될 때가지 1씩 빼기\n",
    "    target = (n // k) * k\n",
    "    result += (n - target)\n",
    "    n = target\n",
    "    # N이 K보다 작을 때(더 이상 나눌 수 없을 때) 반복문 탈출\n",
    "    if n < k:\n",
    "        break\n",
    "    # K로 나누기\n",
    "    result += 1\n",
    "    n //= k\n",
    "    \n",
    "# 마지막으로 남은 수에 대하여 1씩 빼기\n",
    "result += (n - 1)\n",
    "print(result)"
   ]
  }
 ],
 "metadata": {
  "kernelspec": {
   "display_name": "Python 3",
   "language": "python",
   "name": "python3"
  },
  "language_info": {
   "codemirror_mode": {
    "name": "ipython",
    "version": 3
   },
   "file_extension": ".py",
   "mimetype": "text/x-python",
   "name": "python",
   "nbconvert_exporter": "python",
   "pygments_lexer": "ipython3",
   "version": "3.8.8"
  }
 },
 "nbformat": 4,
 "nbformat_minor": 5
}
