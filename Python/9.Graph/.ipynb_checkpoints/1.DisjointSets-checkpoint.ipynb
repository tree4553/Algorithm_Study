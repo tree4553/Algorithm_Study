{
 "cells": [
  {
   "cell_type": "markdown",
   "id": "25f568f0",
   "metadata": {},
   "source": [
    "# 서로소 집합\n",
    "\n",
    "공통 원소가 없는 두 집합을 의미한다.  \n",
    "서로소 집합 자료구조란 서로소 부분 집합들로 나누어진 원소들의 데이터를 처리하기 위한 자료구조이다.  \n",
    "서로소 집합 자료구조는 union과 find 이 2개의 연산으로 조작할 수 있다.  \n",
    "union(합집합) 연산은 2개의 원소가 포함된 집합을 하나의 집합으로 합치는 연산이다.  \n",
    "find(찾기) 연산은 특정한 원소가 속한 집합이 어떤 집합인지 알려주는 연산이다.  \n",
    "서로소 집합 자료구조는 union-find 자료구조라고 불리기도 한다.  \n",
    "### 서로소 집합 계산 알고리즘\n",
    "> 1. union 연산을 확인하여, 서로 연결된 두 노드 A, B를 확인한다.\n",
    "    1. A와 B의 루트 노드 A', B'를 각각 찾는다.\n",
    "    2. A'를 B'의 부모 노드로 설정한다(B'가 A'를 가리키도록 한다.).\n",
    "2. 모든 union 연산을 처리할 때까지 1번 과정을 반복한다.\n",
    "\n",
    "A'와 B' 중 더 번호가 작은 원소가 부모 노드가 되도록 구현한다.  \n",
    "  \n",
    "집합 {1, 2, 3, 4, 5, 6}과  \n",
    "- union 1, 4  \n",
    "- union 2, 3\n",
    "- union 2, 4\n",
    "- union 5, 6\n",
    "\n",
    "연산이 있을때 {1, 2, 3, 4} 와 {5, 6}은 서로소 집합 관계이다.  \n",
    "이때 {1, 2, 3, 4}의 부모는 1이고 {5, 6}의 부모는 5이다.  "
   ]
  },
  {
   "cell_type": "code",
   "execution_count": 1,
   "id": "0bc4883c",
   "metadata": {},
   "outputs": [
    {
     "name": "stdout",
     "output_type": "stream",
     "text": [
      "6 4\n",
      "1 4\n",
      "2 3\n",
      "2 4\n",
      "5 6\n",
      "각 원소가 속한 집합: 1 1 1 1 5 5 \n",
      "부모 테이블: 1 1 1 1 5 5 "
     ]
    }
   ],
   "source": [
    "# 서로소 집합 알고리즘\n",
    "# 특정 원소가 속한 집합을 찾기\n",
    "def find_parent(parent, x):\n",
    "    # 루트 노드가 아니라면, 루트 노드를 찾을 때까지 재귀적으로 호출\n",
    "    if parent[x] != x:\n",
    "        parent[x] = find_parent(parent, parent[x])\n",
    "    return parent[x]\n",
    "\n",
    "# 두 원소가 속한 집합을 합치기\n",
    "def union_parent(parent, a, b):\n",
    "    a = find_parent(parent, a)\n",
    "    b = find_parent(parent, b)\n",
    "    if a < b:\n",
    "        parent[b] = a\n",
    "    else:\n",
    "        parent[a] = b\n",
    "        \n",
    "# 노드의 개수와 간선(union 연산)의 개수 입력받기\n",
    "v, e = map(int, input().split())\n",
    "parent = [0] * (v + 1) # 부모 테이블 초기화\n",
    "\n",
    "# 부모 테이블상에서, 부모를 자기 자신으로 초기화\n",
    "for i in range(1, v + 1):\n",
    "    parent[i] = i\n",
    "    \n",
    "# union 연산을 각각 수행\n",
    "for i in range(e):\n",
    "    a, b = map(int, input().split())\n",
    "    union_parent(parent, a, b)\n",
    "    \n",
    "# 각 원소가 속한 집합 출력\n",
    "print('각 원소가 속한 집합: ', end='')\n",
    "for i in range(1, v + 1):\n",
    "    print(find_parent(parent, i), end=' ')\n",
    "    \n",
    "print()\n",
    "\n",
    "# 부모 테이블 내용 출력\n",
    "print('부모 테이블: ', end='')\n",
    "for i in range(1, v + 1):\n",
    "    print(parent[i], end=' ')"
   ]
  }
 ],
 "metadata": {
  "kernelspec": {
   "display_name": "Python 3",
   "language": "python",
   "name": "python3"
  },
  "language_info": {
   "codemirror_mode": {
    "name": "ipython",
    "version": 3
   },
   "file_extension": ".py",
   "mimetype": "text/x-python",
   "name": "python",
   "nbconvert_exporter": "python",
   "pygments_lexer": "ipython3",
   "version": "3.8.8"
  }
 },
 "nbformat": 4,
 "nbformat_minor": 5
}
