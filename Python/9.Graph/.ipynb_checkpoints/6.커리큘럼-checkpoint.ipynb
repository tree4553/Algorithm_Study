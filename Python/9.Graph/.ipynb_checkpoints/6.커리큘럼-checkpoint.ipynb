{
 "cells": [
  {
   "cell_type": "markdown",
   "id": "f2974a44",
   "metadata": {},
   "source": [
    "# 커리큘럼\n",
    "\n",
    "온라인 강의에 선수 강의가 있는 경우 해당 강의를 먼저 들어야 강의를 들을 수 있다.  \n",
    "N개의 강의 정보가 주어졌을 때, N개의 강의에 대하여 수강하기까지 걸리는 최소 시간을 각각 출력하는 프로그램을 작성하시오.  \n",
    "- - -\n",
    "### 입력 조건\n",
    "- 첫재 줄에 듣고자 하는 강의의 수 N(1 <= N <= 500)이 주어진다.\n",
    "- 당므 N개의 줄에는 각 강의의 강의 시간과 그 강의를 듣기 위해 먼저 들어야 하는 강의들의 번호가 자연수로 주어지며, 각 자연수는 공백으로 구분한다.  \n",
    "이때 강의 시간은 100,000 이하의 자연수이다.\n",
    "- 각 강의 번호는 1부터 N까지로 구성되며, 각 줄은 -1로 끝난다.\n",
    "- - -\n",
    "### 출력 조건\n",
    "- N개의 강의에 대하여 수강하기까지 걸리는 최소 시간을 한 줄에 하나씩 출력한다.\n",
    "- - -\n",
    "### 입력 예시\n",
    "5<br>\n",
    "10 -1  \n",
    "10 1 -1  \n",
    "4 1 -1  \n",
    "4 3 1 -1  \n",
    "3 3 -1  \n",
    "- - -\n",
    "### 출력 예시\n",
    "10  \n",
    "20  \n",
    "14  \n",
    "18  \n",
    "17"
   ]
  },
  {
   "cell_type": "code",
   "execution_count": 1,
   "id": "6a1f0773",
   "metadata": {},
   "outputs": [
    {
     "name": "stdout",
     "output_type": "stream",
     "text": [
      "10 -1\n",
      "10 1 -1\n",
      "4 1 -1\n",
      "4 3 1 -1\n",
      "3 3 -1\n",
      "[0, 10, 10, 4, 4, 3]\n",
      "[[], [], [1], [1], [3, 1], [3]]\n"
     ]
    }
   ],
   "source": [
    "# Input\n",
    "n = 5\n",
    "cost = [0] * (n + 1)\n",
    "pre = [[] for _ in range(n + 1)]\n",
    "\n",
    "for i in range(1, n + 1):\n",
    "    values = list(map(int, input().split()))\n",
    "    cost[i] = values[0]\n",
    "    for j in range(1, len(values)):\n",
    "        if values[j] != -1:\n",
    "            pre[i].append(values[j])\n",
    "        else:\n",
    "            break;\n",
    "\n",
    "print(cost)\n",
    "print(pre)"
   ]
  },
  {
   "cell_type": "code",
   "execution_count": 12,
   "id": "6ca69546",
   "metadata": {},
   "outputs": [
    {
     "name": "stdout",
     "output_type": "stream",
     "text": [
      "10\n",
      "20\n",
      "14\n",
      "28\n",
      "17\n"
     ]
    }
   ],
   "source": [
    "# Try\n",
    "from IPython.core.debugger import set_trace\n",
    "\n",
    "def add_pre_cost(n):\n",
    "    if pre[n]:\n",
    "        sum = 0\n",
    "        for a in pre[n]:\n",
    "            sum += cost[a] + add_pre_cost(a)\n",
    "        return sum\n",
    "    else:\n",
    "        return 0\n",
    "            \n",
    "\n",
    "for i in range(1, n + 1):\n",
    "    result = 0\n",
    "    result += add_pre_cost(i) + cost[i]\n",
    "    print(result)\n",
    "# 4번째 입력 항목에 대한 값이 맞지 않다.\n",
    "# 중복된 선수 과목이 존재할때 연산이 중복되어 버린다.\n",
    "# 예시 답안을 보고 공부하고 다음에 다시 풀어보자"
   ]
  },
  {
   "cell_type": "code",
   "execution_count": 13,
   "id": "b59ac52e",
   "metadata": {},
   "outputs": [
    {
     "name": "stdout",
     "output_type": "stream",
     "text": [
      "5\n",
      "10 -1\n",
      "10 1 -1\n",
      "4 1 -1\n",
      "4 3 1 -1\n",
      "3 3 -1\n",
      "10\n",
      "20\n",
      "14\n",
      "18\n",
      "17\n"
     ]
    }
   ],
   "source": [
    "# Solution\n",
    "from collections import deque\n",
    "import copy\n",
    "\n",
    "v = int(input())\n",
    "indegree = [0] * (v + 1)\n",
    "graph = [[] for i in range(v + 1)]\n",
    "time = [0] * (v + 1)\n",
    "\n",
    "for i in range(1, v + 1):\n",
    "    data = list(map(int, input().split()))\n",
    "    time[i] = data[0]\n",
    "    for x in data[1:-1]:\n",
    "        indegree[i] += 1\n",
    "        graph[x].append(i)\n",
    "        \n",
    "def topology_sort():\n",
    "    result = copy.deepcopy(time)\n",
    "    q = deque()\n",
    "    \n",
    "    for i in range(1, v + 1):\n",
    "        if indegree[i] == 0:\n",
    "            q.append(i)\n",
    "            \n",
    "    while q:\n",
    "        now = q.popleft()\n",
    "        for i in graph[now]:\n",
    "            result[i] = max(result[i], result[now] + time[i])\n",
    "            indegree[i] -= 1\n",
    "            if indegree[i] == 0:\n",
    "                q.append(i)\n",
    "                \n",
    "    for i in range(1, v + 1):\n",
    "        print(result[i])\n",
    "        \n",
    "topology_sort()"
   ]
  }
 ],
 "metadata": {
  "kernelspec": {
   "display_name": "Python 3",
   "language": "python",
   "name": "python3"
  },
  "language_info": {
   "codemirror_mode": {
    "name": "ipython",
    "version": 3
   },
   "file_extension": ".py",
   "mimetype": "text/x-python",
   "name": "python",
   "nbconvert_exporter": "python",
   "pygments_lexer": "ipython3",
   "version": "3.8.8"
  }
 },
 "nbformat": 4,
 "nbformat_minor": 5
}
