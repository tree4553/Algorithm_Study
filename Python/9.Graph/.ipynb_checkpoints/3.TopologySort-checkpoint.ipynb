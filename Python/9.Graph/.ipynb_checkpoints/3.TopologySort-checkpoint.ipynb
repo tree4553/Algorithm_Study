{
 "cells": [
  {
   "cell_type": "markdown",
   "id": "7e0d7156",
   "metadata": {},
   "source": [
    "# 위상 정렬\n",
    "\n",
    "정렬 알고리즘의 일종이다.  \n",
    "순서가 정해져 있는 일련의 작업을 차례대로 수행해야 할 때 사용할 수 있는 알고리즘이다.  \n",
    "위상 정렬이란 방향 그래프의 모든 노드를 '방향성에 거스르지 않도록 순서대로 나열하는 것'이다.  \n",
    "  \n",
    "진입차수(Indegree)는 특정한 노드로 '들어오는' 간선의 개수를 의미한다.  \n",
    "위상 정렬 알고리즘은 다음과 같다.\n",
    "> 1. 진입차수가 0인 노드를 큐에 넣는다.\n",
    "2. 큐가 빌 때까지 다음의 과정을 반복한다.\n",
    "    1. 큐에서 원소를 꺼내 해당 노드에서 출발하는 간선을 그래프에서 제거한다.\n",
    "    2. 새롭게 진입차수가 0이 된 노드를 큐에 넣는다.\n",
    "    \n",
    "사이클이 발생하게되면 모든 노드를 방문할 수 없으므로 사이클이 발생하는 경우를 처리해야 한다.  \n",
    "위상 정렬의 시간 복잡도는 O(V+E)이다."
   ]
  },
  {
   "cell_type": "code",
   "execution_count": 2,
   "id": "3c47e971",
   "metadata": {},
   "outputs": [
    {
     "name": "stdout",
     "output_type": "stream",
     "text": [
      "7 8\n",
      "1 2\n",
      "1 5\n",
      "2 3\n",
      "2 6\n",
      "3 4\n",
      "4 7\n",
      "5 6\n",
      "6 4\n",
      "1 2 5 3 6 4 7 "
     ]
    }
   ],
   "source": [
    "# 위상 정렬\n",
    "from collections import deque\n",
    "\n",
    "# 노드의 개수와 간선의 개수를 입력받기\n",
    "v, e = map(int, input().split())\n",
    "# 모든 노드에 대하 진입차수는 0으로 초기화\n",
    "indegree = [0] * (v + 1)\n",
    "# 각 노드에 연결된 간선 정보를 담기 위한 연결 리스트(그래프) 초기화\n",
    "graph = [[] for i in range(v + 1)]\n",
    "\n",
    "# 방향 그래프의 모든 간선 정보를 입력받기\n",
    "for _ in range(e):\n",
    "    a, b = map(int, input().split())\n",
    "    graph[a].append(b) # 정점 A에서 B로 이동 가능\n",
    "    # 진입차수를 1 증가\n",
    "    indegree[b] += 1\n",
    "    \n",
    "# 위상 정렬 함수\n",
    "def topology_sort():\n",
    "    result = []\n",
    "    q = deque()\n",
    "    \n",
    "    # 처음 시작할 때는 진입차수가 0인 노드를 큐에 삽입\n",
    "    for i in range(1, v + 1):\n",
    "        if indegree[i] == 0:\n",
    "            q.append(i)\n",
    "            \n",
    "    # 큐가 빌 때까지 반복\n",
    "    while q:\n",
    "        # 큐에서 원소 꺼내기\n",
    "        now = q.popleft()\n",
    "        result.append(now)\n",
    "        # 해당 원소와 연결된 노드들의 진입차수에서 1 빼기\n",
    "        for i in graph[now]:\n",
    "            indegree[i] -= 1\n",
    "            # 새롭게 진입차수가 0이 되는 노드를 큐에 삽입\n",
    "            if indegree[i] == 0:\n",
    "                q.append(i)\n",
    "                \n",
    "    for i in result:\n",
    "        print(i, end=' ')\n",
    "\n",
    "topology_sort()"
   ]
  }
 ],
 "metadata": {
  "kernelspec": {
   "display_name": "Python 3",
   "language": "python",
   "name": "python3"
  },
  "language_info": {
   "codemirror_mode": {
    "name": "ipython",
    "version": 3
   },
   "file_extension": ".py",
   "mimetype": "text/x-python",
   "name": "python",
   "nbconvert_exporter": "python",
   "pygments_lexer": "ipython3",
   "version": "3.8.8"
  }
 },
 "nbformat": 4,
 "nbformat_minor": 5
}
