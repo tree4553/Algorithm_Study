{
 "cells": [
  {
   "cell_type": "markdown",
   "id": "8aadaada",
   "metadata": {},
   "source": [
    "# 바닥 공사\n",
    "\n",
    "가로의 길이가 N, 세로의 길이가 2인 직사각형 형태의 얇은 바닥이 있다.  \n",
    "바닥을 1 X 2의 덮개, 2 X 1의 덮개, 2 X 2의 덮개를 이용해 채우고자 한다.  \n",
    "이때 바닥을 채우는 모든 경우의 수를 구하는 프로그램을 작성하시오.  \n",
    "예를 들어 2 X 3 크기의 바닥을 채우는 경우의 수는 5가지이다.\n",
    "- - -\n",
    "### 입력 조건\n",
    "- 첫째 줄에 N이 주어진다. (1 <= N <= 1,000)\n",
    "- - -\n",
    "### 출력 조건\n",
    "- 첫째 줄에 2 X N 크기의 바닥을 채우는 방법의 수를 796,796으로 나눈 나머지를 출력한다.\n",
    "- - -\n",
    "### 입력 예시\n",
    "3<br>\n",
    "- - -\n",
    "### 출력 예시\n",
    "5"
   ]
  },
  {
   "cell_type": "code",
   "execution_count": 4,
   "id": "7aa73790",
   "metadata": {},
   "outputs": [
    {
     "name": "stdout",
     "output_type": "stream",
     "text": [
      "10\n",
      "683\n"
     ]
    }
   ],
   "source": [
    "# Try\n",
    "n = int(input())\n",
    "\n",
    "def func(n):\n",
    "    if n == 1:\n",
    "        return 1\n",
    "    if n == 2:\n",
    "        return 3\n",
    "    return func(n-1) + 2 * func(n-2)\n",
    "\n",
    "print(func(n)%796796)\n",
    "# 점화식 구하는데 너무 많은 시간이 들었다\n",
    "# f(n+2) = f(n+1) + 2 * f(n)"
   ]
  },
  {
   "cell_type": "code",
   "execution_count": 5,
   "id": "8203174e",
   "metadata": {},
   "outputs": [
    {
     "name": "stdout",
     "output_type": "stream",
     "text": [
      "10\n",
      "683\n"
     ]
    }
   ],
   "source": [
    "# Solution\n",
    "n = int(input())\n",
    "\n",
    "d = [0] * 1001\n",
    "\n",
    "d[1] = 1\n",
    "d[2] = 3\n",
    "for i in range(3, n + 1):\n",
    "    d[i] = (d[i - 1] + 2 * d[i - 2]) % 796796\n",
    "    \n",
    "print(d[n])"
   ]
  }
 ],
 "metadata": {
  "kernelspec": {
   "display_name": "Python 3",
   "language": "python",
   "name": "python3"
  },
  "language_info": {
   "codemirror_mode": {
    "name": "ipython",
    "version": 3
   },
   "file_extension": ".py",
   "mimetype": "text/x-python",
   "name": "python",
   "nbconvert_exporter": "python",
   "pygments_lexer": "ipython3",
   "version": "3.8.8"
  }
 },
 "nbformat": 4,
 "nbformat_minor": 5
}
