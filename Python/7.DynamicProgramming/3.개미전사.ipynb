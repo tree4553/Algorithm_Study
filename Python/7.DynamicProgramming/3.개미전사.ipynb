{
 "cells": [
  {
   "cell_type": "markdown",
   "id": "720f3279",
   "metadata": {},
   "source": [
    "# 개미 전사\n",
    "\n",
    "개미 전사는 메뚜기 마을의 식량창고를 몰래 공격하려고 한다.  \n",
    "메뚜기 마을에는 여러 개의 식량창고가 있는데 식량창고는 일직선으로 이어져 있다.  \n",
    "각 식량창고에는 정해진 수의 식량을 저장하고 있으며 개미 전사는 식량창고를 선택적으로 약탈하여 식량을 빼앗을 예정이다.  \n",
    "이때 메뚜기 정찰병들은 일직선상에 존재하는 식량창고 중에서 서로 인접한 식량창고가 공격받으면 바로 알아챌 수 있다.  \n",
    "따라서 개미 전사가 정찰병에게 들키지 않고 식량창고를 약탈하기 위해서는 최소한 한 칸 이상 떨어진 식량창고를 약탈해야 한다.  \n",
    "예를 들어 식량창고 4개가 다음과 같이 존재한다고 가정하자.  \n",
    "> {1, 3, 1, 5}\n",
    "\n",
    "이때 개미 전사는 두 번째 식량창고와 네 번째 식량창고를 선택했을 때 최댓값인 총 8개ㅐ의 식량을 빼앗을 수 있다.  \n",
    "개미 전사는 식량창고가 이렇게 일직선상일 때 최대한 많은 식량을 얻기를 원한다.  \n",
    "개미 전사를 위해 식량창고 N개에 대한 정보가 주어졌을 때 얻을 수 있는 식량의 최댓값을 구하는 프로그램을 작성하시오.  \n",
    "- - -\n",
    "### 입력 조건\n",
    "- 첫재 줄에 식량창고의 개수 N이 주어진다. (3 <= N <= 100)\n",
    "- 둘째 줄에 공백으로 구분되어 각 식량창고에 저장된 식량의 개수 K가 주어진다. (0 <= K <= 1,000)\n",
    "- - -\n",
    "### 출력 조건\n",
    "- 첫째 줄에 개미 전사가 얻을 수 있는 식량의 최댓값을 출력하시오.\n",
    "- - -\n",
    "### 입력 예시\n",
    "4<br>\n",
    "1 3 1 5\n",
    "- - -\n",
    "### 출력 예시\n",
    "8"
   ]
  },
  {
   "cell_type": "code",
   "execution_count": 6,
   "id": "47a09e6b",
   "metadata": {},
   "outputs": [
    {
     "name": "stdout",
     "output_type": "stream",
     "text": [
      "4\n",
      "10 2 3 10\n"
     ]
    }
   ],
   "source": [
    "# Input\n",
    "n = int(input())\n",
    "array = list(map(int, input().split()))"
   ]
  },
  {
   "cell_type": "code",
   "execution_count": 10,
   "id": "1733889d",
   "metadata": {},
   "outputs": [],
   "source": [
    "# Input 2\n",
    "n = 4\n",
    "array = [10, 2, 3, 10]"
   ]
  },
  {
   "cell_type": "code",
   "execution_count": 12,
   "id": "f6e95df2",
   "metadata": {},
   "outputs": [
    {
     "name": "stdout",
     "output_type": "stream",
     "text": [
      "20\n"
     ]
    }
   ],
   "source": [
    "# Try\n",
    "'''\n",
    "for i in range(n):\n",
    "    if i + 2 < n:\n",
    "        array[i + 2] += array[i]\n",
    "array.sort()\n",
    "print(array[-1])\n",
    "'''\n",
    "'''\n",
    "맞게 잘 풀었는지 모르겟다\n",
    "예상 결과값과 다른 결과 값이 나오는 예시를 찾아보자\n",
    "10 2 3 10\n",
    "결과 : 13\n",
    "오답이므로 다시 풀어보자\n",
    "'''\n",
    "# 이어진 세개의 값에서 첫째와 셋째의 합과 둘째를 비교해서 가장 큰 값을 저장한다.\n",
    "# array[2] 부터 비교를 할 수 있으므로 \n",
    "array[1] = max(array[0], array[1])\n",
    "for i in range(2, n):\n",
    "    array[i] = max(array[i - 1], array[i - 2] + array[i])\n",
    "\n",
    "print(array[n - 1])"
   ]
  },
  {
   "cell_type": "code",
   "execution_count": 7,
   "id": "3f2b5142",
   "metadata": {},
   "outputs": [
    {
     "name": "stdout",
     "output_type": "stream",
     "text": [
      "20\n"
     ]
    }
   ],
   "source": [
    "# Solution\n",
    "# 앞서 계산된 결과를 저장하기 위한 DP 테이블 초기화\n",
    "d = [0] * 100\n",
    "\n",
    "# 다이나믹 프로그래밍 진행(Bottom-Up)\n",
    "d[0] = array[0]\n",
    "d[1] = max(array[0], array[1])\n",
    "for i in range(2, n):\n",
    "    d[i] = max(d[i-1], d[i-2] + array[i])\n",
    "    \n",
    "print(d[n-1])"
   ]
  }
 ],
 "metadata": {
  "kernelspec": {
   "display_name": "Python 3",
   "language": "python",
   "name": "python3"
  },
  "language_info": {
   "codemirror_mode": {
    "name": "ipython",
    "version": 3
   },
   "file_extension": ".py",
   "mimetype": "text/x-python",
   "name": "python",
   "nbconvert_exporter": "python",
   "pygments_lexer": "ipython3",
   "version": "3.8.8"
  }
 },
 "nbformat": 4,
 "nbformat_minor": 5
}
