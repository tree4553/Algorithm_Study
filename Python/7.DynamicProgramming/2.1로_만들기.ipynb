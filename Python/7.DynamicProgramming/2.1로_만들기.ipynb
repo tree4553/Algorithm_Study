{
 "cells": [
  {
   "cell_type": "markdown",
   "id": "b1165012",
   "metadata": {},
   "source": [
    "# 1로 만들기\n",
    "\n",
    "정수 X가 주어질 때 정수 X에 사용할 수 있는 연산은 다음과 같이 4가지이다.  \n",
    "1. X가 5로 나누어떨어지면, 5로 나눈다.  \n",
    "2. X가 3으로 나누어떨어지면, 3으로 나눈다.  \n",
    "3. X가 2로 나누어떨어지면, 2로 나눈다.  \n",
    "4. X에서 1을 뺀다.  \n",
    "\n",
    "정수 X가 주어졌을 때, 연산 4개를 적절히 사용해서 1을 만들려고 한다.  \n",
    "연산을 사용하는 횟수의 최솟값을 출력하시오.  \n",
    "예를 들어 정수가 26이면 다음과 같이 계산해서 3번의 연산이 최솟값이다.\n",
    "1. 26 - 1 = 25\n",
    "2. 25 / 5 = 5\n",
    "3. 5 / 5 = 1\n",
    "---\n",
    "### 입력 조건\n",
    "- 첫째 줄에 정수 X가 주어진다. (1 <= X <= 30,000)  \n",
    "---\n",
    "### 출력 조건\n",
    "- 첫째 줄에 연산을 하는 횟수의 최솟값을 출력한다.\n",
    "---\n",
    "### 입력 예시\n",
    "26  \n",
    "\n",
    "---\n",
    "### 출력 예시\n",
    "3"
   ]
  },
  {
   "cell_type": "code",
   "execution_count": 13,
   "id": "5f10dbfc",
   "metadata": {},
   "outputs": [
    {
     "name": "stdout",
     "output_type": "stream",
     "text": [
      "100\n",
      "4\n",
      "5.804840564727783\n"
     ]
    }
   ],
   "source": [
    "# Try\n",
    "from IPython.core.debugger import set_trace\n",
    "import time\n",
    "\n",
    "x = int(input())\n",
    "array = []\n",
    "def func(target, n):\n",
    "    if target == 1:\n",
    "        return n\n",
    "    n += 1\n",
    "    #set_trace()\n",
    "    if target % 5 == 0:\n",
    "        array.append(func(target / 5, n))\n",
    "    if target % 3 == 0:\n",
    "        array.append(func(target / 3, n))\n",
    "    if target % 2 == 0:\n",
    "        array.append(func(target / 2, n))\n",
    "    array.append(func(target - 1, n))\n",
    "    \n",
    "    array.sort()\n",
    "    return array[0]\n",
    "\n",
    "start = time.time()\n",
    "print(func(x, 0))\n",
    "print(time.time() - start)\n",
    "# 메모리제이션을 쓰고 싶었는데 적용하지 못했다."
   ]
  },
  {
   "cell_type": "code",
   "execution_count": 15,
   "id": "3ee8d61c",
   "metadata": {},
   "outputs": [
    {
     "name": "stdout",
     "output_type": "stream",
     "text": [
      "100\n",
      "4\n",
      "0.0009970664978027344\n"
     ]
    }
   ],
   "source": [
    "# Solution\n",
    "import time\n",
    "\n",
    "x = int(input())\n",
    "\n",
    "# 앞서 계산된 결과를 저장하기 위한 DP 테이블 초기화\n",
    "d = [0] * 30001\n",
    "\n",
    "# 다이나믹 프로그래밍 진행(Bottom-Up)\n",
    "for i in range(2, x + 1):\n",
    "    # 현재의 수에서 1을 빼는 경우\n",
    "    d[i] = d[i - 1] + 1\n",
    "    # 현재의 수가 2로 나누어 떨어지는 경우\n",
    "    if i % 2 == 0:\n",
    "        d[i] = min(d[i], d[i // 2] + 1)\n",
    "    # 현재의 수가 3로 나누어 떨어지는 경우\n",
    "    if i % 3 == 0:\n",
    "        d[i] = min(d[i], d[i // 3] + 1)\n",
    "    # 현재의 수가 5로 나누어 떨어지는 경우\n",
    "    if i % 5 == 0:\n",
    "        d[i] = min(d[i], d[i // 5] + 1)\n",
    "\n",
    "start = time.time()\n",
    "print(d[x])\n",
    "print(time.time() - start)"
   ]
  }
 ],
 "metadata": {
  "kernelspec": {
   "display_name": "Python 3",
   "language": "python",
   "name": "python3"
  },
  "language_info": {
   "codemirror_mode": {
    "name": "ipython",
    "version": 3
   },
   "file_extension": ".py",
   "mimetype": "text/x-python",
   "name": "python",
   "nbconvert_exporter": "python",
   "pygments_lexer": "ipython3",
   "version": "3.8.8"
  }
 },
 "nbformat": 4,
 "nbformat_minor": 5
}
