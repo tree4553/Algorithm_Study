{
 "cells": [
  {
   "cell_type": "markdown",
   "id": "023ef476",
   "metadata": {},
   "source": [
    "# 다이나믹 프로그래밍\n",
    "\n",
    "다이나믹 프로그래밍(Dynamic Programming)은 다음 조건을 만족할 때 사용할 수 있다.   \n",
    "> 1. 큰 문제를 작은 문제로 나눌 수 있다.\n",
    "2. 작은 문제에서 구한 정답은 그것을 포함하는 큰 문제에서도 동일하다.\n",
    "\n",
    "피보나치 수열은 이러한 조건을 만족하는 대표 문제이다.   \n",
    "이 문제를 메모이제이션(Memoization) 기법을 사용하여 해결할 수 있다.   \n",
    "메모이제이션은 다이나믹 프로그래밍을 구현하는 방법 중 한 종류로,   \n",
    "한 번 구한 결과를 메모리 공간에 메모해두고 같은 식을 다시 호출하면   \n",
    "메모한 결과를 그대로 가져오는 기법을 의미한다.   \n",
    "메모이제이션은 값을 저장하는 방법이므로 캐싱(Cashing)이라고도 한다."
   ]
  },
  {
   "cell_type": "code",
   "execution_count": 11,
   "id": "99f54f54",
   "metadata": {},
   "outputs": [
    {
     "name": "stdout",
     "output_type": "stream",
     "text": [
      "9227465\n",
      "실행 시간 : 3.717489719390869\n"
     ]
    }
   ],
   "source": [
    "# 피보나치 함수(Fibonacci Function)를 재귀 함수로 구현\n",
    "import time\n",
    "\n",
    "def fibo(x):\n",
    "    if x == 1 or x == 2:\n",
    "        return 1\n",
    "    return fibo(x - 1) + fibo(x - 2)\n",
    "\n",
    "start = time.time()\n",
    "print(fibo(35))\n",
    "print(\"실행 시간 :\", time.time() - start)"
   ]
  },
  {
   "cell_type": "code",
   "execution_count": 22,
   "id": "85341eba",
   "metadata": {},
   "outputs": [
    {
     "name": "stdout",
     "output_type": "stream",
     "text": [
      "218922995834555169026\n",
      "실행 시간 : 0.0009951591491699219\n"
     ]
    }
   ],
   "source": [
    "# 피보나치 수열 소스코드(재귀적)\n",
    "import time\n",
    "\n",
    "# 한 번 계산된 결과를 메모이제이션하기 위한 리스트 초기화\n",
    "d = [0] * 100\n",
    "\n",
    "# 피보나치 함수를 재귀함수로 구현(Top-Down 다이나믹 프로그래밍)\n",
    "def fibo(x):\n",
    "    # 종료 조건(1 혹은 2일 때 1을 반환)\n",
    "    if x == 1 or x == 2:\n",
    "        return 1\n",
    "    # 이미 계산한 적 있는 문제라면 그대로 반환\n",
    "    if d[x] != 0:\n",
    "        return d[x]\n",
    "    # 아직 계산하지 않은 문제라면 점화식에 따라서 피보나치 결과 반환\n",
    "    d[x] = fibo(x - 1) + fibo(x - 2)\n",
    "    return d[x]\n",
    "\n",
    "start = time.time()\n",
    "print(fibo(99))\n",
    "print(\"실행 시간 :\", time.time() - start)"
   ]
  },
  {
   "cell_type": "code",
   "execution_count": 24,
   "id": "b590eccc",
   "metadata": {},
   "outputs": [
    {
     "name": "stdout",
     "output_type": "stream",
     "text": [
      "218922995834555169026\n",
      "실행 시간 : 0.0009980201721191406\n"
     ]
    }
   ],
   "source": [
    "# 피보나치 수열 소스코드(반복적)\n",
    "import time\n",
    "\n",
    "# 한 번 계산된 결과를 메모이제이션하기 위한 리스트 쵝화\n",
    "d = [0] * 100\n",
    "\n",
    "# 첫 번째 피보나치 수와 두 번재 피보나치 수는 1\n",
    "d[1] = 1\n",
    "d[2] = 1\n",
    "n = 99\n",
    "\n",
    "start = time.time()\n",
    "\n",
    "# 피보나치 함수 반복문으로 구현(Bottom-Up 다이나믹 프로그래밍)\n",
    "for i in range(3, n + 1):\n",
    "    d[i] = d[i - 1] + d[i - 2]\n",
    "    \n",
    "print(d[n])\n",
    "print(\"실행 시간 :\", time.time() - start)"
   ]
  }
 ],
 "metadata": {
  "kernelspec": {
   "display_name": "Python 3",
   "language": "python",
   "name": "python3"
  },
  "language_info": {
   "codemirror_mode": {
    "name": "ipython",
    "version": 3
   },
   "file_extension": ".py",
   "mimetype": "text/x-python",
   "name": "python",
   "nbconvert_exporter": "python",
   "pygments_lexer": "ipython3",
   "version": "3.8.8"
  }
 },
 "nbformat": 4,
 "nbformat_minor": 5
}
