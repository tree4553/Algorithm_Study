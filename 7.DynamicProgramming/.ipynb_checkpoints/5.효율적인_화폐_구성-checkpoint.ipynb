{
 "cells": [
  {
   "cell_type": "markdown",
   "id": "03be55d4",
   "metadata": {},
   "source": [
    "# 효율적인 화폐 구성\n",
    "\n",
    "N가지 종류의 화폐가 있다.  \n",
    "이 화폐들의 개수를 최소한으로 이용해서 그 가치의 합이 M원이 되도록 하려고 한다.  \n",
    "이때 각 화폐는 몇 개라도 샤용할 수 있으며, 사용한 화폐의 구성은 같지만 순서만 다른 것은 같은 경우로 구분한다.  \n",
    "예를 들어 2원, 3월 단위의 화폐가 있을 때는 15원을 만들기 위해 3원을 5개 사용하는 것이 가장 최소한의 화폐 개수이다.  \n",
    "- - -\n",
    "### 입력 조건\n",
    "- 첫째 줄에 N,M이 주어진다. (1 <= N <= 100, 1<= M <= 10,000)\n",
    "- 이후 N개의 줄에는 각 화폐의 가치가 주어진다. 화폐 가치는 10,000보다 작거나 같은 자연수이다.\n",
    "- - -\n",
    "### 출력 조건\n",
    "- 첫째 줄에 M원을 만들기 위한 최소한의 화폐 개수를 출력한다.\n",
    "- 불가능할 때는 -1을 출력한다.\n",
    "- - -\n",
    "### 입력 예시 1\n",
    "2 15  \n",
    "2<br>\n",
    "3  \n",
    "### 입력 예시 2\n",
    "3 4   \n",
    "3<br>\n",
    "5<br>\n",
    "7  \n",
    "- - -\n",
    "### 출력 예시 1\n",
    "5\n",
    "### 출력 예시 2\n",
    "-1"
   ]
  },
  {
   "cell_type": "code",
   "execution_count": 1,
   "id": "b25cc60c",
   "metadata": {},
   "outputs": [],
   "source": [
    "# Input 1\n",
    "n, m = 2, 15\n",
    "array = [2, 3]"
   ]
  },
  {
   "cell_type": "code",
   "execution_count": null,
   "id": "d9310680",
   "metadata": {},
   "outputs": [],
   "source": [
    "# Input 2\n",
    "n, m = 3, 4\n",
    "array = [3, 5, 7]"
   ]
  },
  {
   "cell_type": "code",
   "execution_count": null,
   "id": "c80c45ae",
   "metadata": {},
   "outputs": [],
   "source": [
    "# Try\n",
    "d = [0] * 10001\n"
   ]
  }
 ],
 "metadata": {
  "kernelspec": {
   "display_name": "Python 3",
   "language": "python",
   "name": "python3"
  },
  "language_info": {
   "codemirror_mode": {
    "name": "ipython",
    "version": 3
   },
   "file_extension": ".py",
   "mimetype": "text/x-python",
   "name": "python",
   "nbconvert_exporter": "python",
   "pygments_lexer": "ipython3",
   "version": "3.8.8"
  }
 },
 "nbformat": 4,
 "nbformat_minor": 5
}
