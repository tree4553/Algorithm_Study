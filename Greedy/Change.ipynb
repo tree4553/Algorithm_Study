{
 "cells": [
  {
   "cell_type": "markdown",
   "id": "2d541108",
   "metadata": {},
   "source": [
    "# 그리디 Greedy 알고리즘\n",
    "\n",
    "## 현재 상황에서 지금 당장 좋은 것만 고르는 방법\n",
    "\n",
    "예제 거스름돈\n",
    "당신은 음식점의 계산을 도와주는 점원이다. 카운터에는 거스름돈으로 사용할 500원, 100원, 50원, 10원짜리 동전이 무한히 존재한다고 가정한다.\n",
    "손님에게 거슬러 줘야 할 돈이 N원일 때 거슬러 줘야 할 동전의 최소 개수를 구하라. 단 거슬러 줘야 할 돈 N은 항상 10의 배수이다."
   ]
  },
  {
   "cell_type": "code",
   "execution_count": 2,
   "id": "54b820e3",
   "metadata": {},
   "outputs": [
    {
     "name": "stdout",
     "output_type": "stream",
     "text": [
      "6\n"
     ]
    }
   ],
   "source": [
    "# Try\n",
    "n = 1260\n",
    "count = 0\n",
    "\n",
    "count += n // 500\n",
    "n %= 500\n",
    "\n",
    "count += n // 100\n",
    "n %= 100\n",
    "\n",
    "count += n // 50\n",
    "n %= 50\n",
    "\n",
    "count += n //10\n",
    "\n",
    "print(count)"
   ]
  },
  {
   "cell_type": "code",
   "execution_count": null,
   "id": "dd43da71",
   "metadata": {},
   "outputs": [],
   "source": [
    "# Book\n"
   ]
  }
 ],
 "metadata": {
  "kernelspec": {
   "display_name": "Python 3",
   "language": "python",
   "name": "python3"
  },
  "language_info": {
   "codemirror_mode": {
    "name": "ipython",
    "version": 3
   },
   "file_extension": ".py",
   "mimetype": "text/x-python",
   "name": "python",
   "nbconvert_exporter": "python",
   "pygments_lexer": "ipython3",
   "version": "3.8.8"
  }
 },
 "nbformat": 4,
 "nbformat_minor": 5
}
