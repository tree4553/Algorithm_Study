{
 "cells": [
  {
   "cell_type": "markdown",
   "id": "6d4ecfe0",
   "metadata": {},
   "source": [
    "# 팀 결성\n",
    "\n",
    "학교에서 학생들에게 0번부터 N번까지의 번호를 부여했다.  \n",
    "청므에는 모든 학생이 서로 다른 팀으로 구분되어,  \n",
    "총 N + 1개의 팀이 존재한다.  \n",
    "이때 선생님은 '팀 합치기'연산과 '같은 팀 여부 확인'연산을 사용할 수 있다.\n",
    "> 1. '팀 합치기' 연산은 두 팀을 합치는 연산이다.\n",
    "2. '같은 팀 여부 확인' 연산은 특정한 두 학생이 같은 팀에 속하는지를 확인하는 연산이다.\n",
    "\n",
    "선생님이 M개의 연산을 수행할 수 있을 때 '같은 팀 여부 확인' 연산에 대한 연산 결과를 출력하는 프로그램을 작성하시오.\n",
    "- - -\n",
    "### 입력 조건\n",
    "- 첫째 줄에 N, M이 주어진다.  \n",
    "M은 입력으로 주어지는 연산의 개수이다. (1 <= N, M <= 100,000)  \n",
    "- 다음 M개의 줄에는 각각의 연산이 주어진다.\n",
    "- '팀 합치기' 연산은 0 a b 형태로 주어진다.  \n",
    "이는 a번 학생과 b번 학생이 같은 팀에 속해 있는지를 확인하는 연산이다.\n",
    "- '같은 팀 여부 확인'연산은 1 a b 형태로 주어진다. 이는 a번 학생과 b번 학생이 같은 팀에 속해 있는지를 확인하는 연산이다.\n",
    "- a와 b는 N 이하의 양의 정수이다.\n",
    "- - -\n",
    "### 출력 조건\n",
    "- '같은 팀 여부 확인' 연산에 대하여 한 줄에 하나씩 YES 혹은 NO로 결과를 출력한다.\n",
    "- - -\n",
    "### 입력 예시\n",
    "7 8<br>\n",
    "0 1 3<br>\n",
    "1 1 7<br>\n",
    "0 7 6<br>\n",
    "1 7 1<br>\n",
    "0 3 7<br>\n",
    "0 4 2<br>\n",
    "0 1 1<br>\n",
    "1 1 1\n",
    "- - -\n",
    "### 출력 예시\n",
    "NO<br>\n",
    "NO<br>\n",
    "YES"
   ]
  },
  {
   "cell_type": "code",
   "execution_count": 13,
   "id": "3b789bf5",
   "metadata": {},
   "outputs": [],
   "source": [
    "# Input\n",
    "n, m = 7, 8\n",
    "input = [[0,1,3], [1,1,7], [0,7,6], [1,7,1], [0,3,7], [0,4,2], [0,1,1], [1,1,1]]"
   ]
  },
  {
   "cell_type": "code",
   "execution_count": 8,
   "id": "faf532ee",
   "metadata": {},
   "outputs": [
    {
     "name": "stdout",
     "output_type": "stream",
     "text": [
      "NO\n",
      "NO\n",
      "YES\n"
     ]
    }
   ],
   "source": [
    "# Try\n",
    "parent = [0] * (n + 1)\n",
    "for i in range(1, n + 1):\n",
    "    parent[i] = i\n",
    "\n",
    "cycle = False\n",
    "    \n",
    "def find_parent(n):\n",
    "    if parent[n] != n:\n",
    "        parent[n] = find_parent(parent[n])\n",
    "    return parent[n]\n",
    "\n",
    "def union(a, b):\n",
    "    if parent[a] > parent[b]: # a의 부모가 b의 부모보다 클 때\n",
    "        parent[a] = parent[b] # a의 부모를 b의 부모로 만든다.\n",
    "    else: # a의 부모가 b의 부모보다 작거나 같을대\n",
    "        parent[b] = parent[a] # b의 부모를 a의 부모로 만든다.\n",
    "        \n",
    "for order in input:\n",
    "    if order[0] == 0: # 0 명령 : 팀 합치기\n",
    "        if find_parent(order[1]) != find_parent(order[2]):\n",
    "            union(order[1], order[2])\n",
    "    else: # 1 명령 : 같은 팀 여부 확인\n",
    "        if parent[order[1]] == parent[order[2]]:\n",
    "            print('YES')\n",
    "        else:\n",
    "            print('NO')"
   ]
  },
  {
   "cell_type": "code",
   "execution_count": 15,
   "id": "4a211bb3",
   "metadata": {},
   "outputs": [
    {
     "name": "stdout",
     "output_type": "stream",
     "text": [
      "NO\n",
      "NO\n",
      "YES\n"
     ]
    }
   ],
   "source": [
    "# Solution\n",
    "def find_parent(parent, x):\n",
    "    if parent[x] != x:\n",
    "        parent[x] = find_parent(parent, parent[x])\n",
    "    return parent[x]\n",
    "\n",
    "def union_parent(parent, a, b):\n",
    "    a = find_parent(parent, a)\n",
    "    b = find_parent(parent, b)\n",
    "    if a < b:\n",
    "        parent[b] = a\n",
    "    else:\n",
    "        parent[a] = b\n",
    "\n",
    "parent = [0] * (n + 1)\n",
    "for i in range(0, n + 1):\n",
    "    parent[i] = i\n",
    "        \n",
    "for order in input:\n",
    "    if order[0] == 0:\n",
    "        union_parent(parent, order[1], order[2])\n",
    "    elif order[0] == 1:\n",
    "        if find_parent(parent, order[1]) == find_parent(parent, order[2]):\n",
    "            print('YES')\n",
    "        else:\n",
    "            print('NO')"
   ]
  }
 ],
 "metadata": {
  "kernelspec": {
   "display_name": "Python 3",
   "language": "python",
   "name": "python3"
  },
  "language_info": {
   "codemirror_mode": {
    "name": "ipython",
    "version": 3
   },
   "file_extension": ".py",
   "mimetype": "text/x-python",
   "name": "python",
   "nbconvert_exporter": "python",
   "pygments_lexer": "ipython3",
   "version": "3.8.8"
  }
 },
 "nbformat": 4,
 "nbformat_minor": 5
}
