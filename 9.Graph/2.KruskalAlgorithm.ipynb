{
 "cells": [
  {
   "cell_type": "markdown",
   "id": "2c4fe48c",
   "metadata": {},
   "source": [
    "# 크루스칼 알고리즘\n",
    "\n",
    "그리디 알고리즘의 하나로, 가장 적은 비용으로 모든 노드를 연결할 수 있다.  \n",
    "크루스칼 알고리즘 동작 순서\n",
    "> 1. 간선 데이터를 비용에 따라 오름차순으로 정렬한다.\n",
    "2. 간선을 하나씩 확인하며 현재의 간선이 사이클을 발생시키는지 확인한다.\n",
    "    1. 사이클이 발생하지 않는 경우 최소 신장 트리에 포함시킨다.\n",
    "    2. 사이클이 바생하는 경우 최소 신장 트리에 포함시키지 않는다.\n",
    "3. 모든 간선에 대하여 2번의 과정을 반복한다.\n",
    "    \n",
    "크루스칼 알고리즘은 간선의 개수가 E개일 때, O(ElogE)의 시간 복잡도를 가진다."
   ]
  },
  {
   "cell_type": "code",
   "execution_count": 3,
   "id": "dc2f5c39",
   "metadata": {},
   "outputs": [
    {
     "name": "stdout",
     "output_type": "stream",
     "text": [
      "7 9\n",
      "1 2 29\n",
      "1 5 75\n",
      "2 3 35\n",
      "2 6 34\n",
      "3 4 7\n",
      "4 6 23\n",
      "4 7 13\n",
      "5 6 53\n",
      "6 7 25\n",
      "159\n"
     ]
    }
   ],
   "source": [
    "# 크루스칼 알고리즘\n",
    "# 특정 원소가 속한 집합을 찾기\n",
    "def find_parent(parent, x):\n",
    "    # 루트 노드가 아니라면, 루트 노드를 찾을 때까지 재귀적으로 호출\n",
    "    if parent[x] != x:\n",
    "        parent[x] = find_parent(parent, parent[x])\n",
    "    return parent[x]\n",
    "\n",
    "# 두 원소가 속한 집합을 합치기\n",
    "def union_parent(parent, a, b):\n",
    "    a = find_parent(parent, a)\n",
    "    b = find_parent(parent, b)\n",
    "    if a < b:\n",
    "        parent[b] = a\n",
    "    else:\n",
    "        parent[a] = b\n",
    "\n",
    "# 노드의 개수와 간선의 개수 입력받기\n",
    "v, e = map(int, input().split())\n",
    "parent = [0] * (v + 1) # 부모 테이블 초기화\n",
    "\n",
    "# 모든 간선을 담을 리스트와 최종 비용을 담을 변수\n",
    "edges = []\n",
    "result = 0\n",
    "\n",
    "# 부모 테이블상에서, 부모를 자기 자신으로 초기화\n",
    "for i in range(1, v + 1):\n",
    "    parent[i] = i\n",
    "    \n",
    "# 모든 간선에 대한 정보를 입력받기\n",
    "for _ in range(e):\n",
    "    a, b, cost = map(int, input().split())\n",
    "    # 비용순으로 정렬하기 위해서 튜플의 첫 번째 원소를 비용으로 설정\n",
    "    edges.append((cost, a, b))\n",
    "    \n",
    "# 간선을 비용순으로 정렬\n",
    "edges.sort()\n",
    "\n",
    "# 간선을 하나씩 확인하며\n",
    "for edge in edges:\n",
    "    cost, a, b = edge\n",
    "    # 사이클이 발생하지 않는 경우에만 집합에 포함\n",
    "    if find_parent(parent, a) != find_parent(parent, b):\n",
    "        union_parent(parent, a, b)\n",
    "        result += cost\n",
    "        \n",
    "print(result)"
   ]
  }
 ],
 "metadata": {
  "kernelspec": {
   "display_name": "Python 3",
   "language": "python",
   "name": "python3"
  },
  "language_info": {
   "codemirror_mode": {
    "name": "ipython",
    "version": 3
   },
   "file_extension": ".py",
   "mimetype": "text/x-python",
   "name": "python",
   "nbconvert_exporter": "python",
   "pygments_lexer": "ipython3",
   "version": "3.8.8"
  }
 },
 "nbformat": 4,
 "nbformat_minor": 5
}
