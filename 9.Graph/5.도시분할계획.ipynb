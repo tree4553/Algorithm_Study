{
 "cells": [
  {
   "cell_type": "markdown",
   "id": "6bdc3e41",
   "metadata": {},
   "source": [
    "# 도시 분할 계획\n",
    "\n",
    "마을은 N개의 집과 그 집들을 연결하는 M개의 길로 이루어져 있다.  \n",
    "길은 양방향으로 다닐수 있고, 길을 유지하는데 드는 유지비가 있다.  \n",
    "마을을 2개의 분리된 마을로 분할하려할때 각 분리된 마을 안에 집들이 서로 연결되도록 분할해야 한다.  \n",
    "각 분리된 마을 안에 있는 임의의 두 집 사이에 경로가 항상 존재해야 한다는 뜻이다.  \n",
    "마을에는 집이 하나 이상 있어야 한다.  \n",
    "위의 조건을 만족하여 길의 유지비 합의 최소를 구하여라.  \n",
    "- - -\n",
    "### 입력 조건\n",
    "- 첫째 줄에 집의 개수 N, 길의 개수 M이 주어진다.  \n",
    "N은 2 이상 100,000 이하인 정수이고, M은 1 이상, 1,000,000 이하인 정수이다.\n",
    "- 그다음 줄부터 M줄에 걸쳐 길의 정보가 A,B,C 3개의 정수로 공백으로 구분되어 주어지는데 A번 집과 B번 집을 연결하는 길의 유지비가 C(1 <= C 1,000)라는 뜻이다.\n",
    "- - -\n",
    "### 출력 조건\n",
    "- 첫째 줄에 길을 없애고 남은 유지비 합의 최솟값을 출력한다.\n",
    "- - -\n",
    "### 입력 예시\n",
    "7 12<br>\n",
    "1 2 3<br>\n",
    "1 3 2<br>\n",
    "3 2 1<br>\n",
    "2 5 2<br>\n",
    "3 4 4<br>\n",
    "7 3 6<br>\n",
    "5 1 5<br>\n",
    "1 6 2<br>\n",
    "6 4 1<br>\n",
    "6 5 3<br>\n",
    "4 5 3<br>\n",
    "6 7 4<br>\n",
    "- - -\n",
    "### 출력 예시\n",
    "8"
   ]
  },
  {
   "cell_type": "code",
   "execution_count": 14,
   "id": "356552f2",
   "metadata": {},
   "outputs": [],
   "source": [
    "# Input\n",
    "n, m = 7, 12\n",
    "input = [[1,2,3],[1,3,2],[3,2,1],[2,5,2],[3,4,4],[7,3,6],[5,1,5],[1,6,2],[6,4,1],[6,5,3],[4,5,3],[6,7,4]]"
   ]
  },
  {
   "cell_type": "code",
   "execution_count": 24,
   "id": "fee7e951",
   "metadata": {},
   "outputs": [
    {
     "name": "stdout",
     "output_type": "stream",
     "text": [
      "8\n"
     ]
    }
   ],
   "source": [
    "# Try\n",
    "def find_parent(parent, a):\n",
    "    if parent[a] != a:\n",
    "        parent[a] = find_parent(parent, parent[a])\n",
    "    return parent[a]\n",
    "\n",
    "def union(parent, a, b):\n",
    "    a = find_parent(parent, a)\n",
    "    b = find_parent(parent, b)\n",
    "    if a > b:\n",
    "        parent[a] = b\n",
    "    else:\n",
    "        parent[b] = a\n",
    "\n",
    "result = 0\n",
    "last = 0\n",
    "graph = []\n",
    "parent = [0] * (n + 1)\n",
    "for i in range(1, n + 1):\n",
    "    parent[i] = i\n",
    "\n",
    "for edge in input:\n",
    "    start, end, cost = edge\n",
    "    graph.append((cost, start, end))\n",
    "\n",
    "graph.sort()\n",
    "\n",
    "for edge in graph:\n",
    "    cost, start, end = edge\n",
    "    if find_parent(parent, start) != find_parent(parent, end):\n",
    "        union(parent, start, end)\n",
    "        result += cost\n",
    "        last = cost\n",
    "\n",
    "print(result - last)"
   ]
  }
 ],
 "metadata": {
  "kernelspec": {
   "display_name": "Python 3",
   "language": "python",
   "name": "python3"
  },
  "language_info": {
   "codemirror_mode": {
    "name": "ipython",
    "version": 3
   },
   "file_extension": ".py",
   "mimetype": "text/x-python",
   "name": "python",
   "nbconvert_exporter": "python",
   "pygments_lexer": "ipython3",
   "version": "3.8.8"
  }
 },
 "nbformat": 4,
 "nbformat_minor": 5
}
