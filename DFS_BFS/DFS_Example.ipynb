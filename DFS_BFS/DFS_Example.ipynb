{
 "cells": [
  {
   "cell_type": "markdown",
   "id": "731a8fb2",
   "metadata": {},
   "source": [
    "# DFS\n",
    "\n",
    "깊이 우선 탐색(Depth First Search)   \n",
    "스택 자료구조를 이용하며 동작 과정은 다음과 같다.   \n",
    "> 1. 탐색 시작 노드를 스택에 삽입하고 방문 처리를 한다.\n",
    "2. 스택의 최상단 노드에 방문하지 않은 인접 노드가 있으면 그 인접 노드를 스택에 넣고 방문 처리를 한다.   \n",
    "방문하지 않은 인접 노드가 없으면 스택에서 최상단 노드를 꺼낸다.   \n",
    "3. 2번의 과정을 더 이상 수행할 수 없을 때까지 반복한다.   \n",
    "\n",
    "그래프의 가장 깊은 곳가지 확인(탐색)하며 동작하는 탐색 방식이다."
   ]
  },
  {
   "cell_type": "code",
   "execution_count": 25,
   "id": "c7e01675",
   "metadata": {},
   "outputs": [],
   "source": [
    "# 각 노드가 연결된 정보를 리스트 자료형으로 표현(2차원 리스트)\n",
    "graph = [\n",
    "    [],\n",
    "    [2, 3, 8],\n",
    "    [1, 7],\n",
    "    [1, 4, 5],\n",
    "    [3, 5],\n",
    "    [3, 4],\n",
    "    [7],\n",
    "    [2, 6, 8],\n",
    "    [1, 7]\n",
    "]"
   ]
  },
  {
   "cell_type": "markdown",
   "id": "690ec0cf",
   "metadata": {},
   "source": [
    "![](./DFS_Example_Graph.jpg)"
   ]
  },
  {
   "cell_type": "code",
   "execution_count": 27,
   "id": "163adb0a",
   "metadata": {},
   "outputs": [],
   "source": [
    "# DFS 메서드 정의\n",
    "def dfs(graph, v, visited):\n",
    "    # 현재 노드를 방문 처리\n",
    "    #set_trace()\n",
    "    visited[v] = True\n",
    "    print(v, end=' ')\n",
    "    # 현재 노드와 연결된 다른 노드를 재귀적으로 방문\n",
    "    for i in graph[v]:\n",
    "        if not visited[i]:\n",
    "            dfs(graph, i, visited)"
   ]
  },
  {
   "cell_type": "code",
   "execution_count": 28,
   "id": "8e604197",
   "metadata": {
    "scrolled": true
   },
   "outputs": [
    {
     "name": "stdout",
     "output_type": "stream",
     "text": [
      "1 2 7 6 8 3 4 5 "
     ]
    }
   ],
   "source": [
    "from IPython.core.debugger import set_trace\n",
    "\n",
    "# 각 노드가 방문된 정보를 리스트 자료형으로 표현(1차원 리스트)\n",
    "visited = [False] * 9\n",
    "\n",
    "# 정의된 DFS 함수 호출\n",
    "dfs(graph, 1, visited)"
   ]
  }
 ],
 "metadata": {
  "kernelspec": {
   "display_name": "Python 3",
   "language": "python",
   "name": "python3"
  },
  "language_info": {
   "codemirror_mode": {
    "name": "ipython",
    "version": 3
   },
   "file_extension": ".py",
   "mimetype": "text/x-python",
   "name": "python",
   "nbconvert_exporter": "python",
   "pygments_lexer": "ipython3",
   "version": "3.8.8"
  }
 },
 "nbformat": 4,
 "nbformat_minor": 5
}
