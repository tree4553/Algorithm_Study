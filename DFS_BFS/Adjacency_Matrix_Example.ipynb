{
 "cells": [
  {
   "cell_type": "code",
   "execution_count": 4,
   "id": "405962ab",
   "metadata": {},
   "outputs": [
    {
     "name": "stdout",
     "output_type": "stream",
     "text": [
      "[0, 7, 5]\n",
      "[7, 0, 987654321]\n",
      "[5, 987654321, 0]\n"
     ]
    },
    {
     "data": {
      "text/plain": [
       "'\\n0, 1, 2 노드의 연결 여부와 간선의 비용을 나타낼수 있다.\\n0 과 1은 7의 비용으로 연결되어 있고\\n0 과 2는 5의 비용으로 연결되어 있다.\\n1 과 0은 7의 비용으로 연결되어 있고\\n1 과 2는 연결되어 있지 않고, 이를 INF로 표현한다.\\n'"
      ]
     },
     "execution_count": 4,
     "metadata": {},
     "output_type": "execute_result"
    }
   ],
   "source": [
    "# 인접 행렬(Adjacency Matrix) : 2차원 배열로 그래프의 연결 관계를 표현하는 방식\n",
    "\n",
    "INF = 987654321 # 무한의 비용 선언\n",
    "\n",
    "# 2차원 리스트를 이용해 인접 행렬 표현\n",
    "graph = [\n",
    "    [0, 7, 5],\n",
    "    [7, 0, INF],\n",
    "    [5, INF, 0]\n",
    "]\n",
    "\n",
    "for i in range(len(graph)):\n",
    "    print(graph[i])\n",
    "'''\n",
    "0, 1, 2 노드의 연결 여부와 간선의 비용을 나타낼수 있다.\n",
    "0 과 1은 7의 비용으로 연결되어 있고\n",
    "0 과 2는 5의 비용으로 연결되어 있다.\n",
    "1 과 0은 7의 비용으로 연결되어 있고\n",
    "1 과 2는 연결되어 있지 않고, 이를 INF로 표현한다.\n",
    "'''"
   ]
  }
 ],
 "metadata": {
  "kernelspec": {
   "display_name": "Python 3",
   "language": "python",
   "name": "python3"
  },
  "language_info": {
   "codemirror_mode": {
    "name": "ipython",
    "version": 3
   },
   "file_extension": ".py",
   "mimetype": "text/x-python",
   "name": "python",
   "nbconvert_exporter": "python",
   "pygments_lexer": "ipython3",
   "version": "3.8.8"
  }
 },
 "nbformat": 4,
 "nbformat_minor": 5
}
