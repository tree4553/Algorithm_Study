{
 "cells": [
  {
   "cell_type": "markdown",
   "id": "484048db",
   "metadata": {},
   "source": [
    "# 두 배열의 원소 교체\n",
    "두 개의 배열 A,B는 N개의 원소로 구성되어 있고, 배열의 원소는 모두 자연수이다.   \n",
    "K는 두 배열의 원소를 하나씩 골라서 서로 바꾸는 연산을 수행하는 횟수이다.   \n",
    "N, K, 배열 A, B의 정보가 주어졌을 때, 최대 K번의 바꿔치기 연산을 수행하여 만들 수 잇는 배열 A의 모든 원소의 합의 최댓값을 출력하는 프로그램을 작성하시오.   \n",
    "> example   \n",
    "A = [1, 2, 5, 4, 3]   \n",
    "B = [5, 5, 6, 6, 5]   \n",
    "A와 B의 1,2,3 번째 원소를 바꾸는 세 번의 연산   \n",
    "A = [6, 6, 5, 4, 5]   \n",
    "B = [3, 5, 1, 2, 5]   \n",
    "\n",
    "- - -\n",
    "### 입력 조건\n",
    "- 첫 번째 줄에 N, K가 공백으로 구분되어 입력된다. (1 <= N <= 100,000, 0 <= K <= N)   \n",
    "- 두 번째 줄에 배열 A의 원소들이 공백으로 구분되어 입력된다.   \n",
    "모든 원소는 10.000.000보다 작은 자연수이다.   \n",
    "- 세 번째 줄에 배열 B의 원소들이 공백으로 구분되어 입력된다.   \n",
    "모든 원소는 10,000,000보다 작은 자연수이다.\n",
    "- - -\n",
    "### 출력 조건\n",
    "- 최대 K번의 바꿔치기 연산을 수행하여 만들 수 있는 배열 A의 모든 원소의 합의 최댓값을 출력한다.\n",
    "- - -\n",
    "### 입력 예시\n",
    "5 3   \n",
    "1 2 5 4 3   \n",
    "5 5 6 6 5\n",
    "- - -\n",
    "### 출력 예시\n",
    "26"
   ]
  },
  {
   "cell_type": "code",
   "execution_count": 5,
   "id": "fc275e59",
   "metadata": {},
   "outputs": [
    {
     "name": "stdout",
     "output_type": "stream",
     "text": [
      "5 3\n",
      "1 2 5 4 3\n",
      "5 5 6 6 5\n"
     ]
    }
   ],
   "source": [
    "# Input\n",
    "n, k = map(int, input().split())\n",
    "\n",
    "arrayA = map(int, input().split())\n",
    "arrayB = map(int, input().split())"
   ]
  },
  {
   "cell_type": "code",
   "execution_count": 11,
   "id": "87dc7591",
   "metadata": {},
   "outputs": [
    {
     "ename": "TypeError",
     "evalue": "'map' object is not subscriptable",
     "output_type": "error",
     "traceback": [
      "\u001b[1;31m---------------------------------------------------------------------------\u001b[0m",
      "\u001b[1;31mTypeError\u001b[0m                                 Traceback (most recent call last)",
      "\u001b[1;32m<ipython-input-11-616ef9c425c8>\u001b[0m in \u001b[0;36m<module>\u001b[1;34m\u001b[0m\n\u001b[0;32m      5\u001b[0m \u001b[1;33m\u001b[0m\u001b[0m\n\u001b[0;32m      6\u001b[0m \u001b[1;32mfor\u001b[0m \u001b[0mi\u001b[0m \u001b[1;32min\u001b[0m \u001b[0mrange\u001b[0m\u001b[1;33m(\u001b[0m\u001b[0mn\u001b[0m\u001b[1;33m)\u001b[0m\u001b[1;33m:\u001b[0m\u001b[1;33m\u001b[0m\u001b[1;33m\u001b[0m\u001b[0m\n\u001b[1;32m----> 7\u001b[1;33m     \u001b[0marray\u001b[0m\u001b[1;33m[\u001b[0m\u001b[0mi\u001b[0m\u001b[1;33m]\u001b[0m\u001b[1;33m[\u001b[0m\u001b[1;36m1\u001b[0m\u001b[1;33m]\u001b[0m \u001b[1;33m=\u001b[0m \u001b[0marrayB\u001b[0m\u001b[1;33m[\u001b[0m\u001b[0mi\u001b[0m\u001b[1;33m]\u001b[0m \u001b[1;33m-\u001b[0m \u001b[0marrayA\u001b[0m\u001b[1;33m[\u001b[0m\u001b[0mi\u001b[0m\u001b[1;33m]\u001b[0m\u001b[1;33m\u001b[0m\u001b[1;33m\u001b[0m\u001b[0m\n\u001b[0m\u001b[0;32m      8\u001b[0m \u001b[1;33m\u001b[0m\u001b[0m\n\u001b[0;32m      9\u001b[0m \u001b[1;32mdef\u001b[0m \u001b[0msetting\u001b[0m\u001b[1;33m(\u001b[0m\u001b[0marray\u001b[0m\u001b[1;33m)\u001b[0m\u001b[1;33m:\u001b[0m\u001b[1;33m\u001b[0m\u001b[1;33m\u001b[0m\u001b[0m\n",
      "\u001b[1;31mTypeError\u001b[0m: 'map' object is not subscriptable"
     ]
    }
   ],
   "source": [
    "# Try\n",
    "array = []\n",
    "for i in range(n):\n",
    "    array.append((i,0))\n",
    "\n",
    "for i in range(n):\n",
    "    array[i][1] = arrayB[i] - arrayA[i]\n",
    "    \n",
    "def setting(array):\n",
    "    return array[1]\n",
    "\n",
    "array.sort(key=setting)\n",
    "\n",
    "for i in range(k):\n",
    "    arrayA[i] = arrayB[i]\n",
    "\n",
    "print(array.sum())"
   ]
  }
 ],
 "metadata": {
  "kernelspec": {
   "display_name": "Python 3",
   "language": "python",
   "name": "python3"
  },
  "language_info": {
   "codemirror_mode": {
    "name": "ipython",
    "version": 3
   },
   "file_extension": ".py",
   "mimetype": "text/x-python",
   "name": "python",
   "nbconvert_exporter": "python",
   "pygments_lexer": "ipython3",
   "version": "3.8.8"
  }
 },
 "nbformat": 4,
 "nbformat_minor": 5
}
