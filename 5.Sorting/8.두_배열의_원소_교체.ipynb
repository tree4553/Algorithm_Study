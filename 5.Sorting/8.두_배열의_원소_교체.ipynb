{
 "cells": [
  {
   "cell_type": "markdown",
   "id": "484048db",
   "metadata": {},
   "source": [
    "# 두 배열의 원소 교체\n",
    "두 개의 배열 A,B는 N개의 원소로 구성되어 있고, 배열의 원소는 모두 자연수이다.   \n",
    "K는 두 배열의 원소를 하나씩 골라서 서로 바꾸는 연산을 수행하는 횟수이다.   \n",
    "N, K, 배열 A, B의 정보가 주어졌을 때, 최대 K번의 바꿔치기 연산을 수행하여 만들 수 잇는 배열 A의 모든 원소의 합의 최댓값을 출력하는 프로그램을 작성하시오.   \n",
    "> example   \n",
    "A = [1, 2, 5, 4, 3]   \n",
    "B = [5, 5, 6, 6, 5]   \n",
    "A와 B의 1,2,3 번째 원소를 바꾸는 세 번의 연산   \n",
    "A = [6, 6, 5, 4, 5]   \n",
    "B = [3, 5, 1, 2, 5]   \n",
    "\n",
    "- - -\n",
    "### 입력 조건\n",
    "- 첫 번째 줄에 N, K가 공백으로 구분되어 입력된다. (1 <= N <= 100,000, 0 <= K <= N)   \n",
    "- 두 번째 줄에 배열 A의 원소들이 공백으로 구분되어 입력된다.   \n",
    "모든 원소는 10.000.000보다 작은 자연수이다.   \n",
    "- 세 번째 줄에 배열 B의 원소들이 공백으로 구분되어 입력된다.   \n",
    "모든 원소는 10,000,000보다 작은 자연수이다.\n",
    "- - -\n",
    "### 출력 조건\n",
    "- 최대 K번의 바꿔치기 연산을 수행하여 만들 수 있는 배열 A의 모든 원소의 합의 최댓값을 출력한다.\n",
    "- - -\n",
    "### 입력 예시\n",
    "5 3   \n",
    "1 2 5 4 3   \n",
    "5 5 6 6 5\n",
    "- - -\n",
    "### 출력 예시\n",
    "26"
   ]
  },
  {
   "cell_type": "code",
   "execution_count": 2,
   "id": "fc275e59",
   "metadata": {},
   "outputs": [
    {
     "name": "stdout",
     "output_type": "stream",
     "text": [
      "5 3\n",
      "1 2 5 4 3\n",
      "5 5 6 6 5\n"
     ]
    }
   ],
   "source": [
    "# Input\n",
    "n, k = map(int, input().split())\n",
    "\n",
    "arrayA = map(int, input().split())\n",
    "arrayB = map(int, input().split())"
   ]
  },
  {
   "cell_type": "code",
   "execution_count": 37,
   "id": "d3825790",
   "metadata": {},
   "outputs": [],
   "source": [
    "# Input 2\n",
    "n, k = 5, 3\n",
    "arrayA = [1, 2, 5, 4, 3]\n",
    "arrayB = [5, 5, 6, 6, 5]"
   ]
  },
  {
   "cell_type": "code",
   "execution_count": 38,
   "id": "87dc7591",
   "metadata": {},
   "outputs": [
    {
     "name": "stdout",
     "output_type": "stream",
     "text": [
      "26\n"
     ]
    }
   ],
   "source": [
    "# Try\n",
    "arrayA.sort()\n",
    "arrayB.sort(reverse=True)\n",
    "for i in range (k):\n",
    "    if(arrayA[i] < arrayB[i]):\n",
    "        arrayA[i] = arrayB[i]\n",
    "    else:\n",
    "        break;\n",
    "    \n",
    "print(sum(arrayA))\n",
    "\n",
    "# arrayA의 숫자가 더 큰 경우를 생각하지 않고 문제를 풀었다."
   ]
  },
  {
   "cell_type": "code",
   "execution_count": 36,
   "id": "cc9c6797",
   "metadata": {},
   "outputs": [
    {
     "name": "stdout",
     "output_type": "stream",
     "text": [
      "5 3\n",
      "1 2 5 4 3\n",
      "5 5 6 6 5\n",
      "26\n"
     ]
    }
   ],
   "source": [
    "# Solution\n",
    "n, k = map(int, input().split())\n",
    "a = list(map(int, input().split()))\n",
    "b = list(map(int, input().split()))\n",
    "\n",
    "a.sort() # 배열 A는 오름차순 정렬 수행\n",
    "b.sort(reverse=True) # 배열 B는 내림차순 정렬 수해\n",
    "\n",
    "# 첫 번째 인덱스부터 확인하며, 두 배열의 원소를 최대 K번 비교\n",
    "for i in range(k):\n",
    "    # A의 원소가 B의 원소보다 작은 경우\n",
    "    if a[i] < b[i]:\n",
    "        # 두 원소를 교체\n",
    "        a[i], b[i] = b[i], a[i]\n",
    "    else: # A의 원소가 B의 원소보다 크거나 같을 때, 반복문을 탈출\n",
    "        break;\n",
    "        \n",
    "print(sum(a))"
   ]
  }
 ],
 "metadata": {
  "kernelspec": {
   "display_name": "Python 3",
   "language": "python",
   "name": "python3"
  },
  "language_info": {
   "codemirror_mode": {
    "name": "ipython",
    "version": 3
   },
   "file_extension": ".py",
   "mimetype": "text/x-python",
   "name": "python",
   "nbconvert_exporter": "python",
   "pygments_lexer": "ipython3",
   "version": "3.8.8"
  }
 },
 "nbformat": 4,
 "nbformat_minor": 5
}
