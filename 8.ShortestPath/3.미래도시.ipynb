{
 "cells": [
  {
   "cell_type": "markdown",
   "id": "11498248",
   "metadata": {},
   "source": [
    "# 미래 도시\n",
    "\n",
    "공중 미래 도시에는 1번부터 N번까지의 회사가 있는데 특정 회사끼리는 서로 도로를 통해 연결되어 있다.  \n",
    "방문 판매원 A는 현재 1번 회사에 위치해 있으며, X번 회사에 방문해 물건을 판매하고자 한다.  \n",
    "연결된 2개의 회사는 양방향으로 이동할 수 있다.  \n",
    "연결된 회사의 이동 시간은 1시간이다.  \n",
    "A가 K번 회사에 미팅 후에 X번 회사로 이동하는 것이 목표이다.  \n",
    "이때 A가 회사 사이를 이동하게 되는 최소 시간을 계산하는 프로그램을 작성하시오.  \n",
    "- - -\n",
    "### 입력 조건\n",
    "- 첫째 줄에 전체 회사의 개수 N과 경로의 개수 M이 공백으로 구분되어 차례대로 주어진다. (1 <= N,M <= 100)  \n",
    "- 둘째 줄부터 M + 1 번째 줄에는 연결된 두 회사의 번호가 공백으로 구분되어 주어진다.  \n",
    "- M + 2번째 줄에는 X와 K가 공백으로 구분되어 차례대로 주어진다. (1 <= K <= 100)  \n",
    "- - -\n",
    "### 출력 조건\n",
    "- 첫째 줄에 방문 판매원 A가 K번 회사를 거쳐 X번 회사로 가는 최소 이동 시간을 출력한다.  \n",
    "- 만약 X번 회사에 도달할 수 없다면 -1을 출력한다.  \n",
    "- - -\n",
    "### 입력 예시 1\n",
    "5 7<br>\n",
    "1 2<br>\n",
    "1 3<br>\n",
    "1 4<br>\n",
    "2 4<br>\n",
    "3 4<br>\n",
    "3 5<br>\n",
    "4 5<br>\n",
    "4 5\n",
    "- - -\n",
    "### 출력 예시 1\n",
    "3\n",
    "- - -\n",
    "### 입력 예시 2\n",
    "4 2<br>\n",
    "1 3<br>\n",
    "2 4<br>\n",
    "3 4\n",
    "- - -\n",
    "### 출력 예시 2\n",
    "-1"
   ]
  },
  {
   "cell_type": "code",
   "execution_count": 22,
   "id": "ccb0c457",
   "metadata": {},
   "outputs": [],
   "source": [
    "# Input 1\n",
    "INF = int(1e9)\n",
    "n, m = 5, 7\n",
    "graph = [[INF] * (n + 1) for _ in range(n + 1)]\n",
    "\n",
    "for i in range(n):\n",
    "    graph[i][i] = 0\n",
    "\n",
    "graph[1][2] = 1\n",
    "graph[2][1] = 1\n",
    "graph[1][3] = 1\n",
    "graph[3][1] = 1\n",
    "graph[1][4] = 1\n",
    "graph[4][1] = 1\n",
    "graph[2][4] = 1\n",
    "graph[4][2] = 1\n",
    "graph[3][4] = 1\n",
    "graph[4][3] = 1\n",
    "graph[3][5] = 1\n",
    "graph[5][3] = 1\n",
    "graph[4][5] = 1\n",
    "graph[5][4] = 1\n",
    "x, k = 4, 5"
   ]
  },
  {
   "cell_type": "code",
   "execution_count": 18,
   "id": "aaac477b",
   "metadata": {},
   "outputs": [],
   "source": [
    "# Input 2\n",
    "INF = int(1e9)\n",
    "n, m = 4, 2\n",
    "graph = [[INF] * (n + 1) for _ in range(n + 1)]\n",
    "\n",
    "for i in range(n + 1):\n",
    "    graph[i][i] = 0\n",
    "\n",
    "graph[1][3] = 1\n",
    "graph[3][1] = 1\n",
    "graph[2][4] = 1\n",
    "graph[4][2] = 1\n",
    "x, k = 3, 4"
   ]
  },
  {
   "cell_type": "code",
   "execution_count": 20,
   "id": "84c20de2",
   "metadata": {},
   "outputs": [
    {
     "name": "stdout",
     "output_type": "stream",
     "text": [
      "-1\n"
     ]
    }
   ],
   "source": [
    "# Try\n",
    "for a in range(1, n + 1):\n",
    "    for b in range(1, n + 1):\n",
    "        for c in range(1, n + 1):\n",
    "            if graph[a][b] > graph[a][c] + graph[c][b]:\n",
    "                graph[a][b] = graph[a][c] + graph[c][b]\n",
    "                \n",
    "if graph[1][k] != INF and graph[k][x] != INF:\n",
    "    print(graph[1][k] + graph[k][x])\n",
    "else:\n",
    "    print(-1)"
   ]
  },
  {
   "cell_type": "code",
   "execution_count": 23,
   "id": "bf6c9698",
   "metadata": {},
   "outputs": [
    {
     "name": "stdout",
     "output_type": "stream",
     "text": [
      "3\n"
     ]
    }
   ],
   "source": [
    "# Solution\n",
    "# 점화식에 따라 플로이드 워셜 알고리즘을 수행\n",
    "for k in range(1, n + 1):\n",
    "    for a in range(1, n + 1):\n",
    "        for b in range(1, n + 1):\n",
    "            graph[a][b] = min(graph[a][b], graph[a][k] + graph[k][b])\n",
    "            \n",
    "distance = graph[1][k] + graph[k][x]\n",
    "\n",
    "if distance >= INF:\n",
    "    print(\"-1\")\n",
    "else:\n",
    "    print(distance)"
   ]
  }
 ],
 "metadata": {
  "kernelspec": {
   "display_name": "Python 3",
   "language": "python",
   "name": "python3"
  },
  "language_info": {
   "codemirror_mode": {
    "name": "ipython",
    "version": 3
   },
   "file_extension": ".py",
   "mimetype": "text/x-python",
   "name": "python",
   "nbconvert_exporter": "python",
   "pygments_lexer": "ipython3",
   "version": "3.8.8"
  }
 },
 "nbformat": 4,
 "nbformat_minor": 5
}
