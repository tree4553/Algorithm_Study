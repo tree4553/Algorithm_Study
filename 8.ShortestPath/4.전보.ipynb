{
 "cells": [
  {
   "cell_type": "markdown",
   "id": "fddf62ee",
   "metadata": {},
   "source": [
    "# 전보\n",
    "\n",
    "어떤 나라에는 N개의 도시가 있다.  \n",
    "X라는 도시에서 Y라는 도시로 전보를 보내고자 한다면,  \n",
    "도시 X에서 Y로 향하는 통로가 설치되어 있어야 한다.  \n",
    "X에서 Y로 향하는 통로는 있지만 Y에서 X로 향하는 통로가 없다면 Y는 X로 메시지를 보낼 수 없다.  \n",
    "또한 통로를 거쳐 메시지를 보낼 때는 일정 시간이 소요된다.  \n",
    "C라는 나라에서 최대한 많은 나라에 메시지를 보낼때 C에서 보낸 메시지를 받게 되는 도시의 총 개수와 메시지를 받는 데까지 걸리는 시간을 구하는 프로그램을 작성하시오\n",
    "- - -\n",
    "### 입력 조건\n",
    "- 첫째 줄에 도시의 개수 N, 통로의 개수 M, 메시지를 보내고자 하는 도시 C가 주어진다.(1 <= N <= 30,000, 1 <= M <= 200,000, 1 <= C <= N)\n",
    "- 둘째 줄부터 M + 1번째 줄에 걸쳐서 통로에 대한 정보 X, Y, Z가 주어진다.  \n",
    "이는 특정 도시 X에서 다른 특정 도시 Y로 이어지는 통로가 있으며, 메시지가 전달되는 시간이 Z라는 의미다.  \n",
    "(1 <= X, Y <= N, 1 <= Z <= 1,000)\n",
    "- - -\n",
    "### 출력 조건\n",
    "- 첫째 줄에 도시 C에서 보낸 메시지를 받는 도시의 총 개수와 총 걸리는 시간을 공백으로 구분하여 출력한다.\n",
    "- - -\n",
    "### 입력 예시\n",
    "3 2 1  \n",
    "1 2 4  \n",
    "1 3 2\n",
    "- - -\n",
    "### 출력 예시\n",
    "2 4"
   ]
  },
  {
   "cell_type": "code",
   "execution_count": 15,
   "id": "54ad7736",
   "metadata": {},
   "outputs": [],
   "source": [
    "# Input 1\n",
    "n, m, c = 3, 2, 1\n",
    "graph = [[] for i in range(n + 1)]\n",
    "graph[1].append((4,2))\n",
    "graph[1].append((2,3))"
   ]
  },
  {
   "cell_type": "code",
   "execution_count": 13,
   "id": "a4b0c386",
   "metadata": {},
   "outputs": [
    {
     "name": "stdout",
     "output_type": "stream",
     "text": [
      "[[], [(4, 2), (2, 3)], [], []]\n",
      "[1000000000, 1000000000, 4, 2]\n",
      "2 4\n"
     ]
    }
   ],
   "source": [
    "# Try\n",
    "import heapq\n",
    "INF = int(1e9)\n",
    "distance = [INF] * (n + 1)\n",
    "\n",
    "def func(c):\n",
    "    heap = []\n",
    "    heapq.heappush(heap, (0, c))\n",
    "    while heap:\n",
    "        dist, now = heapq.heappop(heap)\n",
    "        if distance[now] < dist:\n",
    "            continue\n",
    "        for i in graph[now]:\n",
    "            cost = dist + i[0]\n",
    "            if cost < distance[i[1]]:\n",
    "                distance[i[1]] = cost\n",
    "                heapq.heappush(heap, (cost, i[1]))\n",
    "                \n",
    "func(c)\n",
    "\n",
    "count = 0\n",
    "time = 0\n",
    "for i in range(1, n + 1):\n",
    "    if distance[i] != INF:\n",
    "        count += 1\n",
    "        if time < distance[i]:\n",
    "            time = distance[i]\n",
    "\n",
    "print(graph)\n",
    "print(distance)\n",
    "print(count, time)"
   ]
  },
  {
   "cell_type": "code",
   "execution_count": 20,
   "id": "0cbcbf9e",
   "metadata": {},
   "outputs": [
    {
     "name": "stdout",
     "output_type": "stream",
     "text": [
      "2 4\n"
     ]
    }
   ],
   "source": [
    "# Solution\n",
    "import heapq\n",
    "INF = int(1e9)\n",
    "distance = [INF] * (n + 1)\n",
    "\n",
    "def dijkstra(start):\n",
    "    q = []\n",
    "    heapq.heappush(q, (0, start))\n",
    "    distance[start] = 0\n",
    "    \n",
    "    while q:\n",
    "        dist, now = heapq.heappop(q)\n",
    "        if distance[now] < dist:\n",
    "            continue\n",
    "        for i in graph[now]:\n",
    "            cost = dist + i[0]\n",
    "            if cost < distance[i[1]]:\n",
    "                distance[i[1]] = cost\n",
    "                heapq.heappush(q, (cost, i[1]))\n",
    "                \n",
    "dijkstra(c)\n",
    "\n",
    "count = 0\n",
    "max_distance = 0\n",
    "for d in distance:\n",
    "    if d != INF:\n",
    "        count += 1\n",
    "        max_distance = max(max_distance, d)\n",
    "        \n",
    "print(count - 1, max_distance)"
   ]
  }
 ],
 "metadata": {
  "kernelspec": {
   "display_name": "Python 3",
   "language": "python",
   "name": "python3"
  },
  "language_info": {
   "codemirror_mode": {
    "name": "ipython",
    "version": 3
   },
   "file_extension": ".py",
   "mimetype": "text/x-python",
   "name": "python",
   "nbconvert_exporter": "python",
   "pygments_lexer": "ipython3",
   "version": "3.8.8"
  }
 },
 "nbformat": 4,
 "nbformat_minor": 5
}
