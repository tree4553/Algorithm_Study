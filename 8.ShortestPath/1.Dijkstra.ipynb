{
 "cells": [
  {
   "cell_type": "markdown",
   "id": "cba2e0ff",
   "metadata": {},
   "source": [
    "# 다익스트라 알고리즘\n",
    "\n",
    "다익스트라 최단 경로 알고리즘은 그래프에서 여러 개의 노드가 있을 때,  \n",
    "특정한 노드에서 출발하여 다른 노드로 가는 각각의 최단 경로를 구해주는 알고리즘이다.  \n",
    "다익스트라 알고리즘은 '음의 간선'이 없을 때 정상 동작한다.  \n",
    "그리디 알고리즘으로 분류된다.  \n",
    "### 알고리즘 원리\n",
    "> 1. 출발 노드를 설정한다.\n",
    "2. 최단 거리 테이블을 초기화한다.\n",
    "3. 방문하지 않은 노드 주에서 최단 거리가 가장 짧은 노드를 선택한다.\n",
    "4. 해당 노드를 거쳐 다른 노드로 가는 비용을 계산하여 최단 거리 테이블을 갱신한다.\n",
    "5. 위 과정에서 3과 4번을 반복한다.\n",
    "\n",
    "**한 단계당 하나의 노드에 대한 최단 거리를 확실히 찾는 것이다.**"
   ]
  },
  {
   "cell_type": "markdown",
   "id": "22aa7dfc",
   "metadata": {},
   "source": [
    "### 간단한 다익스트라 알고리즘\n",
    "O(V<sup>2</sup>) 시간 복잡도를 가진다.  \n",
    "처음에 각 노드에 대한 최단 거리를 담는 1차원 리스트를 선언한다.  \n",
    "이후에 단계마다 '방문하지 않은 노드 중에서 최단 거리가 가장 짧은 노드를 선택'하기 위해  \n",
    "매 단계마다 1차원 리스트의 모든 원소를 확인 (순차 탐색) 한다."
   ]
  },
  {
   "cell_type": "code",
   "execution_count": 2,
   "id": "693ddaa0",
   "metadata": {},
   "outputs": [
    {
     "name": "stdout",
     "output_type": "stream",
     "text": [
      "[[], [(2, 2), (3, 5), (4, 1)], [(3, 3), (4, 2)], [(2, 3), (2, 3)], [(3, 3), (5, 1)], [(3, 1), (6, 2)], []]\n"
     ]
    }
   ],
   "source": [
    "# Input\n",
    "n, m = 6, 11\n",
    "start = 1\n",
    "graph = [[] for i in range(n + 1)]\n",
    "\n",
    "graph[1].append((2, 2))\n",
    "graph[1].append((3, 5))\n",
    "graph[1].append((4, 1))\n",
    "graph[2].append((3, 3))\n",
    "graph[2].append((4, 2))\n",
    "graph[3].append((2, 3))\n",
    "graph[3].append((2, 3))\n",
    "graph[4].append((3, 3))\n",
    "graph[4].append((5, 1))\n",
    "graph[5].append((3, 1))\n",
    "graph[5].append((6, 2))\n",
    "\n",
    "print(graph)"
   ]
  },
  {
   "cell_type": "code",
   "execution_count": 13,
   "id": "e8803fc9",
   "metadata": {},
   "outputs": [
    {
     "name": "stdout",
     "output_type": "stream",
     "text": [
      "0\n",
      "2\n",
      "3\n",
      "1\n",
      "2\n",
      "4\n"
     ]
    }
   ],
   "source": [
    "# 간단한 다익스트라 알고리즘\n",
    "'''\n",
    "import sys\n",
    "input = sys.stdin.readline # 입력되는 데이터의 수가 많을경우 input() 보다 빠르게 동작한다.\n",
    "'''\n",
    "INF = int(1e9) # 무한을 의미하는 값으로 10억을 설정\n",
    "'''\n",
    "# 각 노드에 연결되어 있는 노드에 대한 정보를 담는 리스트를 만들기\n",
    "graph = [[] for i in range(n + 1)]\n",
    "'''\n",
    "# 방문한 적이 있는지 체크하는 목적의 리스트를 만들기\n",
    "visited = [False] * (n + 1)\n",
    "# 최단 거리 테이블을 모두 무한으로 초기화\n",
    "distance = [INF] * (n + 1)\n",
    "\n",
    "'''\n",
    "# 모든 간선 정보를 입력받기\n",
    "for _ in range(m):\n",
    "    a, b, c = map(int, input().split())\n",
    "    # a번 노드에서 b번 노드로 가는 비용이 c라는 의미\n",
    "    graph[a].append((b, c))\n",
    "'''\n",
    "# 방문하지 않은 노드 중에서, 가장 최단 거리가 잛은 노드의 번호를 반환\n",
    "def get_smallest_node():\n",
    "    min_value = INF\n",
    "    index = 0 # 가장 최단 거리가 짧은 노드(인덱스)\n",
    "    for i in range(1, n + 1):\n",
    "        if distance[i] < min_value and not visited[i]:\n",
    "            min_value = distance[i]\n",
    "            index = i\n",
    "    return index\n",
    "\n",
    "def dijkstra(start):\n",
    "    # 시작 노드에 대해서 초기화\n",
    "    distance[start] = 0\n",
    "    visited[start] = True\n",
    "    for j in graph[start]:\n",
    "        distance[j[0]] = j[1]\n",
    "    # 시작 노드를 제외한 전체 n - 1개의 노드에 대해 반복\n",
    "    for i in range(n - 1):\n",
    "        # 현재 최단 거리가 가장 짧은 노드를 꺼내서, 방문 처리\n",
    "        now = get_smallest_node()\n",
    "        visited[now] = True\n",
    "        # 현재 노드와 연결된 다른 노드를 확인\n",
    "        for j in graph[now]:\n",
    "            cost = distance[now] + j[1]\n",
    "            # 현재 노드를 거쳐서 다른 노드로 이동하는 거리가 더 짧은 경우\n",
    "            if cost < distance[j[0]]:\n",
    "                distance[j[0]] = cost\n",
    "\n",
    "dijkstra(start)\n",
    "\n",
    "# 모든 노드로 가기 위한 최단 거리를 출력\n",
    "for i in range(1, n + 1):\n",
    "    # 도달할 수 없는 경우, 무한(INFINITY)이라고 출력\n",
    "    if distance[i] == INF:\n",
    "        print(\"INFINITY\")\n",
    "    # 도달할 수 있는 경우 거리를 출력\n",
    "    else:\n",
    "        print(distance[i])"
   ]
  },
  {
   "cell_type": "markdown",
   "id": "12b7e7f0",
   "metadata": {},
   "source": [
    "# 개선된 다익스트라 알고리즘\n",
    "\n",
    "최악의 경우에도 시간 복잡도 O(ElogV)를 보장한다. V는 노드의 개수이고, E는 간선의 개수이다.  \n",
    "힙(Heap) 자료구조를 사용한다.  \n",
    "힙을 사용하면 출발 노드로부터 가장 거리가 짧은 노드를 log<sub>2</sub>N 의 속도로 찾을 수 있다."
   ]
  },
  {
   "cell_type": "code",
   "execution_count": 6,
   "id": "01900a6a",
   "metadata": {},
   "outputs": [
    {
     "name": "stdout",
     "output_type": "stream",
     "text": [
      "0\n",
      "2\n",
      "3\n",
      "1\n",
      "2\n",
      "4\n"
     ]
    }
   ],
   "source": [
    "# 개선된 다익스트라 알고리즘\n",
    "import heapq\n",
    "'''\n",
    "import sys\n",
    "input = sys.stdin.readline # 입력되는 데이터의 수가 많을경우 input() 보다 빠르게 동작한다.\n",
    "'''\n",
    "INF = int(1e9) # 무한을 의미하는 값으로 10억을 설정\n",
    "'''\n",
    "# 각 노드에 연결되어 있는 노드에 대한 정보를 담는 리스트를 만들기\n",
    "graph = [[] for i in range(n + 1)]\n",
    "'''\n",
    "# 최단 거리 테이블을 모두 무한으로 초기화\n",
    "distance = [INF] * (n + 1)\n",
    "\n",
    "'''\n",
    "# 모든 간선 정보를 입력받기\n",
    "for _ in range(m):\n",
    "    a, b, c = map(int, input().split())\n",
    "    # a번 노드에서 b번 노드로 가는 비용이 c라는 의미\n",
    "    graph[a].append((b, c))\n",
    "'''\n",
    "\n",
    "def dijkstra(start):\n",
    "    q = []\n",
    "    # 시작 노드로 가기 위한 최단 경로는 0으로 설정하여, 큐에 삽입\n",
    "    heapq.heappush(q, (0, start))\n",
    "    distance[start] = 0\n",
    "    while q: # 큐가 비어있지 않다면\n",
    "        # 가장 최단 거리가 짧은 노드에 대한 정보 꺼내기\n",
    "        dist, now = heapq.heappop(q)\n",
    "        # 현재 노드가 이미 처리된 적이 있는 노드라면 무시\n",
    "        if distance[now] < dist:\n",
    "            continue\n",
    "        # 현재 노드와 연결된 다른 인접한 노드들을 확인\n",
    "        for i in graph[now]:\n",
    "            cost = dist + i[1]\n",
    "            # 현재 노드를 거쳐서, 다른 노드로 이동하는 거리가 더 짧은 경우\n",
    "            if cost < distance[i[0]]:\n",
    "                distance[i[0]] = cost\n",
    "                heapq.heappush(q, (cost, i[0]))\n",
    "                \n",
    "dijkstra(start)\n",
    "\n",
    "# 모든 노드로 가기 위한 최단 거리를 출력\n",
    "for i in range(1, n + 1):\n",
    "    # 도달할 수 없는 경우, 무한(INFINITY)이라고 출력\n",
    "    if distance[i] == INF:\n",
    "        print(\"INFINITY\")\n",
    "    # 도달할 수 있는 경우 거리를 출력\n",
    "    else:\n",
    "        print(distance[i])"
   ]
  }
 ],
 "metadata": {
  "kernelspec": {
   "display_name": "Python 3",
   "language": "python",
   "name": "python3"
  },
  "language_info": {
   "codemirror_mode": {
    "name": "ipython",
    "version": 3
   },
   "file_extension": ".py",
   "mimetype": "text/x-python",
   "name": "python",
   "nbconvert_exporter": "python",
   "pygments_lexer": "ipython3",
   "version": "3.8.8"
  }
 },
 "nbformat": 4,
 "nbformat_minor": 5
}
