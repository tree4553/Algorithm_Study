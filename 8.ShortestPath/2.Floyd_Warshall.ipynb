{
 "cells": [
  {
   "cell_type": "markdown",
   "id": "d43c0f32",
   "metadata": {},
   "source": [
    "# 플로이드 워셜 알고리즘\n",
    "\n",
    "모든 지점에서 다른 모든 지점까지의 최단 경로를 모두 구해야 하는 경우에 사용할 수 있는 알고리즘이다.  \n",
    "단계마다 '거쳐 가는 노드'를 기준으로 알고리즘을 수행한다.  \n",
    "시간 복잡도는 O(N<sup>3</sup>)이다.  \n",
    "2차원 리스트에 '최단 거리' 정보를 저장한다.  \n",
    "A에서 B로 가는 최소 비용과 A에서 K를 거쳐 B로 가는 비용을 비교하여 더 작은 값으로 갱신한다.  \n",
    "> D<sub>ab</sub> = min(D<sub>ab</sub>, D<sub>ak</sub> + D<sub>kb</sub>)\n"
   ]
  },
  {
   "cell_type": "code",
   "execution_count": 1,
   "id": "523a8074",
   "metadata": {},
   "outputs": [],
   "source": [
    "# Input\n",
    "INF = int(1e9)\n",
    "n, m = 4, 7\n",
    "graph = [[INF] * (n + 1) for _ in range(n + 1)]\n",
    "graph[1][2] = 4\n",
    "graph[1][4] = 6\n",
    "graph[2][1] = 3\n",
    "graph[2][3] = 7\n",
    "graph[3][1] = 5\n",
    "graph[3][4] = 4\n",
    "graph[4][3] = 2"
   ]
  },
  {
   "cell_type": "code",
   "execution_count": 2,
   "id": "f5ef6ad9",
   "metadata": {},
   "outputs": [
    {
     "name": "stdout",
     "output_type": "stream",
     "text": [
      "0 4 8 6 \n",
      "3 0 7 9 \n",
      "5 9 0 4 \n",
      "7 11 2 0 \n"
     ]
    }
   ],
   "source": [
    "# 플로이드 워셜 알고리즘\n",
    "\n",
    "# 자기 자신에서 자기 자신으로 가는 비용은 0으로 초기화\n",
    "for a in range(1, n + 1):\n",
    "    graph[a][a] = 0\n",
    "'''\n",
    "# 각 간선에 대한 정보를 입력받아, 그 값으로 초기화\n",
    "for _ in range(m):\n",
    "    a, b, c = map(int, input().split())\n",
    "    graph[a][b] = c\n",
    "'''  \n",
    "# 점화식에 따라 플로이드 워셜 알고리즘을 수행\n",
    "for k in range(1, n + 1):\n",
    "    for a in range(1, n + 1):\n",
    "        for b in range(1, n + 1):\n",
    "            graph[a][b] = min(graph[a][b], graph[a][k] + graph[k][b])\n",
    "            \n",
    "# 수행된 결과를 출력\n",
    "for a in range(1, n + 1):\n",
    "    for b in range(1, n + 1):\n",
    "        # 도달할 수 없는 경우, 무한(INFINITY)이라고 출력\n",
    "        if graph[a][b] == INF:\n",
    "            print(\"INFINITY\", end=\" \")\n",
    "        # 도달할 수 있는 경우 거리를 출력\n",
    "        else:\n",
    "            print(graph[a][b], end=\" \")\n",
    "    print()"
   ]
  }
 ],
 "metadata": {
  "kernelspec": {
   "display_name": "Python 3",
   "language": "python",
   "name": "python3"
  },
  "language_info": {
   "codemirror_mode": {
    "name": "ipython",
    "version": 3
   },
   "file_extension": ".py",
   "mimetype": "text/x-python",
   "name": "python",
   "nbconvert_exporter": "python",
   "pygments_lexer": "ipython3",
   "version": "3.8.8"
  }
 },
 "nbformat": 4,
 "nbformat_minor": 5
}
