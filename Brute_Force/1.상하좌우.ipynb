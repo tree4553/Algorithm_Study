{
 "cells": [
  {
   "cell_type": "markdown",
   "id": "bbab4276",
   "metadata": {},
   "source": [
    "# 상하좌우\n",
    "여행가 A는 N X N 크기의 정사각형 공간 위에 서 있다.<br>\n",
    "이 공간은 1 X 1 크기의 정사각형으로 나우어져 있다.<br>\n",
    "가장 왼쪽 위 좌표는 (1, 1)이며, 가장 오른쪽 아래 좌표는 (N, N)에 해당한다.  \n",
    "여행가 A는 상, 하, 좌, 우 방향으로 이동할 수 있으며, 시작 좌표는 항상 (1, 1)이다.  \n",
    "우리 앞에는 여행가 A가 이동할 게획이 적힌 계획서가 놓여 있다.  \n",
    "계획서에는 하나의 줄에 띄어쓰기를 기준으로 하여 L, R, U, D 중 하나의 문자가 반복적으로 적혀있다.  \n",
    "각 문자의 의미는 다음과 같다.  \n",
    "L : 왼쪽으로 한 칸 이동  \n",
    "R : 오른쪽으로 한 칸 이동  \n",
    "U : 위로 한 칸 이동  \n",
    "D : 아래로 한 칸 이동  \n",
    "  \n",
    "이때 여행가 A가 N X N 크기의 정사각형 공간을 벗어나는 움직임은 무시된다.  \n",
    "예를 들어 (1, 1)의 위치에서 L 혹은 U를 만나면 무시된다.  \n",
    "계획서가 주어졌을 때 여행가 A가 최종적으로 도착할 지점의 좌표를 출력하는 프로그램을 작성하시오.  \n",
    "  \n",
    "입력 조건  \n",
    "첫째 줄에 공간의 크기를 나타내는 N이 주어진다. (1 <= N <= 100)  \n",
    "둘째 줄에 여행가 A가 이동할 계획서 내용이 주어진다. (1 <= 이동 횟수 <= 100)  \n",
    "  \n",
    "출력 조건  \n",
    "첫째 줄에 여행가 A가 최종적으로 도착할 지점의 좌표 (X, Y)를 공백으로 구분하여 출력한다.  \n",
    "  \n",
    "입력 예시  \n",
    "5<br>\n",
    "R R R U D D  \n",
    "  \n",
    "출력 예시<br>\n",
    "3 4"
   ]
  },
  {
   "cell_type": "code",
   "execution_count": 13,
   "id": "ef442b28",
   "metadata": {},
   "outputs": [
    {
     "name": "stdout",
     "output_type": "stream",
     "text": [
      "5\n",
      "R R R U D D\n",
      "3 4\n"
     ]
    }
   ],
   "source": [
    "# Try\n",
    "n = int(input())\n",
    "moves = input().split()\n",
    "x, y = 1, 1\n",
    "\n",
    "for move in moves:\n",
    "    if move == 'L':\n",
    "        y -= 1\n",
    "    elif move == 'R':\n",
    "        y += 1\n",
    "    elif move == 'U':\n",
    "        x -= 1\n",
    "    else:\n",
    "        x += 1\n",
    "    \n",
    "    if x <= 0:\n",
    "        x += 1\n",
    "    elif x > n:\n",
    "        x -= 1\n",
    "    if y <= 0:\n",
    "        y += 1\n",
    "    elif y > n:\n",
    "        y -= 1\n",
    "    \n",
    "print(x, y)\n",
    "\n",
    "# 처음에 문제를 풀때 x, y가 n을 벗어나는 경우를 처리하지 않았다."
   ]
  },
  {
   "cell_type": "code",
   "execution_count": 14,
   "id": "ad0ce334",
   "metadata": {},
   "outputs": [
    {
     "name": "stdout",
     "output_type": "stream",
     "text": [
      "5\n",
      "R R R U D D\n",
      "3 4\n"
     ]
    }
   ],
   "source": [
    "# Solution\n",
    "n = int(input())\n",
    "x, y = 1, 1\n",
    "plans = input().split()\n",
    "\n",
    "dx = [0, 0, -1, 1]\n",
    "dy = [-1, 1, 0, 0]\n",
    "move_types = ['L', 'R', 'U', 'D']\n",
    "\n",
    "for plan in plans:\n",
    "    for i in range(len(move_types)):\n",
    "        if plan == move_types[i]:\n",
    "            nx = x + dx[i]\n",
    "            ny = y + dy[i]\n",
    "            \n",
    "    if nx < 1 or ny < 1 or nx > n or ny > n:\n",
    "        continue\n",
    "            \n",
    "    x, y = nx, ny\n",
    "        \n",
    "print(x, y)"
   ]
  }
 ],
 "metadata": {
  "kernelspec": {
   "display_name": "Python 3",
   "language": "python",
   "name": "python3"
  },
  "language_info": {
   "codemirror_mode": {
    "name": "ipython",
    "version": 3
   },
   "file_extension": ".py",
   "mimetype": "text/x-python",
   "name": "python",
   "nbconvert_exporter": "python",
   "pygments_lexer": "ipython3",
   "version": "3.8.8"
  }
 },
 "nbformat": 4,
 "nbformat_minor": 5
}
