{
 "cells": [
  {
   "cell_type": "markdown",
   "id": "fd04cb33",
   "metadata": {},
   "source": [
    "# 시각\n",
    "정수 N이 입력되면 00시 00분 00초부터 N시 59분 59초까지의 모든 시각 중에서 3이 하나라도 포함되는 모든 경우의 수를 구하는 프로그램을 작성하시오.  \n",
    "예를 들어 1을 입력했을 때 당므은 3이 하나라도 포함되어 있으므로 세어야 하는 시각이다.  \n",
    "- 00시 00분 03초  \n",
    "- 00시 13분 30초  \n",
    "\n",
    "반면에 당므은 3이 하나도 포함되어 있지 않으므로 세면 안 되는 시각이다.  \n",
    "- 00시 02분 5초  \n",
    "- 01시 27분 45초  \n",
    "\n",
    "입력 조건  \n",
    "- 첫째 줄에 정수 N이 입력된다. (0 <= N <= 23)  \n",
    "\n",
    "출력 조건\n",
    "- 00시 00분 00초부터 N시 59분 59초까지의 모든 시각 중에서 3이 하나라도 포함되는 모든 경우의 수를 출력한다.  \n",
    "\n",
    "입력 예시  \n",
    "5  \n",
    "  \n",
    "출력 예시  \n",
    "11475  "
   ]
  },
  {
   "cell_type": "code",
   "execution_count": 6,
   "id": "9361c01f",
   "metadata": {},
   "outputs": [
    {
     "name": "stdout",
     "output_type": "stream",
     "text": [
      "5\n",
      "11475\n"
     ]
    }
   ],
   "source": [
    "# Try\n",
    "n = int(input())\n",
    "result = 0\n",
    "\n",
    "\n",
    "\n",
    "for i in range(n + 1):\n",
    "    if i % 10 == 3:    # 시에 3이 포함된 경우\n",
    "        result += 60 * 60\n",
    "    else:\n",
    "        for j in range(60):\n",
    "            if j % 10 == 3 or j // 10 == 3:    # 분에 3이 포함된 경우\n",
    "                result += 60\n",
    "            else:\n",
    "                for k in range(60):\n",
    "                    if k % 10 == 3 or k // 10 == 3:    # 초에 3이 포함된 경우\n",
    "                        result += 1\n",
    "        \n",
    "print(result)"
   ]
  },
  {
   "cell_type": "code",
   "execution_count": 7,
   "id": "b8d23c12",
   "metadata": {},
   "outputs": [
    {
     "name": "stdout",
     "output_type": "stream",
     "text": [
      "5\n",
      "11475\n"
     ]
    }
   ],
   "source": [
    "# Solution\n",
    "h = int(input())\n",
    "\n",
    "count = 0\n",
    "for i in range(h + 1):\n",
    "    for j in range(60):\n",
    "        for k in range(60):\n",
    "            if '3' in str(i) + str(j) + str(k):\n",
    "                count += 1\n",
    "\n",
    "print(count)"
   ]
  }
 ],
 "metadata": {
  "kernelspec": {
   "display_name": "Python 3",
   "language": "python",
   "name": "python3"
  },
  "language_info": {
   "codemirror_mode": {
    "name": "ipython",
    "version": 3
   },
   "file_extension": ".py",
   "mimetype": "text/x-python",
   "name": "python",
   "nbconvert_exporter": "python",
   "pygments_lexer": "ipython3",
   "version": "3.8.8"
  }
 },
 "nbformat": 4,
 "nbformat_minor": 5
}
