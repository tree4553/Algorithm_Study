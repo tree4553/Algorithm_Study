{
 "cells": [
  {
   "cell_type": "markdown",
   "id": "131801f6",
   "metadata": {},
   "source": [
    "# 2019 국가 교육기관 코딩 테스트\n",
    "## 큰 수의 법칙\n",
    "동분이는 본인만의 방식으로 '큰 수의 법칙'을 다르게 사용하고 있다.<br>\n",
    "동빈이는 큰 수의 법칙은 다양한 수로 이루어진 배열이 있을 때 주어진 수들을 M번 더하여 가장 큰 수를 만드는 법칙이다.<br>\n",
    "단, 배열의 특정한 인덱스(번호)에 해당하는 수가 연속해서 K번을 초과하여 더해질 수 없는 것이 이 법칙의 특징이다.<br>\n",
    "예를 들어 순서대로 2, 4, 5, 4, 6으로 이루어진 배열이 있을 때 M이 8이고, K가 3이라고 가정하자.<br>\n",
    "이 경우 특정한 인덱스의 수가 연속해서 세 번까지만 더해질 수 있으므로 큰 수의 법칙에 따른 결과는 6 + 6 + 6 + 5 + 6 + 6+ 6 + 5 인 46이 된다.<br>\n",
    "단, 서로 다른 인덱스에 해당하는 수가 같은 경우에도 서로 다른 것으로 간주한다.<br>\n",
    "예를 들어 순서대로 3, 4, 3, 4, 3 으로 이루어진 배열이 있을 때 M이 7이고, K가 2라고 가정하자.<br>\n",
    "이 경우 두 번째 원소에 해당하는 4와 네번째 원소에 해당하는 4를 번갈아 두 번씩 더하는 것이 가능하다.<br>\n",
    "결과적으로 4 + 4 + 4 + 4 + 4 + 4 + 4인 28이 도출된다.<br>\n",
    "배열의 크기 N, 숫자가 더해지는 횟수 M, K가 주어질 때 동빈이의 큰 수의 법칙에 따른 결과를 출력하시오.<br>\n",
    "<br>\n",
    "입력 조건<br>\n",
    "<br>\n",
    "첫째 줄에 N(2 <= N <= 1000), M(1 <= M <= 10,000), K(1 <= K <= 10,000)의 자연수가 주어지며, 각 자연수는 공백으로 구분한다. <br>\n",
    "둘째 줄에 N개의 자연수가 주어진다. <br>\n",
    "각 자연수는 공백으로 구분한다. <br>\n",
    "단, 각각의 자연수는 1 이상 10,000 이하의 수로 주어진다. <br>\n",
    "입력으로 주어지는 K는 항상 M보다 작거나 같다.<br>\n",
    "<br>\n",
    "출력 조건 <br>\n",
    "첫째 줄에 동빈이의 큰 수의 법칙에 따라 더해진 답을 출력한다. <br>\n",
    " <br>\n",
    "입력 예시 <br>\n",
    "5 8 3<br>\n",
    "2 4 5 4 6<br>\n",
    "<br>\n",
    "출력 예시<br>\n",
    "46"
   ]
  },
  {
   "cell_type": "code",
   "execution_count": 16,
   "id": "381407c4",
   "metadata": {},
   "outputs": [
    {
     "name": "stdout",
     "output_type": "stream",
     "text": [
      "5 8 3\n",
      "2 4 5 4 6\n",
      "46\n"
     ]
    }
   ],
   "source": [
    "# Try\n",
    "n, m, k = map(int, input().split())\n",
    "data = list(map(int, input().split()))\n",
    "result = 0\n",
    "limit = k\n",
    "\n",
    "data.sort(reverse = True)\n",
    "for i in range(m):\n",
    "    if limit != 0:\n",
    "        result += data[0]\n",
    "        limit -= 1\n",
    "    else:\n",
    "        result += data[1]\n",
    "        limit = k\n",
    "print(result)"
   ]
  },
  {
   "cell_type": "code",
   "execution_count": 14,
   "id": "8489c529",
   "metadata": {},
   "outputs": [
    {
     "name": "stdout",
     "output_type": "stream",
     "text": [
      "5 8 3\n",
      "2 4 5 4 6\n",
      "46\n"
     ]
    }
   ],
   "source": [
    "# Solution1\n",
    "# N, M, K를 공백으로 구분하여 입력받기\n",
    "n, m, k = map(int, input().split())\n",
    "# N개의 수를 공백으로 구분하여 입력받기\n",
    "data = list(map(int, input().split()))\n",
    "\n",
    "data.sort() # 입력받은 수들 정렬하기\n",
    "first = data[n - 1] # 가장 큰 수\n",
    "second = data[n - 2] # 두 번째로 큰 수\n",
    "\n",
    "result = 0\n",
    "\n",
    "while True:\n",
    "    for i in range(k): # 가장 큰 수를 K번 더하기\n",
    "        if m == 0 : # m이 0이라면 반복문 탈출\n",
    "            break\n",
    "        result += first\n",
    "        m -= 1 # 더할 때마다 1씩 빼기\n",
    "    if m == 0: # m이 0이라면 반복문 탈출\n",
    "        break\n",
    "    result += second # 두 번째로 큰 수를 한 번 더하기\n",
    "    m -= 1 # 더할 때마다 1씩 빼기\n",
    "\n",
    "print(result) # 최종 답안 출력"
   ]
  },
  {
   "cell_type": "code",
   "execution_count": 15,
   "id": "a8e8ff72",
   "metadata": {},
   "outputs": [
    {
     "name": "stdout",
     "output_type": "stream",
     "text": [
      "5 8 3\n",
      "2 4 5 4 6\n",
      "46\n"
     ]
    }
   ],
   "source": [
    "# Solution2\n",
    "# N, M, K를 공백으로 구분하여 입력받기\n",
    "n, m, k = map(int, input().split())\n",
    "# N개의 수를 공백으로 구분하여 입력받기\n",
    "data = list(map(int, input().split()))\n",
    "\n",
    "data.sort() # 입력받은 수들 정렬하기\n",
    "first = data[n - 1] # 가장 큰 수\n",
    "second = data[n - 2] # 두 번째로 큰 수\n",
    "\n",
    "# 가장 큰 수가 더해지는 횟수 계산\n",
    "count = int(m / (k + 1)) * k\n",
    "count += m % (k + 1)\n",
    "\n",
    "result = 0\n",
    "result += (count) * first # 가장 큰 수 더하기\n",
    "result += (m - count) * second # 두 번째로 큰 수 더하기\n",
    "\n",
    "print(result) # 최종 답안 출력"
   ]
  }
 ],
 "metadata": {
  "kernelspec": {
   "display_name": "Python 3",
   "language": "python",
   "name": "python3"
  },
  "language_info": {
   "codemirror_mode": {
    "name": "ipython",
    "version": 3
   },
   "file_extension": ".py",
   "mimetype": "text/x-python",
   "name": "python",
   "nbconvert_exporter": "python",
   "pygments_lexer": "ipython3",
   "version": "3.8.8"
  }
 },
 "nbformat": 4,
 "nbformat_minor": 5
}
