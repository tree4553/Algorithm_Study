{
 "cells": [
  {
   "cell_type": "markdown",
   "id": "4b37b447",
   "metadata": {},
   "source": [
    "# 미로 탈출\n",
    "\n",
    "N X M 크기의 직사각형 형태의 미로에 갇혀 있다.   \n",
    "시작 위치는 (1, 1)이고 미로의 출구는 (N, M)의 위치에 존재하며 한번에 한 칸씩 이동할 수 있다.   \n",
    "괴물이 있는 부분은 0으로, 괴물이 없는 부분은 1로 표시되어 있다.   \n",
    "미로는 반드시 탈출할 수 있는 형태로 제시된다.   \n",
    "이때 미로를 탈출하기 위해 움직여야 하는 최소 칸의 개수를 구하시오.   \n",
    "칸을 셀 때는 시작 칸과 마지막 칸을 모두 포함하여 계산한다.   \n",
    "- - - \n",
    "### 입력 조건   \n",
    "- 첫째 줄에 두 정수 N, M(4 <= N, M <= 200)이 주어진다.   \n",
    "- 다음 N개의 줄에는 각각 M개의 정수(0 혹은 1)로 미로의 정보가 주어진다.   \n",
    "- 각각의 수들은 공백 없이 붙어서 입력으로 제시된다.   \n",
    "- 또한 시작 칸과 마지막 칸은 항상 1이다.   \n",
    "\n",
    "- - -\n",
    "### 출력 조건   \n",
    "- 첫째 줄에 최소 이동 칸의 개수를 출력한다.\n",
    "- - -\n",
    "### 입력 예시   \n",
    "5 6   \n",
    "101010   \n",
    "111111   \n",
    "000001   \n",
    "111111   \n",
    "111111   \n",
    "- - -\n",
    "### 출력 예시   \n",
    "10"
   ]
  },
  {
   "cell_type": "code",
   "execution_count": 8,
   "id": "8ecc1eb4",
   "metadata": {},
   "outputs": [
    {
     "name": "stdout",
     "output_type": "stream",
     "text": [
      "5 6\n",
      "101010\n",
      "111111\n",
      "000001\n",
      "111111\n",
      "111111\n",
      "[1, 0, 1, 0, 1, 0]\n",
      "[1, 1, 1, 1, 1, 1]\n",
      "[0, 0, 0, 0, 0, 1]\n",
      "[1, 1, 1, 1, 1, 1]\n",
      "[1, 1, 1, 1, 1, 1]\n"
     ]
    }
   ],
   "source": [
    "# Input\n",
    "n, m = map(int,input().split())\n",
    "graph = []\n",
    "for i in range(n):\n",
    "    graph.append(list(map(int, input())))\n",
    "\n",
    "for i in range(n):\n",
    "    print(graph[i])"
   ]
  },
  {
   "cell_type": "code",
   "execution_count": null,
   "id": "ee2ec71e",
   "metadata": {},
   "outputs": [],
   "source": [
    "# Try\n"
   ]
  }
 ],
 "metadata": {
  "kernelspec": {
   "display_name": "Python 3",
   "language": "python",
   "name": "python3"
  },
  "language_info": {
   "codemirror_mode": {
    "name": "ipython",
    "version": 3
   },
   "file_extension": ".py",
   "mimetype": "text/x-python",
   "name": "python",
   "nbconvert_exporter": "python",
   "pygments_lexer": "ipython3",
   "version": "3.8.8"
  }
 },
 "nbformat": 4,
 "nbformat_minor": 5
}
