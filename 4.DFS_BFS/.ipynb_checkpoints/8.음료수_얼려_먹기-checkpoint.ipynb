{
 "cells": [
  {
   "cell_type": "markdown",
   "id": "11667600",
   "metadata": {},
   "source": [
    "# 음료수 얼려 먹기\n",
    "N X M 크기의 얼음 틀이 있다.   \n",
    "구멍이 뚫려 있는 부분은 0, 칸막이가 존재하는 부분은 1로 표시된다.   \n",
    "구멍이 뚫려 있는 부분끼리 상, 하, 좌, 우로 붙어 있는 경우 서로 연결되어 있는 것으로 간주한다.   \n",
    "이때 얼음 틀의 모양이 주어졌을 때 생성되는 총 아이스크림의 개수를 구하는 프로그램을 작성하시오.   \n",
    "다음의 4 X 5 얼음 틀 예시에서는 아이스크림이 총 3개 생성된다.   \n",
    "   \n",
    "- - -\n",
    "00110   \n",
    "00011   \n",
    "11111   \n",
    "00000   \n",
    "- - -\n",
    "### 입력 조건\n",
    "- 첫 번째 줄에 얼음 틀의 세로 길이 N과 가로 길이 M이 주어진다. (1 <= N, M <= 1000)   \n",
    "- 두 번재 줄부터 N + 1 번째 줄가지 얼음 틀의 형태가 주어진다.   \n",
    "- 이때 구멍이 뚫려있는 부분은 0, 그렇지 않은 부분은 1이다.   \n",
    "- - -\n",
    "### 출력 조건   \n",
    "- 한 번에 만들 수 있는 아이스크림의 개수를 출력한다.   \n",
    "- - -   \n",
    "### 입력 예시\n",
    "15 14   \n",
    "\n",
    "`   \n",
    "00000111100000   \n",
    "11111101111110   \n",
    "11011101101110   \n",
    "11011101100000   \n",
    "11011111111111   \n",
    "11011111111100   \n",
    "11000000011111   \n",
    "01111111111111   \n",
    "00000000011111   \n",
    "01111111111000   \n",
    "00011111111000   \n",
    "00000001111000   \n",
    "11111111110011   \n",
    "11100011111111   \n",
    "11100011111111   \n",
    "`\n",
    "- - -\n",
    "### 출력 예시   \n",
    "8"
   ]
  },
  {
   "cell_type": "code",
   "execution_count": 12,
   "id": "62db80ed",
   "metadata": {},
   "outputs": [],
   "source": [
    "# Input\n",
    "n, m = 15, 14\n",
    "tray = [\n",
    "    [0,0,0,0,0,1,1,1,1,0,0,0,0,0],\n",
    "    [1,1,1,1,1,1,0,1,1,1,1,1,1,0],\n",
    "    [1,1,0,1,1,1,0,1,1,0,1,1,1,0],\n",
    "    [1,1,0,1,1,1,0,1,1,0,0,0,0,0],\n",
    "    [1,1,0,1,1,1,1,1,1,1,1,1,1,1],\n",
    "    [1,1,0,1,1,1,1,1,1,1,1,1,0,0],\n",
    "    [1,1,0,0,0,0,0,0,0,1,1,1,1,1],\n",
    "    [0,1,1,1,1,1,1,1,1,1,1,1,1,1],\n",
    "    [0,0,0,0,0,0,0,0,0,1,1,1,1,1],\n",
    "    [0,1,1,1,1,1,1,1,1,1,1,0,0,0],\n",
    "    [0,0,0,1,1,1,1,1,1,1,1,0,0,0],\n",
    "    [0,0,0,0,0,0,0,1,1,1,1,0,0,0],\n",
    "    [1,1,1,1,1,1,1,1,1,1,0,0,1,1],\n",
    "    [1,1,1,0,0,0,1,1,1,1,1,1,1,1],\n",
    "    [1,1,1,0,0,0,1,1,1,1,1,1,1,1],\n",
    "]"
   ]
  },
  {
   "cell_type": "code",
   "execution_count": 11,
   "id": "9234b40f",
   "metadata": {},
   "outputs": [
    {
     "name": "stdout",
     "output_type": "stream",
     "text": [
      "[[False, False, False, False, False, False, False, False, False, False, False, False, False, False], [False, False, False, False, False, False, False, False, False, False, False, False, False, False], [False, False, False, False, False, False, False, False, False, False, False, False, False, False], [False, False, False, False, False, False, False, False, False, False, False, False, False, False], [False, False, False, False, False, False, False, False, False, False, False, False, False, False], [False, False, False, False, False, False, False, False, False, False, False, False, False, False], [False, False, False, False, False, False, False, False, False, False, False, False, False, False], [False, False, False, False, False, False, False, False, False, False, False, False, False, False], [False, False, False, False, False, False, False, False, False, False, False, False, False, False], [False, False, False, False, False, False, False, False, False, False, False, False, False, False], [False, False, False, False, False, False, False, False, False, False, False, False, False, False], [False, False, False, False, False, False, False, False, False, False, False, False, False, False], [False, False, False, False, False, False, False, False, False, False, False, False, False, False], [False, False, False, False, False, False, False, False, False, False, False, False, False, False], [False, False, False, False, False, False, False, False, False, False, False, False, False, False]]\n"
     ]
    }
   ],
   "source": [
    "# Try\n",
    "visited = [[False] * m for i in range(n)]\n",
    "'''\n",
    "for i in range(n):\n",
    "    print(visited[i], i)\n",
    "''' \n",
    "\n",
    "result = 0\n",
    "\n",
    "\n",
    "print(result)"
   ]
  }
 ],
 "metadata": {
  "kernelspec": {
   "display_name": "Python 3",
   "language": "python",
   "name": "python3"
  },
  "language_info": {
   "codemirror_mode": {
    "name": "ipython",
    "version": 3
   },
   "file_extension": ".py",
   "mimetype": "text/x-python",
   "name": "python",
   "nbconvert_exporter": "python",
   "pygments_lexer": "ipython3",
   "version": "3.8.8"
  }
 },
 "nbformat": 4,
 "nbformat_minor": 5
}
