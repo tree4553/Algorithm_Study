{
 "cells": [
  {
   "cell_type": "markdown",
   "id": "11667600",
   "metadata": {},
   "source": [
    "# 음료수 얼려 먹기\n",
    "N X M 크기의 얼음 틀이 있다.   \n",
    "구멍이 뚫려 있는 부분은 0, 칸막이가 존재하는 부분은 1로 표시된다.   \n",
    "구멍이 뚫려 있는 부분끼리 상, 하, 좌, 우로 붙어 있는 경우 서로 연결되어 있는 것으로 간주한다.   \n",
    "이때 얼음 틀의 모양이 주어졌을 때 생성되는 총 아이스크림의 개수를 구하는 프로그램을 작성하시오.   \n",
    "다음의 4 X 5 얼음 틀 예시에서는 아이스크림이 총 3개 생성된다.   \n",
    "   \n",
    "- - -\n",
    "00110   \n",
    "00011   \n",
    "11111   \n",
    "00000   \n",
    "- - -\n",
    "### 입력 조건\n",
    "- 첫 번째 줄에 얼음 틀의 세로 길이 N과 가로 길이 M이 주어진다. (1 <= N, M <= 1000)   \n",
    "- 두 번재 줄부터 N + 1 번째 줄가지 얼음 틀의 형태가 주어진다.   \n",
    "- 이때 구멍이 뚫려있는 부분은 0, 그렇지 않은 부분은 1이다.   \n",
    "- - -\n",
    "### 출력 조건   \n",
    "- 한 번에 만들 수 있는 아이스크림의 개수를 출력한다.   \n",
    "- - -   \n",
    "### 입력 예시\n",
    "15 14   \n",
    "\n",
    "`   \n",
    "00000111100000   \n",
    "11111101111110   \n",
    "11011101101110   \n",
    "11011101100000   \n",
    "11011111111111   \n",
    "11011111111100   \n",
    "11000000011111   \n",
    "01111111111111   \n",
    "00000000011111   \n",
    "01111111111000   \n",
    "00011111111000   \n",
    "00000001111000   \n",
    "11111111110011   \n",
    "11100011111111   \n",
    "11100011111111   \n",
    "`\n",
    "- - -\n",
    "### 출력 예시   \n",
    "8"
   ]
  },
  {
   "cell_type": "code",
   "execution_count": 32,
   "id": "62db80ed",
   "metadata": {},
   "outputs": [],
   "source": [
    "# Input\n",
    "n, m = 15, 14\n",
    "tray = [\n",
    "    [0,0,0,0,0,1,1,1,1,0,0,0,0,0],\n",
    "    [1,1,1,1,1,1,0,1,1,1,1,1,1,0],\n",
    "    [1,1,0,1,1,1,0,1,1,0,1,1,1,0],\n",
    "    [1,1,0,1,1,1,0,1,1,0,0,0,0,0],\n",
    "    [1,1,0,1,1,1,1,1,1,1,1,1,1,1],\n",
    "    [1,1,0,1,1,1,1,1,1,1,1,1,0,0],\n",
    "    [1,1,0,0,0,0,0,0,0,1,1,1,1,1],\n",
    "    [0,1,1,1,1,1,1,1,1,1,1,1,1,1],\n",
    "    [0,0,0,0,0,0,0,0,0,1,1,1,1,1],\n",
    "    [0,1,1,1,1,1,1,1,1,1,1,0,0,0],\n",
    "    [0,0,0,1,1,1,1,1,1,1,1,0,0,0],\n",
    "    [0,0,0,0,0,0,0,1,1,1,1,0,0,0],\n",
    "    [1,1,1,1,1,1,1,1,1,1,0,0,1,1],\n",
    "    [1,1,1,0,0,0,1,1,1,1,1,1,1,1],\n",
    "    [1,1,1,0,0,0,1,1,1,1,1,1,1,1],\n",
    "]\n",
    "\n",
    "x = 4\n",
    "y = 5\n",
    "tray2 = [\n",
    "    [0,0,1,1,0],\n",
    "    [0,0,0,1,1],\n",
    "    [1,1,1,1,1],\n",
    "    [0,0,0,0,0]\n",
    "]"
   ]
  },
  {
   "cell_type": "code",
   "execution_count": 27,
   "id": "9234b40f",
   "metadata": {},
   "outputs": [],
   "source": [
    "# Try\n",
    "def dfs(tray, n, m):\n",
    "    visited = [[False] * m for _ in range(n)]\n",
    "    result = 0\n",
    "    stack = []\n",
    "    direction = [(-1,0), (1,0), (0, -1), (0, 1)]\n",
    "\n",
    "    for i in range(n):\n",
    "        for j in range(m):\n",
    "            if tray[i][j] == 0 and visited[i][j] == False:\n",
    "                stack.append((i, j))\n",
    "                visited[i][j] = True\n",
    "                while stack:\n",
    "                    row, col = stack.pop()\n",
    "                    visited[row][col] = True\n",
    "                    for k in range(len(direction)):\n",
    "                        nx = row + direction[k][0]\n",
    "                        ny = col + direction[k][1]\n",
    "                        if 0 <= nx < n and 0 <= ny < m :\n",
    "                            if tray[nx][ny] == 0 and visited[nx][ny] == False:\n",
    "                                stack.append((nx, ny))\n",
    "                result += 1\n",
    "\n",
    "    return result"
   ]
  },
  {
   "cell_type": "code",
   "execution_count": 28,
   "id": "03fb421b",
   "metadata": {},
   "outputs": [
    {
     "name": "stdout",
     "output_type": "stream",
     "text": [
      "8\n",
      "3\n"
     ]
    }
   ],
   "source": [
    "print(dfs(tray, n, m))\n",
    "print(dfs(tray2, x, y))"
   ]
  },
  {
   "cell_type": "code",
   "execution_count": 34,
   "id": "fb075801",
   "metadata": {},
   "outputs": [
    {
     "name": "stdout",
     "output_type": "stream",
     "text": [
      "8\n"
     ]
    }
   ],
   "source": [
    "# Solution\n",
    "# DFS로 특정한 노드를 방문한 뒤에 연결된 모든 노드들도 방문\n",
    "def dfs(graph, x, y):\n",
    "    # 주어진 범위를 벗어나는 경우에는 즉시 종료\n",
    "    if x <= -1 or x >= n or y <= -1 or y >= m:\n",
    "        return False\n",
    "    # 현재 노드를 아직 방문하지 않았다면\n",
    "    if graph[x][y] == 0:\n",
    "        # 해당 노드 방문 처리\n",
    "        graph[x][y] = 1\n",
    "        # 상, 하, 좌, 우의 위치도 모두 재귀적으로 호출\n",
    "        dfs(graph, x - 1, y)\n",
    "        dfs(graph, x, y -1)\n",
    "        dfs(graph, x + 1, y)\n",
    "        dfs(graph, x, y + 1)\n",
    "        return True\n",
    "    return False\n",
    "\n",
    "result = 0\n",
    "for i in range(n):\n",
    "    for j in range(m):\n",
    "        if dfs(tray, i, j) == True:\n",
    "            result += 1\n",
    "\n",
    "print(result)"
   ]
  },
  {
   "cell_type": "markdown",
   "id": "794f7f67",
   "metadata": {},
   "source": [
    "> 1. 특정한 지점의 주변 상, 하, 좌, 우를 살펴본 뒤에 주변 지점 중에서 값이 '0'이면서 아직 방문하지 않은 지점이 있다면 해당 지점을 방문한다.\n",
    "2. 방문한 지점에서 다시 상, 하, 좌, 우를 살펴보면서 방문을 다시 진행하면, 연결된 모든 지점을 방문할 수 있다.\n",
    "3. 1 ~ 2번의 과정을 모든 노드에 반복하며 방문하지 않은 지점의 수를 센다."
   ]
  }
 ],
 "metadata": {
  "kernelspec": {
   "display_name": "Python 3",
   "language": "python",
   "name": "python3"
  },
  "language_info": {
   "codemirror_mode": {
    "name": "ipython",
    "version": 3
   },
   "file_extension": ".py",
   "mimetype": "text/x-python",
   "name": "python",
   "nbconvert_exporter": "python",
   "pygments_lexer": "ipython3",
   "version": "3.8.8"
  }
 },
 "nbformat": 4,
 "nbformat_minor": 5
}
